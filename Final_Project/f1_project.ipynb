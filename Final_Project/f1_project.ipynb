{
 "cells": [
  {
   "cell_type": "markdown",
   "id": "f6c601a3",
   "metadata": {},
   "source": [
    "# Predicting Fernando Alonso position in the Spanish Grand Prix in 2023."
   ]
  },
  {
   "cell_type": "markdown",
   "id": "c899d425",
   "metadata": {},
   "source": [
    "### Main Goal"
   ]
  },
  {
   "cell_type": "markdown",
   "id": "11bf1eb3",
   "metadata": {},
   "source": [
    "Imagine you are a restaurant and you want to grow with a trend. Then you hear that everybody is mentioning the 33 in twitter but you do not know exactly what is happening. You realized that they want to see the 33rd victory of Fernando Alonso's in his career. \n",
    "Then you come up with an idea to gain attention, which is offerring 33% of discount on the meals if Fernado wins the 33 in Spain. However you want to know what are the probabilities of this happening. \n",
    "The idea of this project is to analyze past data to predict the probability of Fernando winning the race and the predicted. The probability of Fernando winning the race is important to understand the the impact on economical terms and too see if it's vaible or not."
   ]
  },
  {
   "cell_type": "markdown",
   "id": "eb51f9cc",
   "metadata": {},
   "source": [
    "# Import of libraries"
   ]
  },
  {
   "cell_type": "code",
   "execution_count": 1,
   "id": "6e5444ff",
   "metadata": {},
   "outputs": [],
   "source": [
    "from sklearn.model_selection import GridSearchCV, KFold\n",
    "import pickle\n",
    "from sklearn.ensemble import GradientBoostingRegressor\n",
    "from sklearn.model_selection import cross_val_score\n",
    "import seaborn as sns\n",
    "import requests\n",
    "from scipy.stats import norm\n",
    "import functions as f2\n",
    "from sklearn.pipeline import Pipeline\n",
    "from sklearn.naive_bayes import GaussianNB\n",
    "from sklearn.compose import make_column_transformer\n",
    "import fastf1 as ff1\n",
    "import pandas as pd\n",
    "import warnings\n",
    "import matplotlib.pyplot as plt\n",
    "import numpy as np\n",
    "import xgboost as xgb\n",
    "from sklearn.model_selection import train_test_split,  cross_val_predict\n",
    "from sklearn.linear_model import LinearRegression\n",
    "from sklearn.metrics import mean_squared_error, r2_score\n",
    "from sklearn.preprocessing import StandardScaler\n",
    "from imblearn.pipeline import make_pipeline\n",
    "from sklearn.preprocessing import OneHotEncoder\n",
    "from sklearn.compose import ColumnTransformer\n",
    "from sklearn.ensemble import RandomForestRegressor\n",
    "import itertools\n",
    "from sklearn.tree import DecisionTreeRegressor\n",
    "warnings.filterwarnings(\"ignore\")\n",
    "from datetime import timedelta\n",
    "%load_ext autoreload\n",
    "%autoreload 2"
   ]
  },
  {
   "cell_type": "markdown",
   "id": "7653532c",
   "metadata": {},
   "source": [
    "First let's try to get all the data that we have in csv files."
   ]
  },
  {
   "cell_type": "code",
   "execution_count": 2,
   "id": "2a88800a",
   "metadata": {},
   "outputs": [],
   "source": [
    "pit_stops = pd.read_csv(\"Data/pit_stops.csv\")\n",
    "status = pd.read_csv(\"Data/status.csv\")\n",
    "montmelo_races = pd.read_csv(\"Data/montmelo_scheldule.csv\")\n",
    "circuits = pd.read_csv(\"Data/circuits.csv\")\n",
    "constructor_results = pd.read_csv(\"Data/constructor_results.csv\")\n",
    "constructor_standings = pd.read_csv(\"Data/constructor_standings.csv\")\n",
    "constructors = pd.read_csv(\"Data/constructors.csv\")\n",
    "driver_standings = pd.read_csv(\"Data/driver_standings.csv\")\n",
    "drivers = pd.read_csv(\"Data/drivers.csv\")\n",
    "lap_times = pd.read_csv(\"Data/lap_times.csv\")\n",
    "qualifying = pd.read_csv(\"Data/qualifying.csv\")\n",
    "races = pd.read_csv(\"Data/races.csv\")\n",
    "results = pd.read_csv(\"Data/results.csv\")\n",
    "seasons = pd.read_csv(\"Data/seasons.csv\")\n",
    "race_weather = pd.read_csv(\"Data/race_weather.csv\")\n",
    "sprint_results = pd.read_csv(\"Data/sprint_results.csv\")\n",
    "qualifying_2023 = pd.read_excel(\"Data/qualifying_2023.xls\")\n",
    "weather_quali= pd.read_csv(\"Data/weather_quali.csv\")"
   ]
  },
  {
   "cell_type": "code",
   "execution_count": 3,
   "id": "5dcf4242",
   "metadata": {},
   "outputs": [],
   "source": [
    "lap_times['sum_time_race']=lap_times.groupby(['raceId','driverId'])['milliseconds'].cumsum()"
   ]
  },
  {
   "cell_type": "markdown",
   "id": "c133709e",
   "metadata": {},
   "source": [
    "One thing to say is that we had the weather data by calling the visual crossing api. However, we did not put the function of calling API here, since we have a type of account that is limited the number of requests you are abe to do. So we have called the API and we have saved the data in excel files."
   ]
  },
  {
   "cell_type": "markdown",
   "id": "d6f762b5",
   "metadata": {},
   "source": [
    "# Part 1- Qualifying"
   ]
  },
  {
   "cell_type": "markdown",
   "id": "6143c37f",
   "metadata": {},
   "source": [
    "The main goal in this part is to have a dataframe that allow us to predict the best laptime in qualifying per each driver. The idea is to take into account past data, such as lap times,teams kpi's, drivers kpi's, circuits and more."
   ]
  },
  {
   "cell_type": "markdown",
   "id": "385d4ec9",
   "metadata": {},
   "source": [
    "## 1. Creation of the dataframe and data wrangling"
   ]
  },
  {
   "cell_type": "markdown",
   "id": "72f067dc",
   "metadata": {},
   "source": [
    "1. First we want to know the circuit that took place each race. In order to do that, we will do a join between races and circuits."
   ]
  },
  {
   "cell_type": "code",
   "execution_count": 4,
   "id": "f7954a27",
   "metadata": {},
   "outputs": [],
   "source": [
    "race_information=races.merge(circuits,on=['circuitId'],how='inner')\n",
    "race_information.rename(columns={'name_y':'circuit','name_x':'grand_prix'},inplace=True)\n",
    "race_information.drop('grand_prix',axis=1,inplace=True)"
   ]
  },
  {
   "cell_type": "markdown",
   "id": "a1d92cba",
   "metadata": {},
   "source": [
    "2. After we have this information, we will join the race_information with the qualifying table. This will create a base for the qualifying information that we will need for the model."
   ]
  },
  {
   "cell_type": "code",
   "execution_count": 5,
   "id": "1e3f3828",
   "metadata": {},
   "outputs": [],
   "source": [
    "qualifying_dataframe = qualifying.merge(race_information[['raceId','year','round','circuit']],on='raceId',how='inner').rename(columns={'name':'grand_prix'})"
   ]
  },
  {
   "cell_type": "markdown",
   "id": "38b0332b",
   "metadata": {},
   "source": [
    "3. Also we want to have the full name of the driver and the constructor's name, so it is easier to identify."
   ]
  },
  {
   "cell_type": "code",
   "execution_count": 6,
   "id": "81675cd5",
   "metadata": {},
   "outputs": [],
   "source": [
    "drivers['driver_fullname'] = drivers['forename']+\" \"+drivers['surname']"
   ]
  },
  {
   "cell_type": "code",
   "execution_count": 7,
   "id": "8edc9730",
   "metadata": {},
   "outputs": [],
   "source": [
    "qualifying_dataframe = qualifying_dataframe.merge(drivers[['driver_fullname','driverId']],on='driverId',how='inner')"
   ]
  },
  {
   "cell_type": "code",
   "execution_count": 8,
   "id": "de5bae09",
   "metadata": {},
   "outputs": [],
   "source": [
    "qualifying_dataframe = qualifying_dataframe.merge(constructors[['constructorId','name']],on=['constructorId'],how='inner').rename(columns={'name':'constructorName','position':'position_quali'})"
   ]
  },
  {
   "cell_type": "markdown",
   "id": "5a5c041e",
   "metadata": {},
   "source": [
    "4. Another important thing is to have the right data types for each column, specially for lap times. For the different qualifying session, we will transform the lap times into miliseconds by calling a function."
   ]
  },
  {
   "cell_type": "code",
   "execution_count": 9,
   "id": "b5c3e62c",
   "metadata": {},
   "outputs": [],
   "source": [
    "qualifying_dataframe['q1']=qualifying_dataframe['q1'].apply(lambda x: f2.string_to_miliseconds(x))"
   ]
  },
  {
   "cell_type": "code",
   "execution_count": 10,
   "id": "87fdfa63",
   "metadata": {},
   "outputs": [],
   "source": [
    "qualifying_dataframe['q2']=qualifying_dataframe['q2'].apply(lambda x: f2.string_to_miliseconds(x))"
   ]
  },
  {
   "cell_type": "code",
   "execution_count": 11,
   "id": "87014a85",
   "metadata": {},
   "outputs": [],
   "source": [
    "qualifying_dataframe['q3']=qualifying_dataframe['q3'].apply(lambda x: f2.string_to_miliseconds(x))"
   ]
  },
  {
   "cell_type": "markdown",
   "id": "ed54b0ac",
   "metadata": {},
   "source": [
    "5. There are columns that we will not need, so we will drop it from our actual dataframe."
   ]
  },
  {
   "cell_type": "code",
   "execution_count": 12,
   "id": "cbc93e51",
   "metadata": {},
   "outputs": [],
   "source": [
    "qualifying_dataframe.drop(['qualifyId','number'],axis=1, inplace=True)"
   ]
  },
  {
   "cell_type": "markdown",
   "id": "75d57a79",
   "metadata": {},
   "source": [
    "6. Also we want to know the position that each driver ended in that race. To do that, we will merge with the results table, which contains the results of the races."
   ]
  },
  {
   "cell_type": "code",
   "execution_count": 13,
   "id": "faf57e00",
   "metadata": {},
   "outputs": [],
   "source": [
    "qualifying_dataframe = qualifying_dataframe.merge(results[['raceId','driverId','constructorId','positionOrder']],\n",
    "                                 on=['raceId','driverId','constructorId'],how='inner').rename(columns={'positionOrder':'position_race'})"
   ]
  },
  {
   "cell_type": "markdown",
   "id": "6973bb6b",
   "metadata": {},
   "source": [
    "7. Since there are missing data before 2003, we will filter out all the data before that year."
   ]
  },
  {
   "cell_type": "code",
   "execution_count": 14,
   "id": "14c1117a",
   "metadata": {},
   "outputs": [],
   "source": [
    "qualifying_dataframe=qualifying_dataframe[qualifying_dataframe.year>2002]"
   ]
  },
  {
   "cell_type": "markdown",
   "id": "97bb73df",
   "metadata": {},
   "source": [
    "8. Here, we want to know for every race, which position ended each driver in terms of doing the fastest lap or not. This  could give us information on how quick is driver in only one lap."
   ]
  },
  {
   "cell_type": "code",
   "execution_count": 15,
   "id": "62d0902a",
   "metadata": {},
   "outputs": [],
   "source": [
    "qualifying_dataframe=qualifying_dataframe.merge(results[['raceId','driverId','constructorId','rank']]\n",
    "                               ,on=['raceId','driverId','constructorId'],how='inner').rename(columns={'rank':'rank_fastest_lap_race'})"
   ]
  },
  {
   "cell_type": "markdown",
   "id": "821e846e",
   "metadata": {},
   "source": [
    "### 1.1 Qualifying 2023"
   ]
  },
  {
   "cell_type": "markdown",
   "id": "ccc409f9",
   "metadata": {},
   "source": [
    "1. In the initial database, we do not have the data for the 3 occurred in 2023. We have uploaded the missing information on a csv a now we will transform in order to do the join correctly."
   ]
  },
  {
   "cell_type": "code",
   "execution_count": 16,
   "id": "bb05d326",
   "metadata": {},
   "outputs": [],
   "source": [
    "qualifying_2023['q1']=qualifying_2023['q1'].apply(lambda x: f2.string_to_miliseconds(x))\n",
    "qualifying_2023['q2']=qualifying_2023['q2'].apply(lambda x: f2.string_to_miliseconds(x))\n",
    "qualifying_2023['q3']=qualifying_2023['q3'].apply(lambda x: f2.string_to_miliseconds(x))"
   ]
  },
  {
   "cell_type": "markdown",
   "id": "92684fcf",
   "metadata": {},
   "source": [
    "2. In order to make things easier, we will assign a raceId to the three races of 2023."
   ]
  },
  {
   "cell_type": "code",
   "execution_count": 17,
   "id": "c33df21a",
   "metadata": {},
   "outputs": [],
   "source": [
    "qualifying_2023.loc[(qualifying_2023.circuit=='Albert Park Grand Prix Circuit')&\n",
    "                                 (qualifying_2023.year==2023),'raceId']=1700"
   ]
  },
  {
   "cell_type": "code",
   "execution_count": 18,
   "id": "2757fbb2",
   "metadata": {},
   "outputs": [],
   "source": [
    "qualifying_2023.loc[(qualifying_2023.circuit=='Jeddah Corniche Circuit')&\n",
    "                                 (qualifying_2023.year==2023),'raceId']=1600"
   ]
  },
  {
   "cell_type": "code",
   "execution_count": 19,
   "id": "03e30fed",
   "metadata": {},
   "outputs": [],
   "source": [
    "qualifying_2023.loc[(qualifying_2023.circuit.str.contains('Bahrain'))&(qualifying_2023.year==2023),'raceId']=1500"
   ]
  },
  {
   "cell_type": "markdown",
   "id": "8c7481d9",
   "metadata": {},
   "source": [
    "3. Now that we have prepared the data of the qualifying of 2023, we will join the qualifying 2023 with the qualifying dataframe."
   ]
  },
  {
   "cell_type": "code",
   "execution_count": 20,
   "id": "49cebb21",
   "metadata": {},
   "outputs": [],
   "source": [
    "qualifying_dataframe = qualifying_dataframe.merge(qualifying_2023, on =['position_race', 'q1', 'q2', 'q3', 'year', 'driver_fullname',\n",
    "       'constructorName','round','circuit','position_quali','raceId'],how='outer').drop(columns=['rank_fastest_lap_race'])\n",
    "\n"
   ]
  },
  {
   "cell_type": "markdown",
   "id": "45e89ec2",
   "metadata": {},
   "source": [
    "4. When we have all the best laptimes per each driver and per each race, we will calculate the last laptime per each driver. This will register the best laptime according to the last qualifying phase they participated. For example, even if the driver has qualified to Q3 but he had a better time in Q2, it will register the best laptime that he had in Q3."
   ]
  },
  {
   "cell_type": "code",
   "execution_count": 21,
   "id": "04b2edb1",
   "metadata": {},
   "outputs": [],
   "source": [
    "qualifying_dataframe['final_laptime']=np.where(qualifying_dataframe['q3']>0,qualifying_dataframe['q3'],\n",
    "                                      np.where(qualifying_dataframe['q2']>0,qualifying_dataframe['q2'],\n",
    "                                              qualifying_dataframe['q1']))"
   ]
  },
  {
   "cell_type": "markdown",
   "id": "b4a06141",
   "metadata": {},
   "source": [
    "5. There are few teams that they change name during the years. In order to make it easier for the analysis,\n",
    "we will put as the newest names."
   ]
  },
  {
   "cell_type": "code",
   "execution_count": 22,
   "id": "15ebb93f",
   "metadata": {},
   "outputs": [],
   "source": [
    "teams = {'Renault':'Alpine F1 Team','Haas F1 Team':'Haas','Toro Rosso':'AlphaTauri','Alpine':'Alpine F1 Team'}"
   ]
  },
  {
   "cell_type": "code",
   "execution_count": 23,
   "id": "b9e797b8",
   "metadata": {},
   "outputs": [],
   "source": [
    "qualifying_dataframe['constructorName']=qualifying_dataframe['constructorName'].apply(lambda x: teams[x]\n",
    "                                                                                     if x in teams.keys()\n",
    "                                                                                     else x)"
   ]
  },
  {
   "cell_type": "markdown",
   "id": "c1f7e333",
   "metadata": {},
   "source": [
    "## 1.2 Calculation of team's kpis and driver's kpis."
   ]
  },
  {
   "cell_type": "markdown",
   "id": "c7659955",
   "metadata": {},
   "source": [
    "1. We will calculate the rank per race to know the order of races."
   ]
  },
  {
   "cell_type": "code",
   "execution_count": 24,
   "id": "34407dd1",
   "metadata": {},
   "outputs": [],
   "source": [
    "qualifying_dataframe[\"rank\"] = qualifying_dataframe[[\"year\",\"round\"]].apply(tuple,axis=1)\\\n",
    "             .rank(method='dense',ascending=True).astype(int)"
   ]
  },
  {
   "cell_type": "markdown",
   "id": "d801647a",
   "metadata": {},
   "source": [
    "2. To make things easier to compare, we will calculate for every qualifying seassion, the gap to the leader for each driver. We do this because lap times are highly influenced for the circuits (distance, number of straights, number of corners...)."
   ]
  },
  {
   "cell_type": "code",
   "execution_count": 25,
   "id": "8d7e0346",
   "metadata": {},
   "outputs": [],
   "source": [
    "qualifying_dataframe['gap_to_leader_driver']=qualifying_dataframe.loc[qualifying_dataframe.final_laptime>0,'final_laptime']-qualifying_dataframe.groupby('rank')['final_laptime'].transform('min')"
   ]
  },
  {
   "cell_type": "markdown",
   "id": "8cf8730a",
   "metadata": {},
   "source": [
    "3. One kpi that we want to add is if the driver beat his teammate. This is a good kpi for driver performance, since each team has different performance and the car plays a huge role in lap times. First we will do this comparison in race and then in qualifying. Also, we will calculate the average position for the two drivers, to have a kpi for the team."
   ]
  },
  {
   "cell_type": "code",
   "execution_count": 26,
   "id": "f7d51e92",
   "metadata": {},
   "outputs": [],
   "source": [
    "qualifying_dataframe[\"best_position_race_team\"]=qualifying_dataframe.groupby(['raceId','constructorName'])['position_race'].transform('min')"
   ]
  },
  {
   "cell_type": "code",
   "execution_count": 27,
   "id": "e4b78dc7",
   "metadata": {},
   "outputs": [],
   "source": [
    "qualifying_dataframe[\"worst_position_race_team\"]=qualifying_dataframe.groupby(['raceId','constructorName'])['position_race'].transform('max')"
   ]
  },
  {
   "cell_type": "code",
   "execution_count": 28,
   "id": "73ed1c65",
   "metadata": {},
   "outputs": [],
   "source": [
    "qualifying_dataframe['beat_teammate_race']=np.where(qualifying_dataframe[\"position_race\"]<qualifying_dataframe[\"worst_position_race_team\"],\n",
    "                                            1,0)"
   ]
  },
  {
   "cell_type": "code",
   "execution_count": 29,
   "id": "1483bca5",
   "metadata": {},
   "outputs": [],
   "source": [
    "qualifying_dataframe['avg_position_race_team']=(qualifying_dataframe['best_position_race_team']+qualifying_dataframe[\"worst_position_race_team\"])/2\n"
   ]
  },
  {
   "cell_type": "markdown",
   "id": "11d47cbf",
   "metadata": {},
   "source": [
    "Let's create the column to know if the driver beat his teammate or not in quali. Also to know the average position of the team in qualifying."
   ]
  },
  {
   "cell_type": "code",
   "execution_count": 30,
   "id": "7261bc2c",
   "metadata": {},
   "outputs": [],
   "source": [
    "qualifying_dataframe[\"best_position_quali_team\"]=qualifying_dataframe.groupby(['raceId','constructorName'])['position_quali'].transform('min')"
   ]
  },
  {
   "cell_type": "code",
   "execution_count": 31,
   "id": "4c75e0bb",
   "metadata": {},
   "outputs": [],
   "source": [
    "qualifying_dataframe[\"worst_position_quali_team\"]=qualifying_dataframe.groupby(['raceId','constructorName'])['position_quali'].transform('max')"
   ]
  },
  {
   "cell_type": "code",
   "execution_count": 32,
   "id": "75e128a8",
   "metadata": {},
   "outputs": [],
   "source": [
    "qualifying_dataframe['beat_teammate_quali']=np.where(qualifying_dataframe['best_position_quali_team']==qualifying_dataframe['position_quali'],\n",
    "                                            1,0)"
   ]
  },
  {
   "cell_type": "code",
   "execution_count": 33,
   "id": "ca349186",
   "metadata": {},
   "outputs": [],
   "source": [
    "qualifying_dataframe['avg_quali_position_team']=(qualifying_dataframe['best_position_quali_team']+qualifying_dataframe[\"worst_position_quali_team\"])/2"
   ]
  },
  {
   "cell_type": "markdown",
   "id": "d0d8b80b",
   "metadata": {},
   "source": [
    "4. Another kpi that we want to know if the driver has qualified in order to participate in Q2 and Q3. After we will filter the data above 2005, since it was when the format of qualifying was divided in three phases (Q1,Q2 and Q3)."
   ]
  },
  {
   "cell_type": "code",
   "execution_count": 34,
   "id": "551d0bfd",
   "metadata": {},
   "outputs": [],
   "source": [
    "qualifying_dataframe['is_q2_driver']=np.where(qualifying_dataframe['q2']>0,1,0)"
   ]
  },
  {
   "cell_type": "code",
   "execution_count": 35,
   "id": "95cb68e5",
   "metadata": {},
   "outputs": [],
   "source": [
    "qualifying_dataframe['is_q3_driver']=np.where(qualifying_dataframe['q3']>0,1,\n",
    "                                               np.where(qualifying_dataframe['position_quali']<=10,1,0))"
   ]
  },
  {
   "cell_type": "code",
   "execution_count": 36,
   "id": "a5cc2ad2",
   "metadata": {},
   "outputs": [],
   "source": [
    "qualifying_dataframe.drop(['q1','q2','q3'],axis=1,inplace=True)"
   ]
  },
  {
   "cell_type": "markdown",
   "id": "96efc0d3",
   "metadata": {},
   "source": [
    "5. We want to calculate the average position in race from the 3 previous race and the avergae position in from the 3 previous qualifying per driver"
   ]
  },
  {
   "cell_type": "code",
   "execution_count": 37,
   "id": "72bb8b11",
   "metadata": {},
   "outputs": [],
   "source": [
    "qualifying_dataframe=qualifying_dataframe.sort_values(by=['rank','driver_fullname'])"
   ]
  },
  {
   "cell_type": "code",
   "execution_count": 38,
   "id": "e52f51ad",
   "metadata": {},
   "outputs": [],
   "source": [
    "qualifying_dataframe['position_prev_race_driver']= qualifying_dataframe.groupby(['driver_fullname'])['position_race'].shift(1)\n",
    "qualifying_dataframe['position_2_prev_race_driver']= qualifying_dataframe.groupby(['driver_fullname'])['position_race'].shift(2)\n",
    "qualifying_dataframe['position_3_prev_race_driver']= qualifying_dataframe.groupby(['driver_fullname'])['position_race'].shift(3)"
   ]
  },
  {
   "cell_type": "code",
   "execution_count": 39,
   "id": "59adeb67",
   "metadata": {},
   "outputs": [],
   "source": [
    "qualifying_dataframe['avg_position_3_prev_races_driver']=(qualifying_dataframe['position_prev_race_driver']+qualifying_dataframe['position_2_prev_race_driver']\n",
    "                                                +qualifying_dataframe['position_3_prev_race_driver'])/3"
   ]
  },
  {
   "cell_type": "code",
   "execution_count": 40,
   "id": "3e632956",
   "metadata": {},
   "outputs": [],
   "source": [
    "qualifying_dataframe.drop(['position_2_prev_race_driver','position_3_prev_race_driver'],axis=1,inplace=True)"
   ]
  },
  {
   "cell_type": "markdown",
   "id": "17698c18",
   "metadata": {},
   "source": [
    "Now let's do it for 3 previous qualifying sessions."
   ]
  },
  {
   "cell_type": "code",
   "execution_count": 41,
   "id": "e5ad6603",
   "metadata": {},
   "outputs": [],
   "source": [
    "qualifying_dataframe['position_prev_quali_driver']= qualifying_dataframe.groupby(['driver_fullname'])['position_quali'].shift(1)\n",
    "qualifying_dataframe['position_2_prev_quali_driver']= qualifying_dataframe.groupby(['driver_fullname'])['position_quali'].shift(2)\n",
    "qualifying_dataframe['position_3_prev_quali_driver']= qualifying_dataframe.groupby(['driver_fullname'])['position_quali'].shift(3)"
   ]
  },
  {
   "cell_type": "code",
   "execution_count": 42,
   "id": "5b16bb2d",
   "metadata": {},
   "outputs": [],
   "source": [
    "qualifying_dataframe['avg_position_3_prev_qualis_driver']=(qualifying_dataframe['position_prev_quali_driver']+qualifying_dataframe['position_2_prev_quali_driver']\n",
    "                                                +qualifying_dataframe['position_3_prev_quali_driver'])/3"
   ]
  },
  {
   "cell_type": "code",
   "execution_count": 43,
   "id": "1f9b251d",
   "metadata": {},
   "outputs": [],
   "source": [
    "qualifying_dataframe.drop(['position_2_prev_quali_driver','position_3_prev_quali_driver'],axis=1,inplace=True)"
   ]
  },
  {
   "cell_type": "markdown",
   "id": "6a4a6968",
   "metadata": {},
   "source": [
    "6. Another thing to do is calculate the percentage of how many times did he beat his teammate in the previous 3 qualifying sessions."
   ]
  },
  {
   "cell_type": "code",
   "execution_count": 44,
   "id": "78603130",
   "metadata": {},
   "outputs": [],
   "source": [
    "qualifying_dataframe['prev_quali_beat_teamamte']= qualifying_dataframe.groupby(['driver_fullname'])['beat_teammate_race'].shift(1)\n",
    "qualifying_dataframe['2_prev_quali_beat_teamamte']= qualifying_dataframe.groupby(['driver_fullname'])['beat_teammate_race'].shift(2)\n",
    "qualifying_dataframe['3_prev_quali_beat_teamamte']= qualifying_dataframe.groupby(['driver_fullname'])['beat_teammate_race'].shift(3)"
   ]
  },
  {
   "cell_type": "code",
   "execution_count": 45,
   "id": "f841d4e7",
   "metadata": {},
   "outputs": [],
   "source": [
    "qualifying_dataframe['avg_percentage_3_qualis_beat_teammate']=(qualifying_dataframe['prev_quali_beat_teamamte']+qualifying_dataframe['2_prev_quali_beat_teamamte']\n",
    "                                                +qualifying_dataframe['3_prev_quali_beat_teamamte'])/3"
   ]
  },
  {
   "cell_type": "code",
   "execution_count": 46,
   "id": "6a3241fa",
   "metadata": {},
   "outputs": [],
   "source": [
    "qualifying_dataframe.drop(['2_prev_quali_beat_teamamte','3_prev_quali_beat_teamamte'],axis=1,inplace=True)"
   ]
  },
  {
   "cell_type": "markdown",
   "id": "8b4a4f22",
   "metadata": {},
   "source": [
    "7. Also we would like to calculate the gap to the leader for every driver."
   ]
  },
  {
   "cell_type": "code",
   "execution_count": 47,
   "id": "27d1a40b",
   "metadata": {},
   "outputs": [],
   "source": [
    "qualifying_dataframe['prev_quali_gap_to_leader_driver']= qualifying_dataframe.groupby(['driver_fullname'])['gap_to_leader_driver'].shift(1)\n",
    "qualifying_dataframe['2_prev_quali_gap_to_leader_driver']= qualifying_dataframe.groupby(['driver_fullname'])['gap_to_leader_driver'].shift(2)\n",
    "qualifying_dataframe['3_prev_quali_gap_to_leader_driver']= qualifying_dataframe.groupby(['driver_fullname'])['gap_to_leader_driver'].shift(3)"
   ]
  },
  {
   "cell_type": "code",
   "execution_count": 48,
   "id": "a32c2324",
   "metadata": {},
   "outputs": [],
   "source": [
    "qualifying_dataframe['avg_gap_to_leader_3_qualis_driver']=(qualifying_dataframe['prev_quali_gap_to_leader_driver']+qualifying_dataframe['2_prev_quali_gap_to_leader_driver']\n",
    "                                                +qualifying_dataframe['3_prev_quali_gap_to_leader_driver'])/3"
   ]
  },
  {
   "cell_type": "markdown",
   "id": "398eade9",
   "metadata": {},
   "source": [
    "8. Also we would like to calculate the gap to leader for the best lap in the team. 9. Also we want to calculate the average of the average position per team in quali and the average position per team in race."
   ]
  },
  {
   "cell_type": "code",
   "execution_count": 49,
   "id": "c67a14b1",
   "metadata": {},
   "outputs": [],
   "source": [
    "qualifying_dataframe['gap_to_leader_team']=qualifying_dataframe.groupby(['raceId','constructorName'])['gap_to_leader_driver'].transform('min')"
   ]
  },
  {
   "cell_type": "code",
   "execution_count": 50,
   "id": "bd71970d",
   "metadata": {},
   "outputs": [],
   "source": [
    "qualifying_dataframe_team=qualifying_dataframe[['rank','constructorName','avg_quali_position_team','avg_position_race_team','gap_to_leader_team']].drop_duplicates()"
   ]
  },
  {
   "cell_type": "code",
   "execution_count": 51,
   "id": "df1c344d",
   "metadata": {},
   "outputs": [],
   "source": [
    "qualifying_dataframe_team['avg_prev_quali_position_team']= qualifying_dataframe_team.groupby(['constructorName'])['avg_quali_position_team'].shift(1)\n",
    "qualifying_dataframe_team['2_avg_prev_quali_position_team']= qualifying_dataframe_team.groupby(['constructorName'])['avg_quali_position_team'].shift(2)\n",
    "qualifying_dataframe_team['3_avg_prev_quali_position_team']= qualifying_dataframe_team.groupby(['constructorName'])['avg_quali_position_team'].shift(3)\n",
    "qualifying_dataframe_team['avg_3_prev_qualis_position_team']=(qualifying_dataframe_team['avg_prev_quali_position_team']+qualifying_dataframe_team['2_avg_prev_quali_position_team']\n",
    "                                                +qualifying_dataframe_team['3_avg_prev_quali_position_team'])/3"
   ]
  },
  {
   "cell_type": "code",
   "execution_count": 52,
   "id": "9ade3c74",
   "metadata": {},
   "outputs": [],
   "source": [
    "qualifying_dataframe_team['avg_prev_race_position_team']= qualifying_dataframe_team.groupby(['constructorName'])['avg_position_race_team'].shift(1)\n",
    "qualifying_dataframe_team['2_avg_prev_race_position_team']= qualifying_dataframe_team.groupby(['constructorName'])['avg_position_race_team'].shift(2)\n",
    "qualifying_dataframe_team['3_avg_prev_race_position_team']= qualifying_dataframe_team.groupby(['constructorName'])['avg_position_race_team'].shift(3)\n",
    "qualifying_dataframe_team['avg_3_prev_races_position_team']=(qualifying_dataframe_team['avg_prev_race_position_team']+qualifying_dataframe_team['2_avg_prev_race_position_team']\n",
    "                                                +qualifying_dataframe_team['3_avg_prev_race_position_team'])/3"
   ]
  },
  {
   "cell_type": "code",
   "execution_count": 53,
   "id": "7c4c06ac",
   "metadata": {},
   "outputs": [],
   "source": [
    "qualifying_dataframe_team['prev_gap_to_leader_team']= qualifying_dataframe_team.groupby(['constructorName'])['gap_to_leader_team'].shift(1)\n",
    "qualifying_dataframe_team['2_prev_gap_to_leader_team']= qualifying_dataframe_team.groupby(['constructorName'])['gap_to_leader_team'].shift(2)\n",
    "qualifying_dataframe_team['3_prev_gap_to_leader_team']= qualifying_dataframe_team.groupby(['constructorName'])['gap_to_leader_team'].shift(3)\n",
    "qualifying_dataframe_team['avg_gap_to_leader_3_races_team']=(qualifying_dataframe_team['prev_gap_to_leader_team']+qualifying_dataframe_team['2_prev_gap_to_leader_team']\n",
    "                                                +qualifying_dataframe_team['3_prev_gap_to_leader_team'])/3"
   ]
  },
  {
   "cell_type": "code",
   "execution_count": 54,
   "id": "7c87b5ee",
   "metadata": {},
   "outputs": [],
   "source": [
    "qualifying_dataframe_team.drop(['2_avg_prev_quali_position_team','3_avg_prev_quali_position_team','2_avg_prev_race_position_team','3_avg_prev_race_position_team',\n",
    "                               'avg_quali_position_team','avg_position_race_team',\n",
    "                               '2_prev_gap_to_leader_team','3_prev_gap_to_leader_team','gap_to_leader_team'],axis=1,inplace=True)"
   ]
  },
  {
   "cell_type": "code",
   "execution_count": 55,
   "id": "3f292a71",
   "metadata": {},
   "outputs": [],
   "source": [
    "qualifying_dataframe=qualifying_dataframe.merge(qualifying_dataframe_team,on=['rank','constructorName'],how='inner')"
   ]
  },
  {
   "cell_type": "markdown",
   "id": "43186fbf",
   "metadata": {},
   "source": [
    "9. We would like to know the percentage of how many times has each driver beat his teammate in quali"
   ]
  },
  {
   "cell_type": "code",
   "execution_count": 56,
   "id": "556b14bd",
   "metadata": {},
   "outputs": [],
   "source": [
    "qualifying_dataframe['avg_percentaje_beat_teammate_quali_driver']=qualifying_dataframe.groupby('driver_fullname')['prev_quali_beat_teamamte'].cumsum()/(qualifying_dataframe.groupby('driver_fullname')['prev_quali_beat_teamamte'].cumcount())"
   ]
  },
  {
   "cell_type": "markdown",
   "id": "75ebd5e5",
   "metadata": {},
   "source": [
    "Also we would like to count how many poles(first position in qualifying) has done in this period."
   ]
  },
  {
   "cell_type": "code",
   "execution_count": 57,
   "id": "0d82cdda",
   "metadata": {},
   "outputs": [],
   "source": [
    "qualifying_dataframe['poles_prev_quali_driver']=np.where(qualifying_dataframe['position_prev_quali_driver']==1,\n",
    "                                                1,0)"
   ]
  },
  {
   "cell_type": "markdown",
   "id": "88270d2f",
   "metadata": {},
   "source": [
    "We will drop the columns that for the moment are no longer necessary"
   ]
  },
  {
   "cell_type": "code",
   "execution_count": 58,
   "id": "b9a7cfc1",
   "metadata": {},
   "outputs": [],
   "source": [
    "qualifying_dataframe.drop(['worst_position_quali_team','worst_position_race_team','driverId', 'constructorId',\n",
    "                          'round','best_position_race_team', 'worst_position_race_team',\n",
    "       'beat_teammate_race','best_position_quali_team', 'worst_position_quali_team',\n",
    "       'beat_teammate_quali'],axis=1,inplace=True)"
   ]
  },
  {
   "cell_type": "markdown",
   "id": "7d89e95e",
   "metadata": {},
   "source": [
    "10. Now we filter for 2006 and above, when the qualifying session was divided by three parts, just as now. Before in 2005, the qualifying session was divided in two sessions/days."
   ]
  },
  {
   "cell_type": "code",
   "execution_count": 59,
   "id": "84488f41",
   "metadata": {},
   "outputs": [],
   "source": [
    "qualifying_dataframe=qualifying_dataframe[qualifying_dataframe.year>2005].reset_index()"
   ]
  },
  {
   "cell_type": "code",
   "execution_count": 60,
   "id": "1c859a77",
   "metadata": {},
   "outputs": [],
   "source": [
    "qualifying_dataframe['q2_previous_qualifying_driver']=qualifying_dataframe.groupby(['driver_fullname'])['is_q2_driver'].shift(1)\n",
    "qualifying_dataframe['q3_previous_qualifying_driver']=qualifying_dataframe.groupby(['driver_fullname'])['is_q3_driver'].shift(1)"
   ]
  },
  {
   "cell_type": "code",
   "execution_count": 61,
   "id": "aee4e8af",
   "metadata": {},
   "outputs": [],
   "source": [
    "qualifying_dataframe['q2_percentage_driver']=qualifying_dataframe.groupby('driver_fullname')['q2_previous_qualifying_driver'].cumsum()/qualifying_dataframe.groupby('driver_fullname')['q2_previous_qualifying_driver'].cumcount()\n",
    "qualifying_dataframe['q3_percentage_driver']=qualifying_dataframe.groupby('driver_fullname')['q3_previous_qualifying_driver'].cumsum()/qualifying_dataframe.groupby('driver_fullname')['q3_previous_qualifying_driver'].cumcount()"
   ]
  },
  {
   "cell_type": "markdown",
   "id": "f0bfd553",
   "metadata": {},
   "source": [
    "Then we have all the columns needed and we will drop the columns that we don't need and we will filter with only the circuit Montmelo"
   ]
  },
  {
   "cell_type": "code",
   "execution_count": 62,
   "id": "09a68101",
   "metadata": {},
   "outputs": [],
   "source": [
    "qualifying_dataframe.drop(columns=['index', 'raceId', 'position_quali','position_race',\n",
    "                                  'rank','avg_quali_position_team', \n",
    "                                   'is_q2_driver', 'is_q3_driver','gap_to_leader_team','gap_to_leader_driver',\n",
    "                                  'avg_position_race_team','2_prev_quali_gap_to_leader_driver',\n",
    "       '3_prev_quali_gap_to_leader_driver'],inplace=True)"
   ]
  },
  {
   "cell_type": "code",
   "execution_count": 63,
   "id": "478461b0",
   "metadata": {},
   "outputs": [],
   "source": [
    "qualifying_dataframe_model=qualifying_dataframe.dropna()"
   ]
  },
  {
   "cell_type": "code",
   "execution_count": 64,
   "id": "57cf254c",
   "metadata": {},
   "outputs": [],
   "source": [
    "qualifying_dataframe_model_montmelo=qualifying_dataframe_model[qualifying_dataframe_model.circuit=='Circuit de Barcelona-Catalunya']"
   ]
  },
  {
   "cell_type": "markdown",
   "id": "d672ffdf",
   "metadata": {},
   "source": [
    "We will do the join to have the weather per race."
   ]
  },
  {
   "cell_type": "code",
   "execution_count": 65,
   "id": "65bedc4f",
   "metadata": {},
   "outputs": [],
   "source": [
    "qualifying_dataframe_model_montmelo=qualifying_dataframe_model_montmelo.merge(weather_quali[['year','temp','precip',\n",
    "                                                                                             'wind_speed']], on='year'\n",
    "                                                                              ,how='inner')"
   ]
  },
  {
   "cell_type": "markdown",
   "id": "543eddcc",
   "metadata": {},
   "source": [
    "11. Add special characteristics of the circuit"
   ]
  },
  {
   "cell_type": "markdown",
   "id": "30771c16",
   "metadata": {},
   "source": [
    "First we will put when the drs was introduced"
   ]
  },
  {
   "cell_type": "code",
   "execution_count": 66,
   "id": "6f094e67",
   "metadata": {},
   "outputs": [],
   "source": [
    "qualifying_dataframe_model_montmelo['is_drs']=np.where(qualifying_dataframe_model_montmelo['year']>=2011,1,0)"
   ]
  },
  {
   "cell_type": "markdown",
   "id": "c1193f4b",
   "metadata": {},
   "source": [
    "Then we will add the number of curves and the number of characteristics per year of the circuit."
   ]
  },
  {
   "cell_type": "markdown",
   "id": "944f30a4",
   "metadata": {},
   "source": [
    "From 2004 to 2006, there were this characteristics. 14 curves. 4.627 metres"
   ]
  },
  {
   "cell_type": "code",
   "execution_count": 67,
   "id": "e7148287",
   "metadata": {},
   "outputs": [],
   "source": [
    "qualifying_dataframe_model_montmelo.loc[qualifying_dataframe_model_montmelo.year.isin([2005,2006]),'metres']=4627\n",
    "qualifying_dataframe_model_montmelo.loc[qualifying_dataframe_model_montmelo.year.isin([2005,2006]),'curves']=14"
   ]
  },
  {
   "cell_type": "markdown",
   "id": "cbe1c38d",
   "metadata": {},
   "source": [
    "From 2007 to 2020, there were this characteristics. 16 curves. 4.655 metres"
   ]
  },
  {
   "cell_type": "code",
   "execution_count": 68,
   "id": "d24c7651",
   "metadata": {},
   "outputs": [],
   "source": [
    "years=list(range(2007,2021))\n",
    "qualifying_dataframe_model_montmelo.loc[qualifying_dataframe_model_montmelo.year.isin(years),'metres']=4655\n",
    "qualifying_dataframe_model_montmelo.loc[qualifying_dataframe_model_montmelo.year.isin(years),'curves']=16"
   ]
  },
  {
   "cell_type": "markdown",
   "id": "829908bf",
   "metadata": {},
   "source": [
    "From 2021 to 2022, there were this characteristics.16 curves 4.675 metres"
   ]
  },
  {
   "cell_type": "code",
   "execution_count": 69,
   "id": "e584c2cf",
   "metadata": {},
   "outputs": [],
   "source": [
    "qualifying_dataframe_model_montmelo.loc[qualifying_dataframe_model_montmelo.year.isin([2021,2022]),'metres']=4675\n",
    "qualifying_dataframe_model_montmelo.loc[qualifying_dataframe_model_montmelo.year.isin([2021,2022]),'curves']=16"
   ]
  },
  {
   "cell_type": "markdown",
   "id": "b56f6a3e",
   "metadata": {},
   "source": [
    "# 2 . Exploratory Data Analysis"
   ]
  },
  {
   "cell_type": "markdown",
   "id": "f123af95",
   "metadata": {},
   "source": [
    "First let's try to do a exploratory data analysis with the dataset."
   ]
  },
  {
   "cell_type": "code",
   "execution_count": 70,
   "id": "315e8f27",
   "metadata": {},
   "outputs": [
    {
     "data": {
      "text/html": [
       "<div>\n",
       "<style scoped>\n",
       "    .dataframe tbody tr th:only-of-type {\n",
       "        vertical-align: middle;\n",
       "    }\n",
       "\n",
       "    .dataframe tbody tr th {\n",
       "        vertical-align: top;\n",
       "    }\n",
       "\n",
       "    .dataframe thead th {\n",
       "        text-align: right;\n",
       "    }\n",
       "</style>\n",
       "<table border=\"1\" class=\"dataframe\">\n",
       "  <thead>\n",
       "    <tr style=\"text-align: right;\">\n",
       "      <th></th>\n",
       "      <th>final_laptime</th>\n",
       "    </tr>\n",
       "  </thead>\n",
       "  <tbody>\n",
       "    <tr>\n",
       "      <th>year</th>\n",
       "      <td>-0.225660</td>\n",
       "    </tr>\n",
       "    <tr>\n",
       "      <th>final_laptime</th>\n",
       "      <td>1.000000</td>\n",
       "    </tr>\n",
       "    <tr>\n",
       "      <th>position_prev_race_driver</th>\n",
       "      <td>0.285859</td>\n",
       "    </tr>\n",
       "    <tr>\n",
       "      <th>avg_position_3_prev_races_driver</th>\n",
       "      <td>0.328535</td>\n",
       "    </tr>\n",
       "    <tr>\n",
       "      <th>position_prev_quali_driver</th>\n",
       "      <td>0.341449</td>\n",
       "    </tr>\n",
       "    <tr>\n",
       "      <th>avg_position_3_prev_qualis_driver</th>\n",
       "      <td>0.363913</td>\n",
       "    </tr>\n",
       "    <tr>\n",
       "      <th>prev_quali_beat_teamamte</th>\n",
       "      <td>-0.041078</td>\n",
       "    </tr>\n",
       "    <tr>\n",
       "      <th>avg_percentage_3_qualis_beat_teammate</th>\n",
       "      <td>-0.032515</td>\n",
       "    </tr>\n",
       "    <tr>\n",
       "      <th>prev_quali_gap_to_leader_driver</th>\n",
       "      <td>0.493176</td>\n",
       "    </tr>\n",
       "    <tr>\n",
       "      <th>avg_gap_to_leader_3_qualis_driver</th>\n",
       "      <td>0.422952</td>\n",
       "    </tr>\n",
       "    <tr>\n",
       "      <th>avg_prev_quali_position_team</th>\n",
       "      <td>0.353366</td>\n",
       "    </tr>\n",
       "    <tr>\n",
       "      <th>avg_3_prev_qualis_position_team</th>\n",
       "      <td>0.372836</td>\n",
       "    </tr>\n",
       "    <tr>\n",
       "      <th>avg_prev_race_position_team</th>\n",
       "      <td>0.304066</td>\n",
       "    </tr>\n",
       "    <tr>\n",
       "      <th>avg_3_prev_races_position_team</th>\n",
       "      <td>0.343984</td>\n",
       "    </tr>\n",
       "    <tr>\n",
       "      <th>prev_gap_to_leader_team</th>\n",
       "      <td>0.498229</td>\n",
       "    </tr>\n",
       "    <tr>\n",
       "      <th>avg_gap_to_leader_3_races_team</th>\n",
       "      <td>0.458398</td>\n",
       "    </tr>\n",
       "    <tr>\n",
       "      <th>avg_percentaje_beat_teammate_quali_driver</th>\n",
       "      <td>-0.087757</td>\n",
       "    </tr>\n",
       "    <tr>\n",
       "      <th>poles_prev_quali_driver</th>\n",
       "      <td>-0.113987</td>\n",
       "    </tr>\n",
       "    <tr>\n",
       "      <th>q2_previous_qualifying_driver</th>\n",
       "      <td>-0.244096</td>\n",
       "    </tr>\n",
       "    <tr>\n",
       "      <th>q3_previous_qualifying_driver</th>\n",
       "      <td>-0.262191</td>\n",
       "    </tr>\n",
       "    <tr>\n",
       "      <th>q2_percentage_driver</th>\n",
       "      <td>-0.229347</td>\n",
       "    </tr>\n",
       "    <tr>\n",
       "      <th>q3_percentage_driver</th>\n",
       "      <td>-0.270282</td>\n",
       "    </tr>\n",
       "    <tr>\n",
       "      <th>temp</th>\n",
       "      <td>-0.002832</td>\n",
       "    </tr>\n",
       "    <tr>\n",
       "      <th>precip</th>\n",
       "      <td>NaN</td>\n",
       "    </tr>\n",
       "    <tr>\n",
       "      <th>wind_speed</th>\n",
       "      <td>-0.264049</td>\n",
       "    </tr>\n",
       "    <tr>\n",
       "      <th>is_drs</th>\n",
       "      <td>0.129731</td>\n",
       "    </tr>\n",
       "    <tr>\n",
       "      <th>metres</th>\n",
       "      <td>0.100384</td>\n",
       "    </tr>\n",
       "    <tr>\n",
       "      <th>curves</th>\n",
       "      <td>0.382663</td>\n",
       "    </tr>\n",
       "  </tbody>\n",
       "</table>\n",
       "</div>"
      ],
      "text/plain": [
       "                                           final_laptime\n",
       "year                                           -0.225660\n",
       "final_laptime                                   1.000000\n",
       "position_prev_race_driver                       0.285859\n",
       "avg_position_3_prev_races_driver                0.328535\n",
       "position_prev_quali_driver                      0.341449\n",
       "avg_position_3_prev_qualis_driver               0.363913\n",
       "prev_quali_beat_teamamte                       -0.041078\n",
       "avg_percentage_3_qualis_beat_teammate          -0.032515\n",
       "prev_quali_gap_to_leader_driver                 0.493176\n",
       "avg_gap_to_leader_3_qualis_driver               0.422952\n",
       "avg_prev_quali_position_team                    0.353366\n",
       "avg_3_prev_qualis_position_team                 0.372836\n",
       "avg_prev_race_position_team                     0.304066\n",
       "avg_3_prev_races_position_team                  0.343984\n",
       "prev_gap_to_leader_team                         0.498229\n",
       "avg_gap_to_leader_3_races_team                  0.458398\n",
       "avg_percentaje_beat_teammate_quali_driver      -0.087757\n",
       "poles_prev_quali_driver                        -0.113987\n",
       "q2_previous_qualifying_driver                  -0.244096\n",
       "q3_previous_qualifying_driver                  -0.262191\n",
       "q2_percentage_driver                           -0.229347\n",
       "q3_percentage_driver                           -0.270282\n",
       "temp                                           -0.002832\n",
       "precip                                               NaN\n",
       "wind_speed                                     -0.264049\n",
       "is_drs                                          0.129731\n",
       "metres                                          0.100384\n",
       "curves                                          0.382663"
      ]
     },
     "execution_count": 70,
     "metadata": {},
     "output_type": "execute_result"
    }
   ],
   "source": [
    "qualifying_dataframe_model_montmelo.corr()[['final_laptime']]"
   ]
  },
  {
   "cell_type": "code",
   "execution_count": 71,
   "id": "b3d2583e",
   "metadata": {},
   "outputs": [
    {
     "data": {
      "text/plain": [
       "<AxesSubplot:xlabel='final_laptime'>"
      ]
     },
     "execution_count": 71,
     "metadata": {},
     "output_type": "execute_result"
    },
    {
     "data": {
      "image/png": "[encoded data removed]",
      "text/plain": [
       "<Figure size 432x288 with 1 Axes>"
      ]
     },
     "metadata": {
      "needs_background": "light"
     },
     "output_type": "display_data"
    }
   ],
   "source": [
    "sns.boxplot(qualifying_dataframe_model_montmelo['final_laptime'])"
   ]
  },
  {
   "cell_type": "markdown",
   "id": "6314cd94",
   "metadata": {},
   "source": [
    "# 4. Creation of the qualifying model"
   ]
  },
  {
   "cell_type": "markdown",
   "id": "0214fe52",
   "metadata": {},
   "source": [
    "## 4.1 Linear Regression"
   ]
  },
  {
   "cell_type": "markdown",
   "id": "1399e27a",
   "metadata": {},
   "source": [
    "First we are going to test a simple linear regression and adding variables in order to see if the r2_score it improves or not."
   ]
  },
  {
   "cell_type": "code",
   "execution_count": 72,
   "id": "5bdf8ab8",
   "metadata": {},
   "outputs": [],
   "source": [
    "df_linear_regression_quali=pd.DataFrame(columns=['Columns', 'R2_score', 'Mse'])"
   ]
  },
  {
   "cell_type": "markdown",
   "id": "1dc6dcd2",
   "metadata": {},
   "source": [
    "Those are the variables that we selected for the analysis"
   ]
  },
  {
   "cell_type": "code",
   "execution_count": 73,
   "id": "309f1c7c",
   "metadata": {},
   "outputs": [],
   "source": [
    "numerical= ['avg_position_3_prev_qualis_driver','prev_gap_to_leader_team',\n",
    "            'avg_3_prev_qualis_position_team','avg_gap_to_leader_3_races_team','precip','temp','wind_speed']\n",
    "categorical = [ 'constructorName']"
   ]
  },
  {
   "cell_type": "code",
   "execution_count": 74,
   "id": "0bee382a",
   "metadata": {},
   "outputs": [],
   "source": [
    "preprocessor = make_column_transformer(\n",
    "  (StandardScaler(), numerical),\n",
    "  (OneHotEncoder(handle_unknown='ignore'), categorical))"
   ]
  },
  {
   "cell_type": "code",
   "execution_count": 75,
   "id": "43715ba5",
   "metadata": {},
   "outputs": [],
   "source": [
    "X=qualifying_dataframe_model_montmelo.drop(['final_laptime'],axis=1)\n",
    "y=qualifying_dataframe_model_montmelo.final_laptime"
   ]
  },
  {
   "cell_type": "code",
   "execution_count": 76,
   "id": "b3c1dba8",
   "metadata": {},
   "outputs": [],
   "source": [
    "model = make_pipeline(preprocessor, LinearRegression())"
   ]
  },
  {
   "cell_type": "code",
   "execution_count": 77,
   "id": "a3c4b9a5",
   "metadata": {},
   "outputs": [],
   "source": [
    "X_train, X_test, y_train, y_test = train_test_split(X, y, test_size=0.2, random_state=33)"
   ]
  },
  {
   "cell_type": "code",
   "execution_count": 78,
   "id": "97f1877b",
   "metadata": {
    "scrolled": true
   },
   "outputs": [
    {
     "data": {
      "text/html": [
       "<style>#sk-container-id-1 {color: black;background-color: white;}#sk-container-id-1 pre{padding: 0;}#sk-container-id-1 div.sk-toggleable {background-color: white;}#sk-container-id-1 label.sk-toggleable__label {cursor: pointer;display: block;width: 100%;margin-bottom: 0;padding: 0.3em;box-sizing: border-box;text-align: center;}#sk-container-id-1 label.sk-toggleable__label-arrow:before {content: \"▸\";float: left;margin-right: 0.25em;color: #696969;}#sk-container-id-1 label.sk-toggleable__label-arrow:hover:before {color: black;}#sk-container-id-1 div.sk-estimator:hover label.sk-toggleable__label-arrow:before {color: black;}#sk-container-id-1 div.sk-toggleable__content {max-height: 0;max-width: 0;overflow: hidden;text-align: left;background-color: #f0f8ff;}#sk-container-id-1 div.sk-toggleable__content pre {margin: 0.2em;color: black;border-radius: 0.25em;background-color: #f0f8ff;}#sk-container-id-1 input.sk-toggleable__control:checked~div.sk-toggleable__content {max-height: 200px;max-width: 100%;overflow: auto;}#sk-container-id-1 input.sk-toggleable__control:checked~label.sk-toggleable__label-arrow:before {content: \"▾\";}#sk-container-id-1 div.sk-estimator input.sk-toggleable__control:checked~label.sk-toggleable__label {background-color: #d4ebff;}#sk-container-id-1 div.sk-label input.sk-toggleable__control:checked~label.sk-toggleable__label {background-color: #d4ebff;}#sk-container-id-1 input.sk-hidden--visually {border: 0;clip: rect(1px 1px 1px 1px);clip: rect(1px, 1px, 1px, 1px);height: 1px;margin: -1px;overflow: hidden;padding: 0;position: absolute;width: 1px;}#sk-container-id-1 div.sk-estimator {font-family: monospace;background-color: #f0f8ff;border: 1px dotted black;border-radius: 0.25em;box-sizing: border-box;margin-bottom: 0.5em;}#sk-container-id-1 div.sk-estimator:hover {background-color: #d4ebff;}#sk-container-id-1 div.sk-parallel-item::after {content: \"\";width: 100%;border-bottom: 1px solid gray;flex-grow: 1;}#sk-container-id-1 div.sk-label:hover label.sk-toggleable__label {background-color: #d4ebff;}#sk-container-id-1 div.sk-serial::before {content: \"\";position: absolute;border-left: 1px solid gray;box-sizing: border-box;top: 0;bottom: 0;left: 50%;z-index: 0;}#sk-container-id-1 div.sk-serial {display: flex;flex-direction: column;align-items: center;background-color: white;padding-right: 0.2em;padding-left: 0.2em;position: relative;}#sk-container-id-1 div.sk-item {position: relative;z-index: 1;}#sk-container-id-1 div.sk-parallel {display: flex;align-items: stretch;justify-content: center;background-color: white;position: relative;}#sk-container-id-1 div.sk-item::before, #sk-container-id-1 div.sk-parallel-item::before {content: \"\";position: absolute;border-left: 1px solid gray;box-sizing: border-box;top: 0;bottom: 0;left: 50%;z-index: -1;}#sk-container-id-1 div.sk-parallel-item {display: flex;flex-direction: column;z-index: 1;position: relative;background-color: white;}#sk-container-id-1 div.sk-parallel-item:first-child::after {align-self: flex-end;width: 50%;}#sk-container-id-1 div.sk-parallel-item:last-child::after {align-self: flex-start;width: 50%;}#sk-container-id-1 div.sk-parallel-item:only-child::after {width: 0;}#sk-container-id-1 div.sk-dashed-wrapped {border: 1px dashed gray;margin: 0 0.4em 0.5em 0.4em;box-sizing: border-box;padding-bottom: 0.4em;background-color: white;}#sk-container-id-1 div.sk-label label {font-family: monospace;font-weight: bold;display: inline-block;line-height: 1.2em;}#sk-container-id-1 div.sk-label-container {text-align: center;}#sk-container-id-1 div.sk-container {/* jupyter's `normalize.less` sets `[hidden] { display: none; }` but bootstrap.min.css set `[hidden] { display: none !important; }` so we also need the `!important` here to be able to override the default hidden behavior on the sphinx rendered scikit-learn.org. See: https://github.com/scikit-learn/scikit-learn/issues/21755 */display: inline-block !important;position: relative;}#sk-container-id-1 div.sk-text-repr-fallback {display: none;}</style><div id=\"sk-container-id-1\" class=\"sk-top-container\"><div class=\"sk-text-repr-fallback\"><pre>Pipeline(steps=[(&#x27;columntransformer&#x27;,\n",
       "                 ColumnTransformer(transformers=[(&#x27;standardscaler&#x27;,\n",
       "                                                  StandardScaler(),\n",
       "                                                  [&#x27;avg_position_3_prev_qualis_driver&#x27;,\n",
       "                                                   &#x27;prev_gap_to_leader_team&#x27;,\n",
       "                                                   &#x27;avg_3_prev_qualis_position_team&#x27;,\n",
       "                                                   &#x27;avg_gap_to_leader_3_races_team&#x27;,\n",
       "                                                   &#x27;precip&#x27;, &#x27;temp&#x27;,\n",
       "                                                   &#x27;wind_speed&#x27;]),\n",
       "                                                 (&#x27;onehotencoder&#x27;,\n",
       "                                                  OneHotEncoder(handle_unknown=&#x27;ignore&#x27;),\n",
       "                                                  [&#x27;constructorName&#x27;])])),\n",
       "                (&#x27;linearregression&#x27;, LinearRegression())])</pre><b>In a Jupyter environment, please rerun this cell to show the HTML representation or trust the notebook. <br />On GitHub, the HTML representation is unable to render, please try loading this page with nbviewer.org.</b></div><div class=\"sk-container\" hidden><div class=\"sk-item sk-dashed-wrapped\"><div class=\"sk-label-container\"><div class=\"sk-label sk-toggleable\"><input class=\"sk-toggleable__control sk-hidden--visually\" id=\"sk-estimator-id-1\" type=\"checkbox\" ><label for=\"sk-estimator-id-1\" class=\"sk-toggleable__label sk-toggleable__label-arrow\">Pipeline</label><div class=\"sk-toggleable__content\"><pre>Pipeline(steps=[(&#x27;columntransformer&#x27;,\n",
       "                 ColumnTransformer(transformers=[(&#x27;standardscaler&#x27;,\n",
       "                                                  StandardScaler(),\n",
       "                                                  [&#x27;avg_position_3_prev_qualis_driver&#x27;,\n",
       "                                                   &#x27;prev_gap_to_leader_team&#x27;,\n",
       "                                                   &#x27;avg_3_prev_qualis_position_team&#x27;,\n",
       "                                                   &#x27;avg_gap_to_leader_3_races_team&#x27;,\n",
       "                                                   &#x27;precip&#x27;, &#x27;temp&#x27;,\n",
       "                                                   &#x27;wind_speed&#x27;]),\n",
       "                                                 (&#x27;onehotencoder&#x27;,\n",
       "                                                  OneHotEncoder(handle_unknown=&#x27;ignore&#x27;),\n",
       "                                                  [&#x27;constructorName&#x27;])])),\n",
       "                (&#x27;linearregression&#x27;, LinearRegression())])</pre></div></div></div><div class=\"sk-serial\"><div class=\"sk-item sk-dashed-wrapped\"><div class=\"sk-label-container\"><div class=\"sk-label sk-toggleable\"><input class=\"sk-toggleable__control sk-hidden--visually\" id=\"sk-estimator-id-2\" type=\"checkbox\" ><label for=\"sk-estimator-id-2\" class=\"sk-toggleable__label sk-toggleable__label-arrow\">columntransformer: ColumnTransformer</label><div class=\"sk-toggleable__content\"><pre>ColumnTransformer(transformers=[(&#x27;standardscaler&#x27;, StandardScaler(),\n",
       "                                 [&#x27;avg_position_3_prev_qualis_driver&#x27;,\n",
       "                                  &#x27;prev_gap_to_leader_team&#x27;,\n",
       "                                  &#x27;avg_3_prev_qualis_position_team&#x27;,\n",
       "                                  &#x27;avg_gap_to_leader_3_races_team&#x27;, &#x27;precip&#x27;,\n",
       "                                  &#x27;temp&#x27;, &#x27;wind_speed&#x27;]),\n",
       "                                (&#x27;onehotencoder&#x27;,\n",
       "                                 OneHotEncoder(handle_unknown=&#x27;ignore&#x27;),\n",
       "                                 [&#x27;constructorName&#x27;])])</pre></div></div></div><div class=\"sk-parallel\"><div class=\"sk-parallel-item\"><div class=\"sk-item\"><div class=\"sk-label-container\"><div class=\"sk-label sk-toggleable\"><input class=\"sk-toggleable__control sk-hidden--visually\" id=\"sk-estimator-id-3\" type=\"checkbox\" ><label for=\"sk-estimator-id-3\" class=\"sk-toggleable__label sk-toggleable__label-arrow\">standardscaler</label><div class=\"sk-toggleable__content\"><pre>[&#x27;avg_position_3_prev_qualis_driver&#x27;, &#x27;prev_gap_to_leader_team&#x27;, &#x27;avg_3_prev_qualis_position_team&#x27;, &#x27;avg_gap_to_leader_3_races_team&#x27;, &#x27;precip&#x27;, &#x27;temp&#x27;, &#x27;wind_speed&#x27;]</pre></div></div></div><div class=\"sk-serial\"><div class=\"sk-item\"><div class=\"sk-estimator sk-toggleable\"><input class=\"sk-toggleable__control sk-hidden--visually\" id=\"sk-estimator-id-4\" type=\"checkbox\" ><label for=\"sk-estimator-id-4\" class=\"sk-toggleable__label sk-toggleable__label-arrow\">StandardScaler</label><div class=\"sk-toggleable__content\"><pre>StandardScaler()</pre></div></div></div></div></div></div><div class=\"sk-parallel-item\"><div class=\"sk-item\"><div class=\"sk-label-container\"><div class=\"sk-label sk-toggleable\"><input class=\"sk-toggleable__control sk-hidden--visually\" id=\"sk-estimator-id-5\" type=\"checkbox\" ><label for=\"sk-estimator-id-5\" class=\"sk-toggleable__label sk-toggleable__label-arrow\">onehotencoder</label><div class=\"sk-toggleable__content\"><pre>[&#x27;constructorName&#x27;]</pre></div></div></div><div class=\"sk-serial\"><div class=\"sk-item\"><div class=\"sk-estimator sk-toggleable\"><input class=\"sk-toggleable__control sk-hidden--visually\" id=\"sk-estimator-id-6\" type=\"checkbox\" ><label for=\"sk-estimator-id-6\" class=\"sk-toggleable__label sk-toggleable__label-arrow\">OneHotEncoder</label><div class=\"sk-toggleable__content\"><pre>OneHotEncoder(handle_unknown=&#x27;ignore&#x27;)</pre></div></div></div></div></div></div></div></div><div class=\"sk-item\"><div class=\"sk-estimator sk-toggleable\"><input class=\"sk-toggleable__control sk-hidden--visually\" id=\"sk-estimator-id-7\" type=\"checkbox\" ><label for=\"sk-estimator-id-7\" class=\"sk-toggleable__label sk-toggleable__label-arrow\">LinearRegression</label><div class=\"sk-toggleable__content\"><pre>LinearRegression()</pre></div></div></div></div></div></div></div>"
      ],
      "text/plain": [
       "Pipeline(steps=[('columntransformer',\n",
       "                 ColumnTransformer(transformers=[('standardscaler',\n",
       "                                                  StandardScaler(),\n",
       "                                                  ['avg_position_3_prev_qualis_driver',\n",
       "                                                   'prev_gap_to_leader_team',\n",
       "                                                   'avg_3_prev_qualis_position_team',\n",
       "                                                   'avg_gap_to_leader_3_races_team',\n",
       "                                                   'precip', 'temp',\n",
       "                                                   'wind_speed']),\n",
       "                                                 ('onehotencoder',\n",
       "                                                  OneHotEncoder(handle_unknown='ignore'),\n",
       "                                                  ['constructorName'])])),\n",
       "                ('linearregression', LinearRegression())])"
      ]
     },
     "execution_count": 78,
     "metadata": {},
     "output_type": "execute_result"
    }
   ],
   "source": [
    "model.fit(X_train, y_train)"
   ]
  },
  {
   "cell_type": "code",
   "execution_count": 79,
   "id": "a73c5eb6",
   "metadata": {
    "scrolled": true
   },
   "outputs": [
    {
     "data": {
      "text/plain": [
       "-2.5111877354854757"
      ]
     },
     "execution_count": 79,
     "metadata": {},
     "output_type": "execute_result"
    }
   ],
   "source": [
    "cross_val_score(model, X, y, scoring='r2', cv=5).mean()"
   ]
  },
  {
   "cell_type": "code",
   "execution_count": 80,
   "id": "ce1032a2",
   "metadata": {},
   "outputs": [],
   "source": [
    "r2_score = cross_val_score(model, X, y, scoring='r2', cv=5).mean()\n",
    "y_pred = model.predict(X)\n",
    "mse= mean_squared_error(y,y_pred)\n",
    "df_linear_regression_quali = df_linear_regression_quali.append({\n",
    "        'Columns':categorical+numerical,\n",
    "        'R2_score':r2_score,\n",
    "        'Mse':mse\n",
    "    },ignore_index=True)"
   ]
  },
  {
   "cell_type": "code",
   "execution_count": 81,
   "id": "f4c01d77",
   "metadata": {
    "scrolled": true
   },
   "outputs": [
    {
     "data": {
      "text/html": [
       "<div>\n",
       "<style scoped>\n",
       "    .dataframe tbody tr th:only-of-type {\n",
       "        vertical-align: middle;\n",
       "    }\n",
       "\n",
       "    .dataframe tbody tr th {\n",
       "        vertical-align: top;\n",
       "    }\n",
       "\n",
       "    .dataframe thead th {\n",
       "        text-align: right;\n",
       "    }\n",
       "</style>\n",
       "<table border=\"1\" class=\"dataframe\">\n",
       "  <thead>\n",
       "    <tr style=\"text-align: right;\">\n",
       "      <th></th>\n",
       "      <th>Columns</th>\n",
       "      <th>R2_score</th>\n",
       "      <th>Mse</th>\n",
       "    </tr>\n",
       "  </thead>\n",
       "  <tbody>\n",
       "    <tr>\n",
       "      <th>0</th>\n",
       "      <td>[constructorName, avg_position_3_prev_qualis_d...</td>\n",
       "      <td>-2.511188</td>\n",
       "      <td>6978878.354233</td>\n",
       "    </tr>\n",
       "  </tbody>\n",
       "</table>\n",
       "</div>"
      ],
      "text/plain": [
       "                                             Columns  R2_score             Mse\n",
       "0  [constructorName, avg_position_3_prev_qualis_d... -2.511188  6978878.354233"
      ]
     },
     "execution_count": 81,
     "metadata": {},
     "output_type": "execute_result"
    }
   ],
   "source": [
    "df_linear_regression_quali"
   ]
  },
  {
   "cell_type": "markdown",
   "id": "cfe311c3",
   "metadata": {},
   "source": [
    "We see that we select all the variables, the performe of the r2 score is worst than the baseline. So we have to choose carefully the variables."
   ]
  },
  {
   "cell_type": "markdown",
   "id": "26148799",
   "metadata": {},
   "source": [
    "## 4.2 Decision Tree Regressor"
   ]
  },
  {
   "cell_type": "code",
   "execution_count": 82,
   "id": "57bb6da1",
   "metadata": {},
   "outputs": [],
   "source": [
    "df_dtree_quali = pd.DataFrame(columns=['Columns', 'Best_Paramaters', 'R2_score', 'Mse'])"
   ]
  },
  {
   "cell_type": "code",
   "execution_count": 83,
   "id": "50f0d5d7",
   "metadata": {},
   "outputs": [],
   "source": [
    "categorical= ['constructorName']\n",
    "numerical = ['position_prev_quali_driver','avg_position_3_prev_qualis_driver',\n",
    "            'prev_quali_gap_to_leader_driver','avg_gap_to_leader_3_qualis_driver','prev_gap_to_leader_team',\n",
    "'avg_prev_race_position_team','temp','wind_speed','metres'\n",
    "            ]\n",
    "target = ['final_laptime']"
   ]
  },
  {
   "cell_type": "code",
   "execution_count": 84,
   "id": "28c774de",
   "metadata": {},
   "outputs": [],
   "source": [
    "qualifying_dataframe_model_dt = qualifying_dataframe_model_montmelo[categorical+numerical+target]\n",
    "X=qualifying_dataframe_model_dt.drop(['final_laptime'],axis=1)\n",
    "y=qualifying_dataframe_model_dt.final_laptime"
   ]
  },
  {
   "cell_type": "code",
   "execution_count": 85,
   "id": "c35dabdd",
   "metadata": {},
   "outputs": [],
   "source": [
    "X_train, X_test, y_train, y_test = train_test_split(X, y, test_size=0.2, random_state=33)"
   ]
  },
  {
   "cell_type": "code",
   "execution_count": 86,
   "id": "c2562b4b",
   "metadata": {},
   "outputs": [],
   "source": [
    "preprocessor = make_column_transformer(\n",
    "  (StandardScaler(), numerical),\n",
    "  (OneHotEncoder(handle_unknown='ignore'), categorical))"
   ]
  },
  {
   "cell_type": "code",
   "execution_count": 87,
   "id": "6ec17f22",
   "metadata": {},
   "outputs": [],
   "source": [
    "params = {\n",
    "    'decisiontreeregressor__max_depth':[3,4,5,7,10], #The maximum depth/levels of the tree\n",
    "    'decisiontreeregressor__min_samples_split':[1,5,10,15,20], #The minimum number of samples required to split an internal node:\n",
    "    'decisiontreeregressor__min_samples_leaf':[10,15,20,25] #the minimum of samples that should be in the leaf at the base\n",
    "}"
   ]
  },
  {
   "cell_type": "code",
   "execution_count": 88,
   "id": "0d024b58",
   "metadata": {},
   "outputs": [],
   "source": [
    "model = Pipeline(steps=[\n",
    "    ('preprocessor', preprocessor),\n",
    "    ('decisiontreeregressor', DecisionTreeRegressor())\n",
    "])"
   ]
  },
  {
   "cell_type": "code",
   "execution_count": 89,
   "id": "36961125",
   "metadata": {},
   "outputs": [
    {
     "data": {
      "text/html": [
       "<style>#sk-container-id-2 {color: black;background-color: white;}#sk-container-id-2 pre{padding: 0;}#sk-container-id-2 div.sk-toggleable {background-color: white;}#sk-container-id-2 label.sk-toggleable__label {cursor: pointer;display: block;width: 100%;margin-bottom: 0;padding: 0.3em;box-sizing: border-box;text-align: center;}#sk-container-id-2 label.sk-toggleable__label-arrow:before {content: \"▸\";float: left;margin-right: 0.25em;color: #696969;}#sk-container-id-2 label.sk-toggleable__label-arrow:hover:before {color: black;}#sk-container-id-2 div.sk-estimator:hover label.sk-toggleable__label-arrow:before {color: black;}#sk-container-id-2 div.sk-toggleable__content {max-height: 0;max-width: 0;overflow: hidden;text-align: left;background-color: #f0f8ff;}#sk-container-id-2 div.sk-toggleable__content pre {margin: 0.2em;color: black;border-radius: 0.25em;background-color: #f0f8ff;}#sk-container-id-2 input.sk-toggleable__control:checked~div.sk-toggleable__content {max-height: 200px;max-width: 100%;overflow: auto;}#sk-container-id-2 input.sk-toggleable__control:checked~label.sk-toggleable__label-arrow:before {content: \"▾\";}#sk-container-id-2 div.sk-estimator input.sk-toggleable__control:checked~label.sk-toggleable__label {background-color: #d4ebff;}#sk-container-id-2 div.sk-label input.sk-toggleable__control:checked~label.sk-toggleable__label {background-color: #d4ebff;}#sk-container-id-2 input.sk-hidden--visually {border: 0;clip: rect(1px 1px 1px 1px);clip: rect(1px, 1px, 1px, 1px);height: 1px;margin: -1px;overflow: hidden;padding: 0;position: absolute;width: 1px;}#sk-container-id-2 div.sk-estimator {font-family: monospace;background-color: #f0f8ff;border: 1px dotted black;border-radius: 0.25em;box-sizing: border-box;margin-bottom: 0.5em;}#sk-container-id-2 div.sk-estimator:hover {background-color: #d4ebff;}#sk-container-id-2 div.sk-parallel-item::after {content: \"\";width: 100%;border-bottom: 1px solid gray;flex-grow: 1;}#sk-container-id-2 div.sk-label:hover label.sk-toggleable__label {background-color: #d4ebff;}#sk-container-id-2 div.sk-serial::before {content: \"\";position: absolute;border-left: 1px solid gray;box-sizing: border-box;top: 0;bottom: 0;left: 50%;z-index: 0;}#sk-container-id-2 div.sk-serial {display: flex;flex-direction: column;align-items: center;background-color: white;padding-right: 0.2em;padding-left: 0.2em;position: relative;}#sk-container-id-2 div.sk-item {position: relative;z-index: 1;}#sk-container-id-2 div.sk-parallel {display: flex;align-items: stretch;justify-content: center;background-color: white;position: relative;}#sk-container-id-2 div.sk-item::before, #sk-container-id-2 div.sk-parallel-item::before {content: \"\";position: absolute;border-left: 1px solid gray;box-sizing: border-box;top: 0;bottom: 0;left: 50%;z-index: -1;}#sk-container-id-2 div.sk-parallel-item {display: flex;flex-direction: column;z-index: 1;position: relative;background-color: white;}#sk-container-id-2 div.sk-parallel-item:first-child::after {align-self: flex-end;width: 50%;}#sk-container-id-2 div.sk-parallel-item:last-child::after {align-self: flex-start;width: 50%;}#sk-container-id-2 div.sk-parallel-item:only-child::after {width: 0;}#sk-container-id-2 div.sk-dashed-wrapped {border: 1px dashed gray;margin: 0 0.4em 0.5em 0.4em;box-sizing: border-box;padding-bottom: 0.4em;background-color: white;}#sk-container-id-2 div.sk-label label {font-family: monospace;font-weight: bold;display: inline-block;line-height: 1.2em;}#sk-container-id-2 div.sk-label-container {text-align: center;}#sk-container-id-2 div.sk-container {/* jupyter's `normalize.less` sets `[hidden] { display: none; }` but bootstrap.min.css set `[hidden] { display: none !important; }` so we also need the `!important` here to be able to override the default hidden behavior on the sphinx rendered scikit-learn.org. See: https://github.com/scikit-learn/scikit-learn/issues/21755 */display: inline-block !important;position: relative;}#sk-container-id-2 div.sk-text-repr-fallback {display: none;}</style><div id=\"sk-container-id-2\" class=\"sk-top-container\"><div class=\"sk-text-repr-fallback\"><pre>Pipeline(steps=[(&#x27;preprocessor&#x27;,\n",
       "                 ColumnTransformer(transformers=[(&#x27;standardscaler&#x27;,\n",
       "                                                  StandardScaler(),\n",
       "                                                  [&#x27;position_prev_quali_driver&#x27;,\n",
       "                                                   &#x27;avg_position_3_prev_qualis_driver&#x27;,\n",
       "                                                   &#x27;prev_quali_gap_to_leader_driver&#x27;,\n",
       "                                                   &#x27;avg_gap_to_leader_3_qualis_driver&#x27;,\n",
       "                                                   &#x27;prev_gap_to_leader_team&#x27;,\n",
       "                                                   &#x27;avg_prev_race_position_team&#x27;,\n",
       "                                                   &#x27;temp&#x27;, &#x27;wind_speed&#x27;,\n",
       "                                                   &#x27;metres&#x27;]),\n",
       "                                                 (&#x27;onehotencoder&#x27;,\n",
       "                                                  OneHotEncoder(handle_unknown=&#x27;ignore&#x27;),\n",
       "                                                  [&#x27;constructorName&#x27;])])),\n",
       "                (&#x27;decisiontreeregressor&#x27;, DecisionTreeRegressor())])</pre><b>In a Jupyter environment, please rerun this cell to show the HTML representation or trust the notebook. <br />On GitHub, the HTML representation is unable to render, please try loading this page with nbviewer.org.</b></div><div class=\"sk-container\" hidden><div class=\"sk-item sk-dashed-wrapped\"><div class=\"sk-label-container\"><div class=\"sk-label sk-toggleable\"><input class=\"sk-toggleable__control sk-hidden--visually\" id=\"sk-estimator-id-8\" type=\"checkbox\" ><label for=\"sk-estimator-id-8\" class=\"sk-toggleable__label sk-toggleable__label-arrow\">Pipeline</label><div class=\"sk-toggleable__content\"><pre>Pipeline(steps=[(&#x27;preprocessor&#x27;,\n",
       "                 ColumnTransformer(transformers=[(&#x27;standardscaler&#x27;,\n",
       "                                                  StandardScaler(),\n",
       "                                                  [&#x27;position_prev_quali_driver&#x27;,\n",
       "                                                   &#x27;avg_position_3_prev_qualis_driver&#x27;,\n",
       "                                                   &#x27;prev_quali_gap_to_leader_driver&#x27;,\n",
       "                                                   &#x27;avg_gap_to_leader_3_qualis_driver&#x27;,\n",
       "                                                   &#x27;prev_gap_to_leader_team&#x27;,\n",
       "                                                   &#x27;avg_prev_race_position_team&#x27;,\n",
       "                                                   &#x27;temp&#x27;, &#x27;wind_speed&#x27;,\n",
       "                                                   &#x27;metres&#x27;]),\n",
       "                                                 (&#x27;onehotencoder&#x27;,\n",
       "                                                  OneHotEncoder(handle_unknown=&#x27;ignore&#x27;),\n",
       "                                                  [&#x27;constructorName&#x27;])])),\n",
       "                (&#x27;decisiontreeregressor&#x27;, DecisionTreeRegressor())])</pre></div></div></div><div class=\"sk-serial\"><div class=\"sk-item sk-dashed-wrapped\"><div class=\"sk-label-container\"><div class=\"sk-label sk-toggleable\"><input class=\"sk-toggleable__control sk-hidden--visually\" id=\"sk-estimator-id-9\" type=\"checkbox\" ><label for=\"sk-estimator-id-9\" class=\"sk-toggleable__label sk-toggleable__label-arrow\">preprocessor: ColumnTransformer</label><div class=\"sk-toggleable__content\"><pre>ColumnTransformer(transformers=[(&#x27;standardscaler&#x27;, StandardScaler(),\n",
       "                                 [&#x27;position_prev_quali_driver&#x27;,\n",
       "                                  &#x27;avg_position_3_prev_qualis_driver&#x27;,\n",
       "                                  &#x27;prev_quali_gap_to_leader_driver&#x27;,\n",
       "                                  &#x27;avg_gap_to_leader_3_qualis_driver&#x27;,\n",
       "                                  &#x27;prev_gap_to_leader_team&#x27;,\n",
       "                                  &#x27;avg_prev_race_position_team&#x27;, &#x27;temp&#x27;,\n",
       "                                  &#x27;wind_speed&#x27;, &#x27;metres&#x27;]),\n",
       "                                (&#x27;onehotencoder&#x27;,\n",
       "                                 OneHotEncoder(handle_unknown=&#x27;ignore&#x27;),\n",
       "                                 [&#x27;constructorName&#x27;])])</pre></div></div></div><div class=\"sk-parallel\"><div class=\"sk-parallel-item\"><div class=\"sk-item\"><div class=\"sk-label-container\"><div class=\"sk-label sk-toggleable\"><input class=\"sk-toggleable__control sk-hidden--visually\" id=\"sk-estimator-id-10\" type=\"checkbox\" ><label for=\"sk-estimator-id-10\" class=\"sk-toggleable__label sk-toggleable__label-arrow\">standardscaler</label><div class=\"sk-toggleable__content\"><pre>[&#x27;position_prev_quali_driver&#x27;, &#x27;avg_position_3_prev_qualis_driver&#x27;, &#x27;prev_quali_gap_to_leader_driver&#x27;, &#x27;avg_gap_to_leader_3_qualis_driver&#x27;, &#x27;prev_gap_to_leader_team&#x27;, &#x27;avg_prev_race_position_team&#x27;, &#x27;temp&#x27;, &#x27;wind_speed&#x27;, &#x27;metres&#x27;]</pre></div></div></div><div class=\"sk-serial\"><div class=\"sk-item\"><div class=\"sk-estimator sk-toggleable\"><input class=\"sk-toggleable__control sk-hidden--visually\" id=\"sk-estimator-id-11\" type=\"checkbox\" ><label for=\"sk-estimator-id-11\" class=\"sk-toggleable__label sk-toggleable__label-arrow\">StandardScaler</label><div class=\"sk-toggleable__content\"><pre>StandardScaler()</pre></div></div></div></div></div></div><div class=\"sk-parallel-item\"><div class=\"sk-item\"><div class=\"sk-label-container\"><div class=\"sk-label sk-toggleable\"><input class=\"sk-toggleable__control sk-hidden--visually\" id=\"sk-estimator-id-12\" type=\"checkbox\" ><label for=\"sk-estimator-id-12\" class=\"sk-toggleable__label sk-toggleable__label-arrow\">onehotencoder</label><div class=\"sk-toggleable__content\"><pre>[&#x27;constructorName&#x27;]</pre></div></div></div><div class=\"sk-serial\"><div class=\"sk-item\"><div class=\"sk-estimator sk-toggleable\"><input class=\"sk-toggleable__control sk-hidden--visually\" id=\"sk-estimator-id-13\" type=\"checkbox\" ><label for=\"sk-estimator-id-13\" class=\"sk-toggleable__label sk-toggleable__label-arrow\">OneHotEncoder</label><div class=\"sk-toggleable__content\"><pre>OneHotEncoder(handle_unknown=&#x27;ignore&#x27;)</pre></div></div></div></div></div></div></div></div><div class=\"sk-item\"><div class=\"sk-estimator sk-toggleable\"><input class=\"sk-toggleable__control sk-hidden--visually\" id=\"sk-estimator-id-14\" type=\"checkbox\" ><label for=\"sk-estimator-id-14\" class=\"sk-toggleable__label sk-toggleable__label-arrow\">DecisionTreeRegressor</label><div class=\"sk-toggleable__content\"><pre>DecisionTreeRegressor()</pre></div></div></div></div></div></div></div>"
      ],
      "text/plain": [
       "Pipeline(steps=[('preprocessor',\n",
       "                 ColumnTransformer(transformers=[('standardscaler',\n",
       "                                                  StandardScaler(),\n",
       "                                                  ['position_prev_quali_driver',\n",
       "                                                   'avg_position_3_prev_qualis_driver',\n",
       "                                                   'prev_quali_gap_to_leader_driver',\n",
       "                                                   'avg_gap_to_leader_3_qualis_driver',\n",
       "                                                   'prev_gap_to_leader_team',\n",
       "                                                   'avg_prev_race_position_team',\n",
       "                                                   'temp', 'wind_speed',\n",
       "                                                   'metres']),\n",
       "                                                 ('onehotencoder',\n",
       "                                                  OneHotEncoder(handle_unknown='ignore'),\n",
       "                                                  ['constructorName'])])),\n",
       "                ('decisiontreeregressor', DecisionTreeRegressor())])"
      ]
     },
     "execution_count": 89,
     "metadata": {},
     "output_type": "execute_result"
    }
   ],
   "source": [
    "model.fit(X_train, y_train)"
   ]
  },
  {
   "cell_type": "code",
   "execution_count": 90,
   "id": "bbb62885",
   "metadata": {},
   "outputs": [],
   "source": [
    "grid_search_model = GridSearchCV(model, params, cv=5)"
   ]
  },
  {
   "cell_type": "code",
   "execution_count": 91,
   "id": "e5e1a438",
   "metadata": {},
   "outputs": [
    {
     "data": {
      "text/html": [
       "<style>#sk-container-id-3 {color: black;background-color: white;}#sk-container-id-3 pre{padding: 0;}#sk-container-id-3 div.sk-toggleable {background-color: white;}#sk-container-id-3 label.sk-toggleable__label {cursor: pointer;display: block;width: 100%;margin-bottom: 0;padding: 0.3em;box-sizing: border-box;text-align: center;}#sk-container-id-3 label.sk-toggleable__label-arrow:before {content: \"▸\";float: left;margin-right: 0.25em;color: #696969;}#sk-container-id-3 label.sk-toggleable__label-arrow:hover:before {color: black;}#sk-container-id-3 div.sk-estimator:hover label.sk-toggleable__label-arrow:before {color: black;}#sk-container-id-3 div.sk-toggleable__content {max-height: 0;max-width: 0;overflow: hidden;text-align: left;background-color: #f0f8ff;}#sk-container-id-3 div.sk-toggleable__content pre {margin: 0.2em;color: black;border-radius: 0.25em;background-color: #f0f8ff;}#sk-container-id-3 input.sk-toggleable__control:checked~div.sk-toggleable__content {max-height: 200px;max-width: 100%;overflow: auto;}#sk-container-id-3 input.sk-toggleable__control:checked~label.sk-toggleable__label-arrow:before {content: \"▾\";}#sk-container-id-3 div.sk-estimator input.sk-toggleable__control:checked~label.sk-toggleable__label {background-color: #d4ebff;}#sk-container-id-3 div.sk-label input.sk-toggleable__control:checked~label.sk-toggleable__label {background-color: #d4ebff;}#sk-container-id-3 input.sk-hidden--visually {border: 0;clip: rect(1px 1px 1px 1px);clip: rect(1px, 1px, 1px, 1px);height: 1px;margin: -1px;overflow: hidden;padding: 0;position: absolute;width: 1px;}#sk-container-id-3 div.sk-estimator {font-family: monospace;background-color: #f0f8ff;border: 1px dotted black;border-radius: 0.25em;box-sizing: border-box;margin-bottom: 0.5em;}#sk-container-id-3 div.sk-estimator:hover {background-color: #d4ebff;}#sk-container-id-3 div.sk-parallel-item::after {content: \"\";width: 100%;border-bottom: 1px solid gray;flex-grow: 1;}#sk-container-id-3 div.sk-label:hover label.sk-toggleable__label {background-color: #d4ebff;}#sk-container-id-3 div.sk-serial::before {content: \"\";position: absolute;border-left: 1px solid gray;box-sizing: border-box;top: 0;bottom: 0;left: 50%;z-index: 0;}#sk-container-id-3 div.sk-serial {display: flex;flex-direction: column;align-items: center;background-color: white;padding-right: 0.2em;padding-left: 0.2em;position: relative;}#sk-container-id-3 div.sk-item {position: relative;z-index: 1;}#sk-container-id-3 div.sk-parallel {display: flex;align-items: stretch;justify-content: center;background-color: white;position: relative;}#sk-container-id-3 div.sk-item::before, #sk-container-id-3 div.sk-parallel-item::before {content: \"\";position: absolute;border-left: 1px solid gray;box-sizing: border-box;top: 0;bottom: 0;left: 50%;z-index: -1;}#sk-container-id-3 div.sk-parallel-item {display: flex;flex-direction: column;z-index: 1;position: relative;background-color: white;}#sk-container-id-3 div.sk-parallel-item:first-child::after {align-self: flex-end;width: 50%;}#sk-container-id-3 div.sk-parallel-item:last-child::after {align-self: flex-start;width: 50%;}#sk-container-id-3 div.sk-parallel-item:only-child::after {width: 0;}#sk-container-id-3 div.sk-dashed-wrapped {border: 1px dashed gray;margin: 0 0.4em 0.5em 0.4em;box-sizing: border-box;padding-bottom: 0.4em;background-color: white;}#sk-container-id-3 div.sk-label label {font-family: monospace;font-weight: bold;display: inline-block;line-height: 1.2em;}#sk-container-id-3 div.sk-label-container {text-align: center;}#sk-container-id-3 div.sk-container {/* jupyter's `normalize.less` sets `[hidden] { display: none; }` but bootstrap.min.css set `[hidden] { display: none !important; }` so we also need the `!important` here to be able to override the default hidden behavior on the sphinx rendered scikit-learn.org. See: https://github.com/scikit-learn/scikit-learn/issues/21755 */display: inline-block !important;position: relative;}#sk-container-id-3 div.sk-text-repr-fallback {display: none;}</style><div id=\"sk-container-id-3\" class=\"sk-top-container\"><div class=\"sk-text-repr-fallback\"><pre>GridSearchCV(cv=5,\n",
       "             estimator=Pipeline(steps=[(&#x27;preprocessor&#x27;,\n",
       "                                        ColumnTransformer(transformers=[(&#x27;standardscaler&#x27;,\n",
       "                                                                         StandardScaler(),\n",
       "                                                                         [&#x27;position_prev_quali_driver&#x27;,\n",
       "                                                                          &#x27;avg_position_3_prev_qualis_driver&#x27;,\n",
       "                                                                          &#x27;prev_quali_gap_to_leader_driver&#x27;,\n",
       "                                                                          &#x27;avg_gap_to_leader_3_qualis_driver&#x27;,\n",
       "                                                                          &#x27;prev_gap_to_leader_team&#x27;,\n",
       "                                                                          &#x27;avg_prev_race_position_team&#x27;,\n",
       "                                                                          &#x27;temp&#x27;,\n",
       "                                                                          &#x27;wind_speed&#x27;,\n",
       "                                                                          &#x27;metres&#x27;]),\n",
       "                                                                        (&#x27;onehotencoder&#x27;,\n",
       "                                                                         OneHotEncoder(handle_unknown=&#x27;ignore&#x27;),\n",
       "                                                                         [&#x27;constructorName&#x27;])])),\n",
       "                                       (&#x27;decisiontreeregressor&#x27;,\n",
       "                                        DecisionTreeRegressor())]),\n",
       "             param_grid={&#x27;decisiontreeregressor__max_depth&#x27;: [3, 4, 5, 7, 10],\n",
       "                         &#x27;decisiontreeregressor__min_samples_leaf&#x27;: [10, 15, 20,\n",
       "                                                                     25],\n",
       "                         &#x27;decisiontreeregressor__min_samples_split&#x27;: [1, 5, 10,\n",
       "                                                                      15, 20]})</pre><b>In a Jupyter environment, please rerun this cell to show the HTML representation or trust the notebook. <br />On GitHub, the HTML representation is unable to render, please try loading this page with nbviewer.org.</b></div><div class=\"sk-container\" hidden><div class=\"sk-item sk-dashed-wrapped\"><div class=\"sk-label-container\"><div class=\"sk-label sk-toggleable\"><input class=\"sk-toggleable__control sk-hidden--visually\" id=\"sk-estimator-id-15\" type=\"checkbox\" ><label for=\"sk-estimator-id-15\" class=\"sk-toggleable__label sk-toggleable__label-arrow\">GridSearchCV</label><div class=\"sk-toggleable__content\"><pre>GridSearchCV(cv=5,\n",
       "             estimator=Pipeline(steps=[(&#x27;preprocessor&#x27;,\n",
       "                                        ColumnTransformer(transformers=[(&#x27;standardscaler&#x27;,\n",
       "                                                                         StandardScaler(),\n",
       "                                                                         [&#x27;position_prev_quali_driver&#x27;,\n",
       "                                                                          &#x27;avg_position_3_prev_qualis_driver&#x27;,\n",
       "                                                                          &#x27;prev_quali_gap_to_leader_driver&#x27;,\n",
       "                                                                          &#x27;avg_gap_to_leader_3_qualis_driver&#x27;,\n",
       "                                                                          &#x27;prev_gap_to_leader_team&#x27;,\n",
       "                                                                          &#x27;avg_prev_race_position_team&#x27;,\n",
       "                                                                          &#x27;temp&#x27;,\n",
       "                                                                          &#x27;wind_speed&#x27;,\n",
       "                                                                          &#x27;metres&#x27;]),\n",
       "                                                                        (&#x27;onehotencoder&#x27;,\n",
       "                                                                         OneHotEncoder(handle_unknown=&#x27;ignore&#x27;),\n",
       "                                                                         [&#x27;constructorName&#x27;])])),\n",
       "                                       (&#x27;decisiontreeregressor&#x27;,\n",
       "                                        DecisionTreeRegressor())]),\n",
       "             param_grid={&#x27;decisiontreeregressor__max_depth&#x27;: [3, 4, 5, 7, 10],\n",
       "                         &#x27;decisiontreeregressor__min_samples_leaf&#x27;: [10, 15, 20,\n",
       "                                                                     25],\n",
       "                         &#x27;decisiontreeregressor__min_samples_split&#x27;: [1, 5, 10,\n",
       "                                                                      15, 20]})</pre></div></div></div><div class=\"sk-parallel\"><div class=\"sk-parallel-item\"><div class=\"sk-item\"><div class=\"sk-label-container\"><div class=\"sk-label sk-toggleable\"><input class=\"sk-toggleable__control sk-hidden--visually\" id=\"sk-estimator-id-16\" type=\"checkbox\" ><label for=\"sk-estimator-id-16\" class=\"sk-toggleable__label sk-toggleable__label-arrow\">estimator: Pipeline</label><div class=\"sk-toggleable__content\"><pre>Pipeline(steps=[(&#x27;preprocessor&#x27;,\n",
       "                 ColumnTransformer(transformers=[(&#x27;standardscaler&#x27;,\n",
       "                                                  StandardScaler(),\n",
       "                                                  [&#x27;position_prev_quali_driver&#x27;,\n",
       "                                                   &#x27;avg_position_3_prev_qualis_driver&#x27;,\n",
       "                                                   &#x27;prev_quali_gap_to_leader_driver&#x27;,\n",
       "                                                   &#x27;avg_gap_to_leader_3_qualis_driver&#x27;,\n",
       "                                                   &#x27;prev_gap_to_leader_team&#x27;,\n",
       "                                                   &#x27;avg_prev_race_position_team&#x27;,\n",
       "                                                   &#x27;temp&#x27;, &#x27;wind_speed&#x27;,\n",
       "                                                   &#x27;metres&#x27;]),\n",
       "                                                 (&#x27;onehotencoder&#x27;,\n",
       "                                                  OneHotEncoder(handle_unknown=&#x27;ignore&#x27;),\n",
       "                                                  [&#x27;constructorName&#x27;])])),\n",
       "                (&#x27;decisiontreeregressor&#x27;, DecisionTreeRegressor())])</pre></div></div></div><div class=\"sk-serial\"><div class=\"sk-item\"><div class=\"sk-serial\"><div class=\"sk-item sk-dashed-wrapped\"><div class=\"sk-label-container\"><div class=\"sk-label sk-toggleable\"><input class=\"sk-toggleable__control sk-hidden--visually\" id=\"sk-estimator-id-17\" type=\"checkbox\" ><label for=\"sk-estimator-id-17\" class=\"sk-toggleable__label sk-toggleable__label-arrow\">preprocessor: ColumnTransformer</label><div class=\"sk-toggleable__content\"><pre>ColumnTransformer(transformers=[(&#x27;standardscaler&#x27;, StandardScaler(),\n",
       "                                 [&#x27;position_prev_quali_driver&#x27;,\n",
       "                                  &#x27;avg_position_3_prev_qualis_driver&#x27;,\n",
       "                                  &#x27;prev_quali_gap_to_leader_driver&#x27;,\n",
       "                                  &#x27;avg_gap_to_leader_3_qualis_driver&#x27;,\n",
       "                                  &#x27;prev_gap_to_leader_team&#x27;,\n",
       "                                  &#x27;avg_prev_race_position_team&#x27;, &#x27;temp&#x27;,\n",
       "                                  &#x27;wind_speed&#x27;, &#x27;metres&#x27;]),\n",
       "                                (&#x27;onehotencoder&#x27;,\n",
       "                                 OneHotEncoder(handle_unknown=&#x27;ignore&#x27;),\n",
       "                                 [&#x27;constructorName&#x27;])])</pre></div></div></div><div class=\"sk-parallel\"><div class=\"sk-parallel-item\"><div class=\"sk-item\"><div class=\"sk-label-container\"><div class=\"sk-label sk-toggleable\"><input class=\"sk-toggleable__control sk-hidden--visually\" id=\"sk-estimator-id-18\" type=\"checkbox\" ><label for=\"sk-estimator-id-18\" class=\"sk-toggleable__label sk-toggleable__label-arrow\">standardscaler</label><div class=\"sk-toggleable__content\"><pre>[&#x27;position_prev_quali_driver&#x27;, &#x27;avg_position_3_prev_qualis_driver&#x27;, &#x27;prev_quali_gap_to_leader_driver&#x27;, &#x27;avg_gap_to_leader_3_qualis_driver&#x27;, &#x27;prev_gap_to_leader_team&#x27;, &#x27;avg_prev_race_position_team&#x27;, &#x27;temp&#x27;, &#x27;wind_speed&#x27;, &#x27;metres&#x27;]</pre></div></div></div><div class=\"sk-serial\"><div class=\"sk-item\"><div class=\"sk-estimator sk-toggleable\"><input class=\"sk-toggleable__control sk-hidden--visually\" id=\"sk-estimator-id-19\" type=\"checkbox\" ><label for=\"sk-estimator-id-19\" class=\"sk-toggleable__label sk-toggleable__label-arrow\">StandardScaler</label><div class=\"sk-toggleable__content\"><pre>StandardScaler()</pre></div></div></div></div></div></div><div class=\"sk-parallel-item\"><div class=\"sk-item\"><div class=\"sk-label-container\"><div class=\"sk-label sk-toggleable\"><input class=\"sk-toggleable__control sk-hidden--visually\" id=\"sk-estimator-id-20\" type=\"checkbox\" ><label for=\"sk-estimator-id-20\" class=\"sk-toggleable__label sk-toggleable__label-arrow\">onehotencoder</label><div class=\"sk-toggleable__content\"><pre>[&#x27;constructorName&#x27;]</pre></div></div></div><div class=\"sk-serial\"><div class=\"sk-item\"><div class=\"sk-estimator sk-toggleable\"><input class=\"sk-toggleable__control sk-hidden--visually\" id=\"sk-estimator-id-21\" type=\"checkbox\" ><label for=\"sk-estimator-id-21\" class=\"sk-toggleable__label sk-toggleable__label-arrow\">OneHotEncoder</label><div class=\"sk-toggleable__content\"><pre>OneHotEncoder(handle_unknown=&#x27;ignore&#x27;)</pre></div></div></div></div></div></div></div></div><div class=\"sk-item\"><div class=\"sk-estimator sk-toggleable\"><input class=\"sk-toggleable__control sk-hidden--visually\" id=\"sk-estimator-id-22\" type=\"checkbox\" ><label for=\"sk-estimator-id-22\" class=\"sk-toggleable__label sk-toggleable__label-arrow\">DecisionTreeRegressor</label><div class=\"sk-toggleable__content\"><pre>DecisionTreeRegressor()</pre></div></div></div></div></div></div></div></div></div></div></div></div>"
      ],
      "text/plain": [
       "GridSearchCV(cv=5,\n",
       "             estimator=Pipeline(steps=[('preprocessor',\n",
       "                                        ColumnTransformer(transformers=[('standardscaler',\n",
       "                                                                         StandardScaler(),\n",
       "                                                                         ['position_prev_quali_driver',\n",
       "                                                                          'avg_position_3_prev_qualis_driver',\n",
       "                                                                          'prev_quali_gap_to_leader_driver',\n",
       "                                                                          'avg_gap_to_leader_3_qualis_driver',\n",
       "                                                                          'prev_gap_to_leader_team',\n",
       "                                                                          'avg_prev_race_position_team',\n",
       "                                                                          'temp',\n",
       "                                                                          'wind_speed',\n",
       "                                                                          'metres']),\n",
       "                                                                        ('onehotencoder',\n",
       "                                                                         OneHotEncoder(handle_unknown='ignore'),\n",
       "                                                                         ['constructorName'])])),\n",
       "                                       ('decisiontreeregressor',\n",
       "                                        DecisionTreeRegressor())]),\n",
       "             param_grid={'decisiontreeregressor__max_depth': [3, 4, 5, 7, 10],\n",
       "                         'decisiontreeregressor__min_samples_leaf': [10, 15, 20,\n",
       "                                                                     25],\n",
       "                         'decisiontreeregressor__min_samples_split': [1, 5, 10,\n",
       "                                                                      15, 20]})"
      ]
     },
     "execution_count": 91,
     "metadata": {},
     "output_type": "execute_result"
    }
   ],
   "source": [
    "grid_search_model.fit(X_train, y_train)"
   ]
  },
  {
   "cell_type": "code",
   "execution_count": 92,
   "id": "39ba2dba",
   "metadata": {},
   "outputs": [],
   "source": [
    "best_parameters=grid_search_model.best_params_\n",
    "r2_score = grid_search_model.best_score_\n",
    "y_pred = grid_search_model.predict(X)\n",
    "mse= mean_squared_error(y,y_pred)\n",
    "df_dtree_quali = df_dtree_quali.append({\n",
    "        'Columns':categorical+numerical,\n",
    "        'Best_Paramaters':best_parameters,\n",
    "        'R2_score':r2_score,\n",
    "        'Mse':mse\n",
    "    },ignore_index=True)"
   ]
  },
  {
   "cell_type": "code",
   "execution_count": 93,
   "id": "3c010492",
   "metadata": {},
   "outputs": [
    {
     "data": {
      "text/html": [
       "<div>\n",
       "<style scoped>\n",
       "    .dataframe tbody tr th:only-of-type {\n",
       "        vertical-align: middle;\n",
       "    }\n",
       "\n",
       "    .dataframe tbody tr th {\n",
       "        vertical-align: top;\n",
       "    }\n",
       "\n",
       "    .dataframe thead th {\n",
       "        text-align: right;\n",
       "    }\n",
       "</style>\n",
       "<table border=\"1\" class=\"dataframe\">\n",
       "  <thead>\n",
       "    <tr style=\"text-align: right;\">\n",
       "      <th></th>\n",
       "      <th>Columns</th>\n",
       "      <th>Best_Paramaters</th>\n",
       "      <th>R2_score</th>\n",
       "      <th>Mse</th>\n",
       "    </tr>\n",
       "  </thead>\n",
       "  <tbody>\n",
       "    <tr>\n",
       "      <th>0</th>\n",
       "      <td>[constructorName, position_prev_quali_driver, ...</td>\n",
       "      <td>{'decisiontreeregressor__max_depth': 7, 'decis...</td>\n",
       "      <td>0.618668</td>\n",
       "      <td>1987093.328139</td>\n",
       "    </tr>\n",
       "  </tbody>\n",
       "</table>\n",
       "</div>"
      ],
      "text/plain": [
       "                                             Columns  \\\n",
       "0  [constructorName, position_prev_quali_driver, ...   \n",
       "\n",
       "                                     Best_Paramaters  R2_score             Mse  \n",
       "0  {'decisiontreeregressor__max_depth': 7, 'decis...  0.618668  1987093.328139  "
      ]
     },
     "execution_count": 93,
     "metadata": {},
     "output_type": "execute_result"
    }
   ],
   "source": [
    "df_dtree_quali"
   ]
  },
  {
   "cell_type": "markdown",
   "id": "798e3cc3",
   "metadata": {},
   "source": [
    "Here we have evaluated the combination of variables take into account the r2 score and the mean squared error.\n",
    "We will try another model to see (with the best combination of variables) to see if we have better results or not."
   ]
  },
  {
   "cell_type": "markdown",
   "id": "3487cf8a",
   "metadata": {},
   "source": [
    "## 4.3 XGB Regressor"
   ]
  },
  {
   "cell_type": "code",
   "execution_count": 94,
   "id": "821e8a83",
   "metadata": {},
   "outputs": [],
   "source": [
    "df_xgboost_model_quali = pd.DataFrame(columns=['Columns', 'Best_Paramaters', 'R2_score', 'Mse'])"
   ]
  },
  {
   "cell_type": "code",
   "execution_count": 95,
   "id": "1fdc5228",
   "metadata": {},
   "outputs": [],
   "source": [
    "categorical= ['constructorName','driver_fullname']\n",
    "numerical = ['position_prev_quali_driver','avg_position_3_prev_qualis_driver',\n",
    "            'prev_quali_gap_to_leader_driver','avg_gap_to_leader_3_qualis_driver','prev_gap_to_leader_team',\n",
    "'avg_prev_race_position_team','temp','wind_speed','metres'\n",
    "            ]\n",
    "target = ['final_laptime']"
   ]
  },
  {
   "cell_type": "code",
   "execution_count": 96,
   "id": "e28dbbfe",
   "metadata": {},
   "outputs": [],
   "source": [
    "preprocessor = make_column_transformer(\n",
    "  (StandardScaler(), numerical),\n",
    "  (OneHotEncoder(handle_unknown='ignore'), categorical))"
   ]
  },
  {
   "cell_type": "code",
   "execution_count": 97,
   "id": "58b399ee",
   "metadata": {},
   "outputs": [],
   "source": [
    "qualifying_dataframe_model_dt =qualifying_dataframe_model_montmelo[categorical+numerical+target]\n",
    "X=qualifying_dataframe_model_dt.drop(['final_laptime'],axis=1)\n",
    "y=qualifying_dataframe_model_dt.final_laptime"
   ]
  },
  {
   "cell_type": "code",
   "execution_count": 98,
   "id": "447e3da2",
   "metadata": {},
   "outputs": [],
   "source": [
    "X_train, X_test, y_train, y_test = train_test_split(X, y, test_size=0.2, random_state=33)"
   ]
  },
  {
   "cell_type": "code",
   "execution_count": 99,
   "id": "e2139303",
   "metadata": {},
   "outputs": [],
   "source": [
    "params = {\n",
    "    'xgbregressor__n_estimators':[50,100,150,200],\n",
    "    'xgbregressor__max_depth':[3,5,10,15,20],\n",
    "}"
   ]
  },
  {
   "cell_type": "code",
   "execution_count": 100,
   "id": "4660d83c",
   "metadata": {},
   "outputs": [],
   "source": [
    "model = make_pipeline(preprocessor, xgb.XGBRegressor())"
   ]
  },
  {
   "cell_type": "code",
   "execution_count": 101,
   "id": "54ecef3e",
   "metadata": {},
   "outputs": [],
   "source": [
    "grid_search_model_quali = GridSearchCV(model, params, cv=5, n_jobs=1,scoring='r2')"
   ]
  },
  {
   "cell_type": "code",
   "execution_count": 102,
   "id": "7de31cea",
   "metadata": {},
   "outputs": [
    {
     "data": {
      "text/html": [
       "<style>#sk-container-id-4 {color: black;background-color: white;}#sk-container-id-4 pre{padding: 0;}#sk-container-id-4 div.sk-toggleable {background-color: white;}#sk-container-id-4 label.sk-toggleable__label {cursor: pointer;display: block;width: 100%;margin-bottom: 0;padding: 0.3em;box-sizing: border-box;text-align: center;}#sk-container-id-4 label.sk-toggleable__label-arrow:before {content: \"▸\";float: left;margin-right: 0.25em;color: #696969;}#sk-container-id-4 label.sk-toggleable__label-arrow:hover:before {color: black;}#sk-container-id-4 div.sk-estimator:hover label.sk-toggleable__label-arrow:before {color: black;}#sk-container-id-4 div.sk-toggleable__content {max-height: 0;max-width: 0;overflow: hidden;text-align: left;background-color: #f0f8ff;}#sk-container-id-4 div.sk-toggleable__content pre {margin: 0.2em;color: black;border-radius: 0.25em;background-color: #f0f8ff;}#sk-container-id-4 input.sk-toggleable__control:checked~div.sk-toggleable__content {max-height: 200px;max-width: 100%;overflow: auto;}#sk-container-id-4 input.sk-toggleable__control:checked~label.sk-toggleable__label-arrow:before {content: \"▾\";}#sk-container-id-4 div.sk-estimator input.sk-toggleable__control:checked~label.sk-toggleable__label {background-color: #d4ebff;}#sk-container-id-4 div.sk-label input.sk-toggleable__control:checked~label.sk-toggleable__label {background-color: #d4ebff;}#sk-container-id-4 input.sk-hidden--visually {border: 0;clip: rect(1px 1px 1px 1px);clip: rect(1px, 1px, 1px, 1px);height: 1px;margin: -1px;overflow: hidden;padding: 0;position: absolute;width: 1px;}#sk-container-id-4 div.sk-estimator {font-family: monospace;background-color: #f0f8ff;border: 1px dotted black;border-radius: 0.25em;box-sizing: border-box;margin-bottom: 0.5em;}#sk-container-id-4 div.sk-estimator:hover {background-color: #d4ebff;}#sk-container-id-4 div.sk-parallel-item::after {content: \"\";width: 100%;border-bottom: 1px solid gray;flex-grow: 1;}#sk-container-id-4 div.sk-label:hover label.sk-toggleable__label {background-color: #d4ebff;}#sk-container-id-4 div.sk-serial::before {content: \"\";position: absolute;border-left: 1px solid gray;box-sizing: border-box;top: 0;bottom: 0;left: 50%;z-index: 0;}#sk-container-id-4 div.sk-serial {display: flex;flex-direction: column;align-items: center;background-color: white;padding-right: 0.2em;padding-left: 0.2em;position: relative;}#sk-container-id-4 div.sk-item {position: relative;z-index: 1;}#sk-container-id-4 div.sk-parallel {display: flex;align-items: stretch;justify-content: center;background-color: white;position: relative;}#sk-container-id-4 div.sk-item::before, #sk-container-id-4 div.sk-parallel-item::before {content: \"\";position: absolute;border-left: 1px solid gray;box-sizing: border-box;top: 0;bottom: 0;left: 50%;z-index: -1;}#sk-container-id-4 div.sk-parallel-item {display: flex;flex-direction: column;z-index: 1;position: relative;background-color: white;}#sk-container-id-4 div.sk-parallel-item:first-child::after {align-self: flex-end;width: 50%;}#sk-container-id-4 div.sk-parallel-item:last-child::after {align-self: flex-start;width: 50%;}#sk-container-id-4 div.sk-parallel-item:only-child::after {width: 0;}#sk-container-id-4 div.sk-dashed-wrapped {border: 1px dashed gray;margin: 0 0.4em 0.5em 0.4em;box-sizing: border-box;padding-bottom: 0.4em;background-color: white;}#sk-container-id-4 div.sk-label label {font-family: monospace;font-weight: bold;display: inline-block;line-height: 1.2em;}#sk-container-id-4 div.sk-label-container {text-align: center;}#sk-container-id-4 div.sk-container {/* jupyter's `normalize.less` sets `[hidden] { display: none; }` but bootstrap.min.css set `[hidden] { display: none !important; }` so we also need the `!important` here to be able to override the default hidden behavior on the sphinx rendered scikit-learn.org. See: https://github.com/scikit-learn/scikit-learn/issues/21755 */display: inline-block !important;position: relative;}#sk-container-id-4 div.sk-text-repr-fallback {display: none;}</style><div id=\"sk-container-id-4\" class=\"sk-top-container\"><div class=\"sk-text-repr-fallback\"><pre>GridSearchCV(cv=5,\n",
       "             estimator=Pipeline(steps=[(&#x27;columntransformer&#x27;,\n",
       "                                        ColumnTransformer(transformers=[(&#x27;standardscaler&#x27;,\n",
       "                                                                         StandardScaler(),\n",
       "                                                                         [&#x27;position_prev_quali_driver&#x27;,\n",
       "                                                                          &#x27;avg_position_3_prev_qualis_driver&#x27;,\n",
       "                                                                          &#x27;prev_quali_gap_to_leader_driver&#x27;,\n",
       "                                                                          &#x27;avg_gap_to_leader_3_qualis_driver&#x27;,\n",
       "                                                                          &#x27;prev_gap_to_leader_team&#x27;,\n",
       "                                                                          &#x27;avg_prev_race_position_team&#x27;,\n",
       "                                                                          &#x27;temp&#x27;,\n",
       "                                                                          &#x27;wind_speed&#x27;,\n",
       "                                                                          &#x27;metre...\n",
       "                                                     max_cat_threshold=None,\n",
       "                                                     max_cat_to_onehot=None,\n",
       "                                                     max_delta_step=None,\n",
       "                                                     max_depth=None,\n",
       "                                                     max_leaves=None,\n",
       "                                                     min_child_weight=None,\n",
       "                                                     missing=nan,\n",
       "                                                     monotone_constraints=None,\n",
       "                                                     n_estimators=100,\n",
       "                                                     n_jobs=None,\n",
       "                                                     num_parallel_tree=None,\n",
       "                                                     predictor=None,\n",
       "                                                     random_state=None, ...))]),\n",
       "             n_jobs=1,\n",
       "             param_grid={&#x27;xgbregressor__max_depth&#x27;: [3, 5, 10, 15, 20],\n",
       "                         &#x27;xgbregressor__n_estimators&#x27;: [50, 100, 150, 200]},\n",
       "             scoring=&#x27;r2&#x27;)</pre><b>In a Jupyter environment, please rerun this cell to show the HTML representation or trust the notebook. <br />On GitHub, the HTML representation is unable to render, please try loading this page with nbviewer.org.</b></div><div class=\"sk-container\" hidden><div class=\"sk-item sk-dashed-wrapped\"><div class=\"sk-label-container\"><div class=\"sk-label sk-toggleable\"><input class=\"sk-toggleable__control sk-hidden--visually\" id=\"sk-estimator-id-23\" type=\"checkbox\" ><label for=\"sk-estimator-id-23\" class=\"sk-toggleable__label sk-toggleable__label-arrow\">GridSearchCV</label><div class=\"sk-toggleable__content\"><pre>GridSearchCV(cv=5,\n",
       "             estimator=Pipeline(steps=[(&#x27;columntransformer&#x27;,\n",
       "                                        ColumnTransformer(transformers=[(&#x27;standardscaler&#x27;,\n",
       "                                                                         StandardScaler(),\n",
       "                                                                         [&#x27;position_prev_quali_driver&#x27;,\n",
       "                                                                          &#x27;avg_position_3_prev_qualis_driver&#x27;,\n",
       "                                                                          &#x27;prev_quali_gap_to_leader_driver&#x27;,\n",
       "                                                                          &#x27;avg_gap_to_leader_3_qualis_driver&#x27;,\n",
       "                                                                          &#x27;prev_gap_to_leader_team&#x27;,\n",
       "                                                                          &#x27;avg_prev_race_position_team&#x27;,\n",
       "                                                                          &#x27;temp&#x27;,\n",
       "                                                                          &#x27;wind_speed&#x27;,\n",
       "                                                                          &#x27;metre...\n",
       "                                                     max_cat_threshold=None,\n",
       "                                                     max_cat_to_onehot=None,\n",
       "                                                     max_delta_step=None,\n",
       "                                                     max_depth=None,\n",
       "                                                     max_leaves=None,\n",
       "                                                     min_child_weight=None,\n",
       "                                                     missing=nan,\n",
       "                                                     monotone_constraints=None,\n",
       "                                                     n_estimators=100,\n",
       "                                                     n_jobs=None,\n",
       "                                                     num_parallel_tree=None,\n",
       "                                                     predictor=None,\n",
       "                                                     random_state=None, ...))]),\n",
       "             n_jobs=1,\n",
       "             param_grid={&#x27;xgbregressor__max_depth&#x27;: [3, 5, 10, 15, 20],\n",
       "                         &#x27;xgbregressor__n_estimators&#x27;: [50, 100, 150, 200]},\n",
       "             scoring=&#x27;r2&#x27;)</pre></div></div></div><div class=\"sk-parallel\"><div class=\"sk-parallel-item\"><div class=\"sk-item\"><div class=\"sk-label-container\"><div class=\"sk-label sk-toggleable\"><input class=\"sk-toggleable__control sk-hidden--visually\" id=\"sk-estimator-id-24\" type=\"checkbox\" ><label for=\"sk-estimator-id-24\" class=\"sk-toggleable__label sk-toggleable__label-arrow\">estimator: Pipeline</label><div class=\"sk-toggleable__content\"><pre>Pipeline(steps=[(&#x27;columntransformer&#x27;,\n",
       "                 ColumnTransformer(transformers=[(&#x27;standardscaler&#x27;,\n",
       "                                                  StandardScaler(),\n",
       "                                                  [&#x27;position_prev_quali_driver&#x27;,\n",
       "                                                   &#x27;avg_position_3_prev_qualis_driver&#x27;,\n",
       "                                                   &#x27;prev_quali_gap_to_leader_driver&#x27;,\n",
       "                                                   &#x27;avg_gap_to_leader_3_qualis_driver&#x27;,\n",
       "                                                   &#x27;prev_gap_to_leader_team&#x27;,\n",
       "                                                   &#x27;avg_prev_race_position_team&#x27;,\n",
       "                                                   &#x27;temp&#x27;, &#x27;wind_speed&#x27;,\n",
       "                                                   &#x27;metres&#x27;]),\n",
       "                                                 (&#x27;onehotencoder&#x27;,\n",
       "                                                  OneHot...\n",
       "                              feature_types=None, gamma=None, gpu_id=None,\n",
       "                              grow_policy=None, importance_type=None,\n",
       "                              interaction_constraints=None, learning_rate=None,\n",
       "                              max_bin=None, max_cat_threshold=None,\n",
       "                              max_cat_to_onehot=None, max_delta_step=None,\n",
       "                              max_depth=None, max_leaves=None,\n",
       "                              min_child_weight=None, missing=nan,\n",
       "                              monotone_constraints=None, n_estimators=100,\n",
       "                              n_jobs=None, num_parallel_tree=None,\n",
       "                              predictor=None, random_state=None, ...))])</pre></div></div></div><div class=\"sk-serial\"><div class=\"sk-item\"><div class=\"sk-serial\"><div class=\"sk-item sk-dashed-wrapped\"><div class=\"sk-label-container\"><div class=\"sk-label sk-toggleable\"><input class=\"sk-toggleable__control sk-hidden--visually\" id=\"sk-estimator-id-25\" type=\"checkbox\" ><label for=\"sk-estimator-id-25\" class=\"sk-toggleable__label sk-toggleable__label-arrow\">columntransformer: ColumnTransformer</label><div class=\"sk-toggleable__content\"><pre>ColumnTransformer(transformers=[(&#x27;standardscaler&#x27;, StandardScaler(),\n",
       "                                 [&#x27;position_prev_quali_driver&#x27;,\n",
       "                                  &#x27;avg_position_3_prev_qualis_driver&#x27;,\n",
       "                                  &#x27;prev_quali_gap_to_leader_driver&#x27;,\n",
       "                                  &#x27;avg_gap_to_leader_3_qualis_driver&#x27;,\n",
       "                                  &#x27;prev_gap_to_leader_team&#x27;,\n",
       "                                  &#x27;avg_prev_race_position_team&#x27;, &#x27;temp&#x27;,\n",
       "                                  &#x27;wind_speed&#x27;, &#x27;metres&#x27;]),\n",
       "                                (&#x27;onehotencoder&#x27;,\n",
       "                                 OneHotEncoder(handle_unknown=&#x27;ignore&#x27;),\n",
       "                                 [&#x27;constructorName&#x27;, &#x27;driver_fullname&#x27;])])</pre></div></div></div><div class=\"sk-parallel\"><div class=\"sk-parallel-item\"><div class=\"sk-item\"><div class=\"sk-label-container\"><div class=\"sk-label sk-toggleable\"><input class=\"sk-toggleable__control sk-hidden--visually\" id=\"sk-estimator-id-26\" type=\"checkbox\" ><label for=\"sk-estimator-id-26\" class=\"sk-toggleable__label sk-toggleable__label-arrow\">standardscaler</label><div class=\"sk-toggleable__content\"><pre>[&#x27;position_prev_quali_driver&#x27;, &#x27;avg_position_3_prev_qualis_driver&#x27;, &#x27;prev_quali_gap_to_leader_driver&#x27;, &#x27;avg_gap_to_leader_3_qualis_driver&#x27;, &#x27;prev_gap_to_leader_team&#x27;, &#x27;avg_prev_race_position_team&#x27;, &#x27;temp&#x27;, &#x27;wind_speed&#x27;, &#x27;metres&#x27;]</pre></div></div></div><div class=\"sk-serial\"><div class=\"sk-item\"><div class=\"sk-estimator sk-toggleable\"><input class=\"sk-toggleable__control sk-hidden--visually\" id=\"sk-estimator-id-27\" type=\"checkbox\" ><label for=\"sk-estimator-id-27\" class=\"sk-toggleable__label sk-toggleable__label-arrow\">StandardScaler</label><div class=\"sk-toggleable__content\"><pre>StandardScaler()</pre></div></div></div></div></div></div><div class=\"sk-parallel-item\"><div class=\"sk-item\"><div class=\"sk-label-container\"><div class=\"sk-label sk-toggleable\"><input class=\"sk-toggleable__control sk-hidden--visually\" id=\"sk-estimator-id-28\" type=\"checkbox\" ><label for=\"sk-estimator-id-28\" class=\"sk-toggleable__label sk-toggleable__label-arrow\">onehotencoder</label><div class=\"sk-toggleable__content\"><pre>[&#x27;constructorName&#x27;, &#x27;driver_fullname&#x27;]</pre></div></div></div><div class=\"sk-serial\"><div class=\"sk-item\"><div class=\"sk-estimator sk-toggleable\"><input class=\"sk-toggleable__control sk-hidden--visually\" id=\"sk-estimator-id-29\" type=\"checkbox\" ><label for=\"sk-estimator-id-29\" class=\"sk-toggleable__label sk-toggleable__label-arrow\">OneHotEncoder</label><div class=\"sk-toggleable__content\"><pre>OneHotEncoder(handle_unknown=&#x27;ignore&#x27;)</pre></div></div></div></div></div></div></div></div><div class=\"sk-item\"><div class=\"sk-estimator sk-toggleable\"><input class=\"sk-toggleable__control sk-hidden--visually\" id=\"sk-estimator-id-30\" type=\"checkbox\" ><label for=\"sk-estimator-id-30\" class=\"sk-toggleable__label sk-toggleable__label-arrow\">XGBRegressor</label><div class=\"sk-toggleable__content\"><pre>XGBRegressor(base_score=None, booster=None, callbacks=None,\n",
       "             colsample_bylevel=None, colsample_bynode=None,\n",
       "             colsample_bytree=None, early_stopping_rounds=None,\n",
       "             enable_categorical=False, eval_metric=None, feature_types=None,\n",
       "             gamma=None, gpu_id=None, grow_policy=None, importance_type=None,\n",
       "             interaction_constraints=None, learning_rate=None, max_bin=None,\n",
       "             max_cat_threshold=None, max_cat_to_onehot=None,\n",
       "             max_delta_step=None, max_depth=None, max_leaves=None,\n",
       "             min_child_weight=None, missing=nan, monotone_constraints=None,\n",
       "             n_estimators=100, n_jobs=None, num_parallel_tree=None,\n",
       "             predictor=None, random_state=None, ...)</pre></div></div></div></div></div></div></div></div></div></div></div></div>"
      ],
      "text/plain": [
       "GridSearchCV(cv=5,\n",
       "             estimator=Pipeline(steps=[('columntransformer',\n",
       "                                        ColumnTransformer(transformers=[('standardscaler',\n",
       "                                                                         StandardScaler(),\n",
       "                                                                         ['position_prev_quali_driver',\n",
       "                                                                          'avg_position_3_prev_qualis_driver',\n",
       "                                                                          'prev_quali_gap_to_leader_driver',\n",
       "                                                                          'avg_gap_to_leader_3_qualis_driver',\n",
       "                                                                          'prev_gap_to_leader_team',\n",
       "                                                                          'avg_prev_race_position_team',\n",
       "                                                                          'temp',\n",
       "                                                                          'wind_speed',\n",
       "                                                                          'metre...\n",
       "                                                     max_cat_threshold=None,\n",
       "                                                     max_cat_to_onehot=None,\n",
       "                                                     max_delta_step=None,\n",
       "                                                     max_depth=None,\n",
       "                                                     max_leaves=None,\n",
       "                                                     min_child_weight=None,\n",
       "                                                     missing=nan,\n",
       "                                                     monotone_constraints=None,\n",
       "                                                     n_estimators=100,\n",
       "                                                     n_jobs=None,\n",
       "                                                     num_parallel_tree=None,\n",
       "                                                     predictor=None,\n",
       "                                                     random_state=None, ...))]),\n",
       "             n_jobs=1,\n",
       "             param_grid={'xgbregressor__max_depth': [3, 5, 10, 15, 20],\n",
       "                         'xgbregressor__n_estimators': [50, 100, 150, 200]},\n",
       "             scoring='r2')"
      ]
     },
     "execution_count": 102,
     "metadata": {},
     "output_type": "execute_result"
    }
   ],
   "source": [
    "grid_search_model_quali.fit(X_train, y_train)"
   ]
  },
  {
   "cell_type": "code",
   "execution_count": 103,
   "id": "5d9e9164",
   "metadata": {},
   "outputs": [],
   "source": [
    "best_parameters=grid_search_model_quali.best_params_\n",
    "r2_score = grid_search_model_quali.best_score_\n",
    "y_pred = grid_search_model_quali.predict(X)\n",
    "mse= mean_squared_error(y,y_pred)\n",
    "df_xgboost_model_quali = df_xgboost_model_quali.append({\n",
    "        'Columns':numerical,\n",
    "        'Best_Paramaters':best_parameters,\n",
    "        'R2_score':r2_score,\n",
    "        'Mse':mse\n",
    "    },ignore_index=True)"
   ]
  },
  {
   "cell_type": "code",
   "execution_count": 104,
   "id": "6300688e",
   "metadata": {
    "scrolled": true
   },
   "outputs": [
    {
     "data": {
      "text/html": [
       "<div>\n",
       "<style scoped>\n",
       "    .dataframe tbody tr th:only-of-type {\n",
       "        vertical-align: middle;\n",
       "    }\n",
       "\n",
       "    .dataframe tbody tr th {\n",
       "        vertical-align: top;\n",
       "    }\n",
       "\n",
       "    .dataframe thead th {\n",
       "        text-align: right;\n",
       "    }\n",
       "</style>\n",
       "<table border=\"1\" class=\"dataframe\">\n",
       "  <thead>\n",
       "    <tr style=\"text-align: right;\">\n",
       "      <th></th>\n",
       "      <th>Columns</th>\n",
       "      <th>Best_Paramaters</th>\n",
       "      <th>R2_score</th>\n",
       "      <th>Mse</th>\n",
       "    </tr>\n",
       "  </thead>\n",
       "  <tbody>\n",
       "    <tr>\n",
       "      <th>0</th>\n",
       "      <td>[position_prev_quali_driver, avg_position_3_pr...</td>\n",
       "      <td>{'xgbregressor__max_depth': 3, 'xgbregressor__...</td>\n",
       "      <td>0.908788</td>\n",
       "      <td>241597.259161</td>\n",
       "    </tr>\n",
       "  </tbody>\n",
       "</table>\n",
       "</div>"
      ],
      "text/plain": [
       "                                             Columns  \\\n",
       "0  [position_prev_quali_driver, avg_position_3_pr...   \n",
       "\n",
       "                                     Best_Paramaters  R2_score            Mse  \n",
       "0  {'xgbregressor__max_depth': 3, 'xgbregressor__...  0.908788  241597.259161  "
      ]
     },
     "execution_count": 104,
     "metadata": {},
     "output_type": "execute_result"
    }
   ],
   "source": [
    "df_xgboost_model_quali"
   ]
  },
  {
   "cell_type": "markdown",
   "id": "18d83823",
   "metadata": {},
   "source": [
    "With this model, there are good results but just in case, we will test if there is overffiting or not."
   ]
  },
  {
   "cell_type": "markdown",
   "id": "33d693a5",
   "metadata": {},
   "source": [
    "## 4.3.1 Testing overfitting "
   ]
  },
  {
   "cell_type": "markdown",
   "id": "b641ebd6",
   "metadata": {},
   "source": [
    "I am gonna test if there is overfitting or not, by taking out all the values of the target variable that are lower of the inferior limit or higher of the superior limit of the IQR."
   ]
  },
  {
   "cell_type": "code",
   "execution_count": 105,
   "id": "9af646df",
   "metadata": {},
   "outputs": [],
   "source": [
    "q1 = np.percentile(qualifying_dataframe_model_montmelo.final_laptime, 25)\n",
    "q3 = np.percentile(qualifying_dataframe_model_montmelo.final_laptime, 75)\n",
    "IQR = q3 - q1\n",
    "lInf = q1- 1.5*IQR\n",
    "lSup = q3 + 1.5*IQR"
   ]
  },
  {
   "cell_type": "code",
   "execution_count": 106,
   "id": "4f4347ab",
   "metadata": {},
   "outputs": [],
   "source": [
    "qualifying_dataframe_model_iqr=qualifying_dataframe_model_montmelo[(qualifying_dataframe_model_montmelo.final_laptime>lInf)&(qualifying_dataframe_model_montmelo.final_laptime<lSup)]"
   ]
  },
  {
   "cell_type": "code",
   "execution_count": 107,
   "id": "f9d2c2c6",
   "metadata": {},
   "outputs": [],
   "source": [
    "categorical= ['constructorName','driver_fullname']\n",
    "numerical = ['position_prev_quali_driver','avg_position_3_prev_qualis_driver',\n",
    "            'prev_quali_gap_to_leader_driver','avg_gap_to_leader_3_qualis_driver','prev_gap_to_leader_team',\n",
    "'avg_prev_race_position_team','temp','wind_speed','metres'\n",
    "            ]\n",
    "target = ['final_laptime']"
   ]
  },
  {
   "cell_type": "code",
   "execution_count": 108,
   "id": "5a0ecdb5",
   "metadata": {},
   "outputs": [],
   "source": [
    "preprocessor = make_column_transformer(\n",
    "  (StandardScaler(), numerical),\n",
    "  (OneHotEncoder(handle_unknown='ignore'), categorical))"
   ]
  },
  {
   "cell_type": "code",
   "execution_count": 109,
   "id": "43e19624",
   "metadata": {},
   "outputs": [],
   "source": [
    "qualifying_dataframe_model_dt = qualifying_dataframe_model_iqr[categorical+numerical+target]\n",
    "X=qualifying_dataframe_model_dt.drop(['final_laptime'],axis=1)\n",
    "y=qualifying_dataframe_model_dt.final_laptime"
   ]
  },
  {
   "cell_type": "code",
   "execution_count": 110,
   "id": "b0d28454",
   "metadata": {},
   "outputs": [],
   "source": [
    "params = {\n",
    "    'xgbregressor__n_estimators':[50,100,150,200],\n",
    "    'xgbregressor__max_depth':[3,5,10,15,20],\n",
    "}"
   ]
  },
  {
   "cell_type": "code",
   "execution_count": 111,
   "id": "05ed266a",
   "metadata": {},
   "outputs": [],
   "source": [
    "model = make_pipeline(preprocessor, xgb.XGBRegressor())"
   ]
  },
  {
   "cell_type": "code",
   "execution_count": 112,
   "id": "66fe3208",
   "metadata": {},
   "outputs": [],
   "source": [
    "grid_search_model = GridSearchCV(model, params, cv=5, n_jobs=1,scoring='r2')"
   ]
  },
  {
   "cell_type": "code",
   "execution_count": 113,
   "id": "da39f2df",
   "metadata": {},
   "outputs": [
    {
     "data": {
      "text/html": [
       "<style>#sk-container-id-5 {color: black;background-color: white;}#sk-container-id-5 pre{padding: 0;}#sk-container-id-5 div.sk-toggleable {background-color: white;}#sk-container-id-5 label.sk-toggleable__label {cursor: pointer;display: block;width: 100%;margin-bottom: 0;padding: 0.3em;box-sizing: border-box;text-align: center;}#sk-container-id-5 label.sk-toggleable__label-arrow:before {content: \"▸\";float: left;margin-right: 0.25em;color: #696969;}#sk-container-id-5 label.sk-toggleable__label-arrow:hover:before {color: black;}#sk-container-id-5 div.sk-estimator:hover label.sk-toggleable__label-arrow:before {color: black;}#sk-container-id-5 div.sk-toggleable__content {max-height: 0;max-width: 0;overflow: hidden;text-align: left;background-color: #f0f8ff;}#sk-container-id-5 div.sk-toggleable__content pre {margin: 0.2em;color: black;border-radius: 0.25em;background-color: #f0f8ff;}#sk-container-id-5 input.sk-toggleable__control:checked~div.sk-toggleable__content {max-height: 200px;max-width: 100%;overflow: auto;}#sk-container-id-5 input.sk-toggleable__control:checked~label.sk-toggleable__label-arrow:before {content: \"▾\";}#sk-container-id-5 div.sk-estimator input.sk-toggleable__control:checked~label.sk-toggleable__label {background-color: #d4ebff;}#sk-container-id-5 div.sk-label input.sk-toggleable__control:checked~label.sk-toggleable__label {background-color: #d4ebff;}#sk-container-id-5 input.sk-hidden--visually {border: 0;clip: rect(1px 1px 1px 1px);clip: rect(1px, 1px, 1px, 1px);height: 1px;margin: -1px;overflow: hidden;padding: 0;position: absolute;width: 1px;}#sk-container-id-5 div.sk-estimator {font-family: monospace;background-color: #f0f8ff;border: 1px dotted black;border-radius: 0.25em;box-sizing: border-box;margin-bottom: 0.5em;}#sk-container-id-5 div.sk-estimator:hover {background-color: #d4ebff;}#sk-container-id-5 div.sk-parallel-item::after {content: \"\";width: 100%;border-bottom: 1px solid gray;flex-grow: 1;}#sk-container-id-5 div.sk-label:hover label.sk-toggleable__label {background-color: #d4ebff;}#sk-container-id-5 div.sk-serial::before {content: \"\";position: absolute;border-left: 1px solid gray;box-sizing: border-box;top: 0;bottom: 0;left: 50%;z-index: 0;}#sk-container-id-5 div.sk-serial {display: flex;flex-direction: column;align-items: center;background-color: white;padding-right: 0.2em;padding-left: 0.2em;position: relative;}#sk-container-id-5 div.sk-item {position: relative;z-index: 1;}#sk-container-id-5 div.sk-parallel {display: flex;align-items: stretch;justify-content: center;background-color: white;position: relative;}#sk-container-id-5 div.sk-item::before, #sk-container-id-5 div.sk-parallel-item::before {content: \"\";position: absolute;border-left: 1px solid gray;box-sizing: border-box;top: 0;bottom: 0;left: 50%;z-index: -1;}#sk-container-id-5 div.sk-parallel-item {display: flex;flex-direction: column;z-index: 1;position: relative;background-color: white;}#sk-container-id-5 div.sk-parallel-item:first-child::after {align-self: flex-end;width: 50%;}#sk-container-id-5 div.sk-parallel-item:last-child::after {align-self: flex-start;width: 50%;}#sk-container-id-5 div.sk-parallel-item:only-child::after {width: 0;}#sk-container-id-5 div.sk-dashed-wrapped {border: 1px dashed gray;margin: 0 0.4em 0.5em 0.4em;box-sizing: border-box;padding-bottom: 0.4em;background-color: white;}#sk-container-id-5 div.sk-label label {font-family: monospace;font-weight: bold;display: inline-block;line-height: 1.2em;}#sk-container-id-5 div.sk-label-container {text-align: center;}#sk-container-id-5 div.sk-container {/* jupyter's `normalize.less` sets `[hidden] { display: none; }` but bootstrap.min.css set `[hidden] { display: none !important; }` so we also need the `!important` here to be able to override the default hidden behavior on the sphinx rendered scikit-learn.org. See: https://github.com/scikit-learn/scikit-learn/issues/21755 */display: inline-block !important;position: relative;}#sk-container-id-5 div.sk-text-repr-fallback {display: none;}</style><div id=\"sk-container-id-5\" class=\"sk-top-container\"><div class=\"sk-text-repr-fallback\"><pre>GridSearchCV(cv=5,\n",
       "             estimator=Pipeline(steps=[(&#x27;columntransformer&#x27;,\n",
       "                                        ColumnTransformer(transformers=[(&#x27;standardscaler&#x27;,\n",
       "                                                                         StandardScaler(),\n",
       "                                                                         [&#x27;position_prev_quali_driver&#x27;,\n",
       "                                                                          &#x27;avg_position_3_prev_qualis_driver&#x27;,\n",
       "                                                                          &#x27;prev_quali_gap_to_leader_driver&#x27;,\n",
       "                                                                          &#x27;avg_gap_to_leader_3_qualis_driver&#x27;,\n",
       "                                                                          &#x27;prev_gap_to_leader_team&#x27;,\n",
       "                                                                          &#x27;avg_prev_race_position_team&#x27;,\n",
       "                                                                          &#x27;temp&#x27;,\n",
       "                                                                          &#x27;wind_speed&#x27;,\n",
       "                                                                          &#x27;metre...\n",
       "                                                     max_cat_threshold=None,\n",
       "                                                     max_cat_to_onehot=None,\n",
       "                                                     max_delta_step=None,\n",
       "                                                     max_depth=None,\n",
       "                                                     max_leaves=None,\n",
       "                                                     min_child_weight=None,\n",
       "                                                     missing=nan,\n",
       "                                                     monotone_constraints=None,\n",
       "                                                     n_estimators=100,\n",
       "                                                     n_jobs=None,\n",
       "                                                     num_parallel_tree=None,\n",
       "                                                     predictor=None,\n",
       "                                                     random_state=None, ...))]),\n",
       "             n_jobs=1,\n",
       "             param_grid={&#x27;xgbregressor__max_depth&#x27;: [3, 5, 10, 15, 20],\n",
       "                         &#x27;xgbregressor__n_estimators&#x27;: [50, 100, 150, 200]},\n",
       "             scoring=&#x27;r2&#x27;)</pre><b>In a Jupyter environment, please rerun this cell to show the HTML representation or trust the notebook. <br />On GitHub, the HTML representation is unable to render, please try loading this page with nbviewer.org.</b></div><div class=\"sk-container\" hidden><div class=\"sk-item sk-dashed-wrapped\"><div class=\"sk-label-container\"><div class=\"sk-label sk-toggleable\"><input class=\"sk-toggleable__control sk-hidden--visually\" id=\"sk-estimator-id-31\" type=\"checkbox\" ><label for=\"sk-estimator-id-31\" class=\"sk-toggleable__label sk-toggleable__label-arrow\">GridSearchCV</label><div class=\"sk-toggleable__content\"><pre>GridSearchCV(cv=5,\n",
       "             estimator=Pipeline(steps=[(&#x27;columntransformer&#x27;,\n",
       "                                        ColumnTransformer(transformers=[(&#x27;standardscaler&#x27;,\n",
       "                                                                         StandardScaler(),\n",
       "                                                                         [&#x27;position_prev_quali_driver&#x27;,\n",
       "                                                                          &#x27;avg_position_3_prev_qualis_driver&#x27;,\n",
       "                                                                          &#x27;prev_quali_gap_to_leader_driver&#x27;,\n",
       "                                                                          &#x27;avg_gap_to_leader_3_qualis_driver&#x27;,\n",
       "                                                                          &#x27;prev_gap_to_leader_team&#x27;,\n",
       "                                                                          &#x27;avg_prev_race_position_team&#x27;,\n",
       "                                                                          &#x27;temp&#x27;,\n",
       "                                                                          &#x27;wind_speed&#x27;,\n",
       "                                                                          &#x27;metre...\n",
       "                                                     max_cat_threshold=None,\n",
       "                                                     max_cat_to_onehot=None,\n",
       "                                                     max_delta_step=None,\n",
       "                                                     max_depth=None,\n",
       "                                                     max_leaves=None,\n",
       "                                                     min_child_weight=None,\n",
       "                                                     missing=nan,\n",
       "                                                     monotone_constraints=None,\n",
       "                                                     n_estimators=100,\n",
       "                                                     n_jobs=None,\n",
       "                                                     num_parallel_tree=None,\n",
       "                                                     predictor=None,\n",
       "                                                     random_state=None, ...))]),\n",
       "             n_jobs=1,\n",
       "             param_grid={&#x27;xgbregressor__max_depth&#x27;: [3, 5, 10, 15, 20],\n",
       "                         &#x27;xgbregressor__n_estimators&#x27;: [50, 100, 150, 200]},\n",
       "             scoring=&#x27;r2&#x27;)</pre></div></div></div><div class=\"sk-parallel\"><div class=\"sk-parallel-item\"><div class=\"sk-item\"><div class=\"sk-label-container\"><div class=\"sk-label sk-toggleable\"><input class=\"sk-toggleable__control sk-hidden--visually\" id=\"sk-estimator-id-32\" type=\"checkbox\" ><label for=\"sk-estimator-id-32\" class=\"sk-toggleable__label sk-toggleable__label-arrow\">estimator: Pipeline</label><div class=\"sk-toggleable__content\"><pre>Pipeline(steps=[(&#x27;columntransformer&#x27;,\n",
       "                 ColumnTransformer(transformers=[(&#x27;standardscaler&#x27;,\n",
       "                                                  StandardScaler(),\n",
       "                                                  [&#x27;position_prev_quali_driver&#x27;,\n",
       "                                                   &#x27;avg_position_3_prev_qualis_driver&#x27;,\n",
       "                                                   &#x27;prev_quali_gap_to_leader_driver&#x27;,\n",
       "                                                   &#x27;avg_gap_to_leader_3_qualis_driver&#x27;,\n",
       "                                                   &#x27;prev_gap_to_leader_team&#x27;,\n",
       "                                                   &#x27;avg_prev_race_position_team&#x27;,\n",
       "                                                   &#x27;temp&#x27;, &#x27;wind_speed&#x27;,\n",
       "                                                   &#x27;metres&#x27;]),\n",
       "                                                 (&#x27;onehotencoder&#x27;,\n",
       "                                                  OneHot...\n",
       "                              feature_types=None, gamma=None, gpu_id=None,\n",
       "                              grow_policy=None, importance_type=None,\n",
       "                              interaction_constraints=None, learning_rate=None,\n",
       "                              max_bin=None, max_cat_threshold=None,\n",
       "                              max_cat_to_onehot=None, max_delta_step=None,\n",
       "                              max_depth=None, max_leaves=None,\n",
       "                              min_child_weight=None, missing=nan,\n",
       "                              monotone_constraints=None, n_estimators=100,\n",
       "                              n_jobs=None, num_parallel_tree=None,\n",
       "                              predictor=None, random_state=None, ...))])</pre></div></div></div><div class=\"sk-serial\"><div class=\"sk-item\"><div class=\"sk-serial\"><div class=\"sk-item sk-dashed-wrapped\"><div class=\"sk-label-container\"><div class=\"sk-label sk-toggleable\"><input class=\"sk-toggleable__control sk-hidden--visually\" id=\"sk-estimator-id-33\" type=\"checkbox\" ><label for=\"sk-estimator-id-33\" class=\"sk-toggleable__label sk-toggleable__label-arrow\">columntransformer: ColumnTransformer</label><div class=\"sk-toggleable__content\"><pre>ColumnTransformer(transformers=[(&#x27;standardscaler&#x27;, StandardScaler(),\n",
       "                                 [&#x27;position_prev_quali_driver&#x27;,\n",
       "                                  &#x27;avg_position_3_prev_qualis_driver&#x27;,\n",
       "                                  &#x27;prev_quali_gap_to_leader_driver&#x27;,\n",
       "                                  &#x27;avg_gap_to_leader_3_qualis_driver&#x27;,\n",
       "                                  &#x27;prev_gap_to_leader_team&#x27;,\n",
       "                                  &#x27;avg_prev_race_position_team&#x27;, &#x27;temp&#x27;,\n",
       "                                  &#x27;wind_speed&#x27;, &#x27;metres&#x27;]),\n",
       "                                (&#x27;onehotencoder&#x27;,\n",
       "                                 OneHotEncoder(handle_unknown=&#x27;ignore&#x27;),\n",
       "                                 [&#x27;constructorName&#x27;, &#x27;driver_fullname&#x27;])])</pre></div></div></div><div class=\"sk-parallel\"><div class=\"sk-parallel-item\"><div class=\"sk-item\"><div class=\"sk-label-container\"><div class=\"sk-label sk-toggleable\"><input class=\"sk-toggleable__control sk-hidden--visually\" id=\"sk-estimator-id-34\" type=\"checkbox\" ><label for=\"sk-estimator-id-34\" class=\"sk-toggleable__label sk-toggleable__label-arrow\">standardscaler</label><div class=\"sk-toggleable__content\"><pre>[&#x27;position_prev_quali_driver&#x27;, &#x27;avg_position_3_prev_qualis_driver&#x27;, &#x27;prev_quali_gap_to_leader_driver&#x27;, &#x27;avg_gap_to_leader_3_qualis_driver&#x27;, &#x27;prev_gap_to_leader_team&#x27;, &#x27;avg_prev_race_position_team&#x27;, &#x27;temp&#x27;, &#x27;wind_speed&#x27;, &#x27;metres&#x27;]</pre></div></div></div><div class=\"sk-serial\"><div class=\"sk-item\"><div class=\"sk-estimator sk-toggleable\"><input class=\"sk-toggleable__control sk-hidden--visually\" id=\"sk-estimator-id-35\" type=\"checkbox\" ><label for=\"sk-estimator-id-35\" class=\"sk-toggleable__label sk-toggleable__label-arrow\">StandardScaler</label><div class=\"sk-toggleable__content\"><pre>StandardScaler()</pre></div></div></div></div></div></div><div class=\"sk-parallel-item\"><div class=\"sk-item\"><div class=\"sk-label-container\"><div class=\"sk-label sk-toggleable\"><input class=\"sk-toggleable__control sk-hidden--visually\" id=\"sk-estimator-id-36\" type=\"checkbox\" ><label for=\"sk-estimator-id-36\" class=\"sk-toggleable__label sk-toggleable__label-arrow\">onehotencoder</label><div class=\"sk-toggleable__content\"><pre>[&#x27;constructorName&#x27;, &#x27;driver_fullname&#x27;]</pre></div></div></div><div class=\"sk-serial\"><div class=\"sk-item\"><div class=\"sk-estimator sk-toggleable\"><input class=\"sk-toggleable__control sk-hidden--visually\" id=\"sk-estimator-id-37\" type=\"checkbox\" ><label for=\"sk-estimator-id-37\" class=\"sk-toggleable__label sk-toggleable__label-arrow\">OneHotEncoder</label><div class=\"sk-toggleable__content\"><pre>OneHotEncoder(handle_unknown=&#x27;ignore&#x27;)</pre></div></div></div></div></div></div></div></div><div class=\"sk-item\"><div class=\"sk-estimator sk-toggleable\"><input class=\"sk-toggleable__control sk-hidden--visually\" id=\"sk-estimator-id-38\" type=\"checkbox\" ><label for=\"sk-estimator-id-38\" class=\"sk-toggleable__label sk-toggleable__label-arrow\">XGBRegressor</label><div class=\"sk-toggleable__content\"><pre>XGBRegressor(base_score=None, booster=None, callbacks=None,\n",
       "             colsample_bylevel=None, colsample_bynode=None,\n",
       "             colsample_bytree=None, early_stopping_rounds=None,\n",
       "             enable_categorical=False, eval_metric=None, feature_types=None,\n",
       "             gamma=None, gpu_id=None, grow_policy=None, importance_type=None,\n",
       "             interaction_constraints=None, learning_rate=None, max_bin=None,\n",
       "             max_cat_threshold=None, max_cat_to_onehot=None,\n",
       "             max_delta_step=None, max_depth=None, max_leaves=None,\n",
       "             min_child_weight=None, missing=nan, monotone_constraints=None,\n",
       "             n_estimators=100, n_jobs=None, num_parallel_tree=None,\n",
       "             predictor=None, random_state=None, ...)</pre></div></div></div></div></div></div></div></div></div></div></div></div>"
      ],
      "text/plain": [
       "GridSearchCV(cv=5,\n",
       "             estimator=Pipeline(steps=[('columntransformer',\n",
       "                                        ColumnTransformer(transformers=[('standardscaler',\n",
       "                                                                         StandardScaler(),\n",
       "                                                                         ['position_prev_quali_driver',\n",
       "                                                                          'avg_position_3_prev_qualis_driver',\n",
       "                                                                          'prev_quali_gap_to_leader_driver',\n",
       "                                                                          'avg_gap_to_leader_3_qualis_driver',\n",
       "                                                                          'prev_gap_to_leader_team',\n",
       "                                                                          'avg_prev_race_position_team',\n",
       "                                                                          'temp',\n",
       "                                                                          'wind_speed',\n",
       "                                                                          'metre...\n",
       "                                                     max_cat_threshold=None,\n",
       "                                                     max_cat_to_onehot=None,\n",
       "                                                     max_delta_step=None,\n",
       "                                                     max_depth=None,\n",
       "                                                     max_leaves=None,\n",
       "                                                     min_child_weight=None,\n",
       "                                                     missing=nan,\n",
       "                                                     monotone_constraints=None,\n",
       "                                                     n_estimators=100,\n",
       "                                                     n_jobs=None,\n",
       "                                                     num_parallel_tree=None,\n",
       "                                                     predictor=None,\n",
       "                                                     random_state=None, ...))]),\n",
       "             n_jobs=1,\n",
       "             param_grid={'xgbregressor__max_depth': [3, 5, 10, 15, 20],\n",
       "                         'xgbregressor__n_estimators': [50, 100, 150, 200]},\n",
       "             scoring='r2')"
      ]
     },
     "execution_count": 113,
     "metadata": {},
     "output_type": "execute_result"
    }
   ],
   "source": [
    "grid_search_model.fit(X_train, y_train)"
   ]
  },
  {
   "cell_type": "code",
   "execution_count": 114,
   "id": "f2f55c5c",
   "metadata": {},
   "outputs": [
    {
     "name": "stdout",
     "output_type": "stream",
     "text": [
      "r2_Score 0.908787973430756 mse 244821.3668499382\n"
     ]
    }
   ],
   "source": [
    "best_parameters=grid_search_model.best_params_\n",
    "r2_score = grid_search_model.best_score_\n",
    "y_pred = grid_search_model.predict(X)\n",
    "mse= mean_squared_error(y,y_pred)\n",
    "print(\"r2_Score\",r2_score,\n",
    "     \"mse\",mse)"
   ]
  },
  {
   "cell_type": "markdown",
   "id": "ff2d0f04",
   "metadata": {},
   "source": [
    "We can see that taking out the outliers, it does not improve the r2 score, therefore there is not overfitting."
   ]
  },
  {
   "cell_type": "markdown",
   "id": "a97d5a7b",
   "metadata": {},
   "source": [
    "# Prediction"
   ]
  },
  {
   "cell_type": "markdown",
   "id": "33446632",
   "metadata": {},
   "source": [
    "With the data that we have, we will predict the laptime on the qualifying session. We will use for the race model."
   ]
  },
  {
   "cell_type": "code",
   "execution_count": 115,
   "id": "cbbb9dc6",
   "metadata": {},
   "outputs": [],
   "source": [
    "qualifying_dataframe_model_final = qualifying_dataframe_model_montmelo\n",
    "X=qualifying_dataframe_model_final\n",
    "qualifying_dataframe_model_final['laptime_prediction']=grid_search_model_quali.predict(X)\n",
    "qualifying_dataframe_model_montmelo['rank_position_predicted']=qualifying_dataframe_model_montmelo.groupby(['year'])['laptime_prediction'].rank()"
   ]
  },
  {
   "cell_type": "markdown",
   "id": "0dfc8493",
   "metadata": {},
   "source": [
    "# Part 2- Lap Races"
   ]
  },
  {
   "cell_type": "markdown",
   "id": "f0ca67ad",
   "metadata": {},
   "source": [
    "Now we would like to create a model in order to predict the races. In this case, we will predict the race position based on also the results of the qualifying model."
   ]
  },
  {
   "cell_type": "markdown",
   "id": "38ba4543",
   "metadata": {},
   "source": [
    "## 1. Creation of the dataframe and data wranggling"
   ]
  },
  {
   "cell_type": "markdown",
   "id": "0d0fb993",
   "metadata": {},
   "source": [
    "The aim with the next actions is to have the information in one table since right now is only in one table."
   ]
  },
  {
   "cell_type": "code",
   "execution_count": 116,
   "id": "4abca22e",
   "metadata": {},
   "outputs": [],
   "source": [
    "drivers['driver_fullname'] = drivers['forename']+\" \"+drivers['surname']"
   ]
  },
  {
   "cell_type": "markdown",
   "id": "04cfd3a0",
   "metadata": {},
   "source": [
    "Here we will create the lap times dataframe and joining information with other tables."
   ]
  },
  {
   "cell_type": "code",
   "execution_count": 117,
   "id": "20b1c4e4",
   "metadata": {},
   "outputs": [],
   "source": [
    "lap_times_datafame=lap_times.merge(drivers[['code','driverId','driver_fullname']], on='driverId', how ='left')"
   ]
  },
  {
   "cell_type": "code",
   "execution_count": 118,
   "id": "f5ad33eb",
   "metadata": {},
   "outputs": [],
   "source": [
    "lap_times_datafame=lap_times_datafame.merge(races[['raceId','year','round','name','circuitId']],on='raceId', how='left')"
   ]
  },
  {
   "cell_type": "markdown",
   "id": "7f1952c6",
   "metadata": {},
   "source": [
    "Here we want which position it starts the race and the position ended."
   ]
  },
  {
   "cell_type": "code",
   "execution_count": 119,
   "id": "8bb003bd",
   "metadata": {},
   "outputs": [],
   "source": [
    "lap_times_datafame.rename(columns={'position':'lap_position'},inplace=True)"
   ]
  },
  {
   "cell_type": "code",
   "execution_count": 120,
   "id": "a1f77d1d",
   "metadata": {},
   "outputs": [],
   "source": [
    "lap_times_datafame=lap_times_datafame.merge(results[['raceId','grid','statusId','driverId','positionOrder','constructorId']],on=['raceId','driverId'], how='left')"
   ]
  },
  {
   "cell_type": "code",
   "execution_count": 121,
   "id": "cc9f1396",
   "metadata": {},
   "outputs": [],
   "source": [
    "lap_times_datafame=lap_times_datafame.rename(columns={'grid':'GridPosition','positionOrder':'final_position'})"
   ]
  },
  {
   "cell_type": "markdown",
   "id": "e676b89d",
   "metadata": {},
   "source": [
    "Here we want to know if the driver finished the race."
   ]
  },
  {
   "cell_type": "code",
   "execution_count": 122,
   "id": "d2c2d34c",
   "metadata": {},
   "outputs": [],
   "source": [
    "lap_times_datafame=lap_times_datafame.merge(status, on ='statusId',how='inner')"
   ]
  },
  {
   "cell_type": "code",
   "execution_count": 123,
   "id": "78b8880f",
   "metadata": {},
   "outputs": [],
   "source": [
    "lap_times_datafame.drop('statusId',axis=1,inplace=True)"
   ]
  },
  {
   "cell_type": "code",
   "execution_count": 124,
   "id": "4f91c3a3",
   "metadata": {},
   "outputs": [],
   "source": [
    "lap_times_datafame.rename(columns = {'name':'grand_prix'}, inplace = True)"
   ]
  },
  {
   "cell_type": "markdown",
   "id": "fb53fe10",
   "metadata": {},
   "source": [
    "The goal of this is to have the constructor name for all the laps."
   ]
  },
  {
   "cell_type": "code",
   "execution_count": 125,
   "id": "118118a3",
   "metadata": {},
   "outputs": [],
   "source": [
    "lap_times_datafame = lap_times_datafame.merge(constructors[['constructorId','name']], on='constructorId',how='left')"
   ]
  },
  {
   "cell_type": "code",
   "execution_count": 126,
   "id": "c37b9fab",
   "metadata": {},
   "outputs": [],
   "source": [
    "lap_times_datafame.rename(columns = {'name':'constructorName'}, inplace = True)"
   ]
  },
  {
   "cell_type": "markdown",
   "id": "a10339d1",
   "metadata": {},
   "source": [
    "Here we want to have the information of the pitstops occurred on the race."
   ]
  },
  {
   "cell_type": "code",
   "execution_count": 127,
   "id": "0272099e",
   "metadata": {},
   "outputs": [],
   "source": [
    "lap_times_datafame = lap_times_datafame.merge(pit_stops[['raceId','driverId','stop','lap','duration']],\n",
    "                    on=['raceId','driverId','lap'], how='left')"
   ]
  },
  {
   "cell_type": "code",
   "execution_count": 128,
   "id": "2b8a742e",
   "metadata": {},
   "outputs": [],
   "source": [
    "lap_times_datafame.rename(columns = {'stop':'numstops','duration':'pitstopduration',\n",
    "                                'time':'laptime'}, inplace = True)"
   ]
  },
  {
   "cell_type": "markdown",
   "id": "5ef44f95",
   "metadata": {},
   "source": [
    "Here we want to have the name of the circuit that the race was held."
   ]
  },
  {
   "cell_type": "code",
   "execution_count": 129,
   "id": "98d3afb8",
   "metadata": {},
   "outputs": [],
   "source": [
    "lap_times_datafame = lap_times_datafame.merge(races.merge(circuits[['circuitId','name']],on='circuitId',how='left')[['raceId','name_y']],on='raceId',how='left')"
   ]
  },
  {
   "cell_type": "code",
   "execution_count": 130,
   "id": "e6ae8bcd",
   "metadata": {},
   "outputs": [],
   "source": [
    "lap_times_datafame.rename(columns = {'name_y':'circuit'}, inplace = True)"
   ]
  },
  {
   "cell_type": "markdown",
   "id": "399f2074",
   "metadata": {},
   "source": [
    "We will analyze the race with miliseconds."
   ]
  },
  {
   "cell_type": "code",
   "execution_count": 131,
   "id": "25e32d5c",
   "metadata": {},
   "outputs": [],
   "source": [
    "lap_times_datafame.drop('laptime',axis=1,inplace=True)"
   ]
  },
  {
   "cell_type": "code",
   "execution_count": 132,
   "id": "0aefc874",
   "metadata": {},
   "outputs": [],
   "source": [
    "lap_times_datafame.rename(columns = {'milliseconds':'LapTime'}, inplace = True)"
   ]
  },
  {
   "cell_type": "markdown",
   "id": "0c0e4943",
   "metadata": {},
   "source": [
    "We will transform pitstop duration as a float in order to be treated correctly."
   ]
  },
  {
   "cell_type": "code",
   "execution_count": 133,
   "id": "e4e35346",
   "metadata": {},
   "outputs": [],
   "source": [
    "lap_times_datafame['pitstopduration'] =  lap_times_datafame['pitstopduration'].apply(lambda x: float(x) if ':' not in str(x) else float(x.replace(':',',').replace('.','').replace(',','.')))                              "
   ]
  },
  {
   "cell_type": "markdown",
   "id": "e4c3291e",
   "metadata": {},
   "source": [
    "## Dataframe"
   ]
  },
  {
   "cell_type": "markdown",
   "id": "7851dc30",
   "metadata": {},
   "source": [
    "Now we will create a rank to know the order of the races in order of year and round. So it is easier to order and to create new columns."
   ]
  },
  {
   "cell_type": "code",
   "execution_count": 134,
   "id": "101fb76d",
   "metadata": {},
   "outputs": [],
   "source": [
    "lap_times_datafame[\"rank\"] = lap_times_datafame[[\"year\",\"round\"]].apply(tuple,axis=1)\\\n",
    "             .rank(method='dense',ascending=True).astype(int)"
   ]
  },
  {
   "cell_type": "code",
   "execution_count": 135,
   "id": "e9ce06fb",
   "metadata": {},
   "outputs": [],
   "source": [
    "lap_times_datafame.sort_values(by=['rank','driver_fullname','lap'],inplace=True)"
   ]
  },
  {
   "cell_type": "code",
   "execution_count": 136,
   "id": "254b5934",
   "metadata": {},
   "outputs": [],
   "source": [
    "lap_times_datafame.reset_index(inplace=True)"
   ]
  },
  {
   "cell_type": "markdown",
   "id": "fe4ecbb6",
   "metadata": {},
   "source": [
    "# 2. Creation of the KPI's"
   ]
  },
  {
   "cell_type": "markdown",
   "id": "24cdc73a",
   "metadata": {},
   "source": [
    "Here we want to calcule the number of times he entered in boxes (ex: to change tyres, complete a penalty...)"
   ]
  },
  {
   "cell_type": "code",
   "execution_count": 137,
   "id": "48e7309a",
   "metadata": {},
   "outputs": [],
   "source": [
    "lap_times_datafame['boxes']=np.where(lap_times_datafame['pitstopduration']>0,1,0)"
   ]
  },
  {
   "cell_type": "code",
   "execution_count": 138,
   "id": "c3dd4da3",
   "metadata": {},
   "outputs": [],
   "source": [
    "lap_times_datafame['num_stops']=lap_times_datafame.groupby(['raceId','driver_fullname'])['boxes'].cumsum()"
   ]
  },
  {
   "cell_type": "markdown",
   "id": "160e4059",
   "metadata": {},
   "source": [
    "One of the things that we want to measure is tyre degradation. Since we don't have which tyre are using, we will calculate the standard deviation for every stop."
   ]
  },
  {
   "cell_type": "code",
   "execution_count": 139,
   "id": "74560e0f",
   "metadata": {},
   "outputs": [],
   "source": [
    "lap_times_datafame['best_lap_stint']=lap_times_datafame.groupby(['raceId','driver_fullname','num_stops'])['LapTime'].transform('min')"
   ]
  },
  {
   "cell_type": "code",
   "execution_count": 140,
   "id": "5a81a09f",
   "metadata": {},
   "outputs": [],
   "source": [
    "lap_times_datafame['diff_best_lap_stint']=lap_times_datafame['LapTime']-lap_times_datafame['best_lap_stint']"
   ]
  },
  {
   "cell_type": "code",
   "execution_count": 141,
   "id": "478bbcfa",
   "metadata": {},
   "outputs": [],
   "source": [
    "lap_times_datafame['std_stint']=lap_times_datafame.groupby(['raceId','driver_fullname','num_stops'])['LapTime'].transform('std')"
   ]
  },
  {
   "cell_type": "markdown",
   "id": "a42774f6",
   "metadata": {},
   "source": [
    "Another we want to calculate is the number of positions between laps. Specially, it would be usefull to calculate how many positions are gained in the first lap"
   ]
  },
  {
   "cell_type": "code",
   "execution_count": 142,
   "id": "abdcc8ed",
   "metadata": {},
   "outputs": [],
   "source": [
    "lap_times_datafame=lap_times_datafame.sort_values(['rank','driver_fullname','lap'])"
   ]
  },
  {
   "cell_type": "code",
   "execution_count": 143,
   "id": "88e44013",
   "metadata": {},
   "outputs": [],
   "source": [
    "lap_times_datafame.loc[(lap_times_datafame.lap==1),'position_gained_first_lap']=lap_times_datafame['lap_position']-lap_times_datafame['GridPosition']"
   ]
  },
  {
   "cell_type": "markdown",
   "id": "f8926a42",
   "metadata": {},
   "source": [
    "Now let's aggregate the data to not have the information lap by lap."
   ]
  },
  {
   "cell_type": "code",
   "execution_count": 144,
   "id": "d0cf5f8e",
   "metadata": {},
   "outputs": [],
   "source": [
    "agg_dict= {'LapTime':['mean','min','sum','std'],'num_stops':'max','diff_best_lap_stint':'mean','position_gained_first_lap':'max',\n",
    "     'pitstopduration':['mean','sum'],'GridPosition':'max','final_position':'max',\n",
    "    'position_gained_first_lap':'max','std_stint':'mean','lap':'count'}"
   ]
  },
  {
   "cell_type": "code",
   "execution_count": 145,
   "id": "8c5d52b3",
   "metadata": {},
   "outputs": [],
   "source": [
    "lap_time_agg = lap_times_datafame.groupby(['rank','grand_prix','raceId','circuit','round','year','constructorName','driver_fullname','driverId','status']).agg(agg_dict).reset_index()"
   ]
  },
  {
   "cell_type": "code",
   "execution_count": 146,
   "id": "82b34582",
   "metadata": {},
   "outputs": [],
   "source": [
    "lap_time_agg.columns = [' '.join(col).strip() for col in lap_time_agg.columns.values]"
   ]
  },
  {
   "cell_type": "code",
   "execution_count": 147,
   "id": "74ac63c1",
   "metadata": {},
   "outputs": [],
   "source": [
    "lap_time_agg = lap_time_agg.rename(columns={'LapTime mean':'Average_LapTime','LapTime std':'std_LapTime',\n",
    "                               'num_stops max':'Pitstops','diff_best_lap_stint mean':'average_difference_best_lap_of_stint',\n",
    "                               'pitstopduration mean':'average_pit_stop_duration', \n",
    "                                'pitstopduration sum': 'sum_pit_stop_duration',\n",
    "                               'LapTime min':'fastest_lap',\n",
    "                                'final_position max':'final_position',\n",
    "                                'position_gained_first_lap max':'position_gained_first_lap',\n",
    "                                'GridPosition max':'GridPosition','std_stint mean':'mean_std_lap_times_stint',\n",
    "                                           'lap count':'number_laps','LapTime sum':'Total_time','Laptime std':'Laptime_std'})"
   ]
  },
  {
   "cell_type": "code",
   "execution_count": 148,
   "id": "6a820eca",
   "metadata": {},
   "outputs": [],
   "source": [
    "lap_time_agg=lap_time_agg.sort_values(by=['year','round','driver_fullname'])"
   ]
  },
  {
   "cell_type": "markdown",
   "id": "a18ad0de",
   "metadata": {},
   "source": [
    "I want to add the time gap compareda to the the leader. For the ones that have been overlapped, we will try to calculate"
   ]
  },
  {
   "cell_type": "code",
   "execution_count": 149,
   "id": "e1db0678",
   "metadata": {},
   "outputs": [],
   "source": [
    "lap_time_agg=lap_time_agg.merge(results[['driverId','raceId','milliseconds']],on=['raceId','driverId'],how='inner').rename({'milisecons':'total_time'},axis=1)"
   ]
  },
  {
   "cell_type": "code",
   "execution_count": 150,
   "id": "28d376aa",
   "metadata": {
    "scrolled": true
   },
   "outputs": [],
   "source": [
    "lap_time_agg['laps_to_complete']=lap_time_agg.groupby(['year','circuit'])['number_laps'].transform('max')"
   ]
  },
  {
   "cell_type": "code",
   "execution_count": 151,
   "id": "42346b2f",
   "metadata": {},
   "outputs": [],
   "source": [
    "lap_time_agg['laps_remaining']=lap_time_agg['laps_to_complete']-lap_time_agg['number_laps']"
   ]
  },
  {
   "cell_type": "code",
   "execution_count": 152,
   "id": "05ea5a35",
   "metadata": {},
   "outputs": [],
   "source": [
    "lap_time_agg.reset_index(inplace=True)"
   ]
  },
  {
   "cell_type": "markdown",
   "id": "ac2e8e8a",
   "metadata": {},
   "source": [
    "Now we would like to calculate to the group the finish status in order to make it easier to analyze. "
   ]
  },
  {
   "cell_type": "code",
   "execution_count": 153,
   "id": "be4e1778",
   "metadata": {},
   "outputs": [],
   "source": [
    "f2.status_cleaning(lap_time_agg)"
   ]
  },
  {
   "cell_type": "code",
   "execution_count": 154,
   "id": "812e7b4c",
   "metadata": {},
   "outputs": [],
   "source": [
    "one_hot = pd.get_dummies(lap_time_agg['clean_status'])\n",
    "lap_time_agg = lap_time_agg.join(one_hot)"
   ]
  },
  {
   "cell_type": "code",
   "execution_count": 155,
   "id": "b9b0d989",
   "metadata": {},
   "outputs": [],
   "source": [
    "lap_time_agg.drop(columns=['clean_status','status','laps_to_complete'],axis=1,inplace=True)"
   ]
  },
  {
   "cell_type": "markdown",
   "id": "2997c997",
   "metadata": {},
   "source": [
    "Now let's try to calculate some kpis in order to predict the race."
   ]
  },
  {
   "cell_type": "markdown",
   "id": "e5e81771",
   "metadata": {},
   "source": [
    "# Driver's KPI's"
   ]
  },
  {
   "cell_type": "markdown",
   "id": "ada42c6e",
   "metadata": {},
   "source": [
    "As we did previously, we want to calculate averages of the 3 previous races.  The idea will be to predict if he wins or not based on past data."
   ]
  },
  {
   "cell_type": "markdown",
   "id": "a4e42604",
   "metadata": {},
   "source": [
    "Here we want to have the grid positions of previous races. The idea is to predict the target variable with past data."
   ]
  },
  {
   "cell_type": "code",
   "execution_count": 156,
   "id": "32cc2175",
   "metadata": {},
   "outputs": [],
   "source": [
    "lap_time_agg['previous_race_GridPosition_driver']=lap_time_agg.groupby(['driver_fullname'])['GridPosition'].shift(1)\n",
    "lap_time_agg['previous_2race_GridPosition_driver']=lap_time_agg.groupby(['driver_fullname'])['GridPosition'].shift(2)\n",
    "lap_time_agg['previous_3race_GridPosition_driver']=lap_time_agg.groupby(['driver_fullname'])['GridPosition'].shift(3)\n",
    "lap_time_agg['average_GridPosition_3_prev_races_driver']=(lap_time_agg['previous_race_GridPosition_driver']+lap_time_agg['previous_2race_GridPosition_driver']\n",
    "                                                  +lap_time_agg['previous_3race_GridPosition_driver'])/3"
   ]
  },
  {
   "cell_type": "code",
   "execution_count": 157,
   "id": "5182e356",
   "metadata": {},
   "outputs": [],
   "source": [
    "lap_time_agg.drop(columns=['previous_2race_GridPosition_driver','previous_3race_GridPosition_driver'],axis=1,inplace=True)"
   ]
  },
  {
   "cell_type": "markdown",
   "id": "7a8f9373",
   "metadata": {},
   "source": [
    "The idea of this is to calculate the lowest and the highest laptime per driver(with the assumption that follows a normal distribution) based on the laptime that we have. The idea is to know how quick is the driver."
   ]
  },
  {
   "cell_type": "code",
   "execution_count": 158,
   "id": "66cdb3c8",
   "metadata": {},
   "outputs": [],
   "source": [
    "lap_time_agg['max_lap']=lap_time_agg['std_LapTime']*2+lap_time_agg['Average_LapTime']\n",
    "lap_time_agg['min_lap']=lap_time_agg['Average_LapTime']-lap_time_agg['std_LapTime']*2"
   ]
  },
  {
   "cell_type": "markdown",
   "id": "f538b1ed",
   "metadata": {},
   "source": [
    "We want to calculate the average laptime per driver of the previous race."
   ]
  },
  {
   "cell_type": "code",
   "execution_count": 159,
   "id": "475bf60f",
   "metadata": {},
   "outputs": [],
   "source": [
    "lap_time_agg['previous_avergaelaptime_driver']=lap_time_agg.groupby(['driver_fullname'])['Average_LapTime'].shift(1)"
   ]
  },
  {
   "cell_type": "code",
   "execution_count": 160,
   "id": "bc6a9619",
   "metadata": {},
   "outputs": [],
   "source": [
    "lap_time_agg['previous_avergaemaxlaptime_driver']=lap_time_agg.groupby(['driver_fullname'])['max_lap'].shift(1)\n",
    "lap_time_agg['previous_avergaeminlaptime_driver']=lap_time_agg.groupby(['driver_fullname'])['min_lap'].shift(1)"
   ]
  },
  {
   "cell_type": "code",
   "execution_count": 161,
   "id": "04026afe",
   "metadata": {},
   "outputs": [],
   "source": [
    "lap_time_agg['prev_fastest_lap_circuit']=lap_time_agg.groupby(['driver_fullname','circuit'])['fastest_lap'].shift(1)"
   ]
  },
  {
   "cell_type": "markdown",
   "id": "7da03654",
   "metadata": {},
   "source": [
    "Previous races trajectory car-driver"
   ]
  },
  {
   "cell_type": "code",
   "execution_count": 162,
   "id": "d81815c1",
   "metadata": {},
   "outputs": [],
   "source": [
    "lap_time_agg['grid_position_driver_with_same_car']=lap_time_agg.groupby(['constructorName','driverId'])['previous_race_GridPosition_driver'].cumsum()/lap_time_agg.groupby(['constructorName','driverId'])['previous_race_GridPosition_driver'].cumcount()"
   ]
  },
  {
   "cell_type": "markdown",
   "id": "bedf9c02",
   "metadata": {},
   "source": [
    "Position Gained First Lap in previous races"
   ]
  },
  {
   "cell_type": "code",
   "execution_count": 163,
   "id": "256c7aa9",
   "metadata": {},
   "outputs": [],
   "source": [
    "lap_time_agg['previous_race_position_gained_first_lap_driver']=lap_time_agg.groupby(['driver_fullname'])['position_gained_first_lap'].shift(1)\n",
    "lap_time_agg['previous_2race_position_gained_first_lap_driver']=lap_time_agg.groupby(['driver_fullname'])['position_gained_first_lap'].shift(2)\n",
    "lap_time_agg['previous_3race_position_gained_first_lap_driver']=lap_time_agg.groupby(['driver_fullname'])['position_gained_first_lap'].shift(3)\n",
    "lap_time_agg['average_position_gained_first_lap_3_prev_races_driver']=(lap_time_agg['previous_race_position_gained_first_lap_driver']+lap_time_agg['previous_2race_position_gained_first_lap_driver']\n",
    "                                                  +lap_time_agg['previous_3race_position_gained_first_lap_driver'])/3"
   ]
  },
  {
   "cell_type": "code",
   "execution_count": 164,
   "id": "f2eb3a9f",
   "metadata": {},
   "outputs": [],
   "source": [
    "lap_time_agg.drop(columns=['previous_2race_position_gained_first_lap_driver','previous_3race_position_gained_first_lap_driver'],axis=1,inplace=True)"
   ]
  },
  {
   "cell_type": "markdown",
   "id": "1c143f51",
   "metadata": {},
   "source": [
    "Standard deviation of lap times per stint in previous races"
   ]
  },
  {
   "cell_type": "code",
   "execution_count": 165,
   "id": "eaf88801",
   "metadata": {},
   "outputs": [],
   "source": [
    "lap_time_agg['previous_race_std_lap_times_stint_driver']=lap_time_agg.groupby(['driver_fullname'])['mean_std_lap_times_stint'].shift(1)\n",
    "lap_time_agg['previous_2race_std_lap_times_stint_driver']=lap_time_agg.groupby(['driver_fullname'])['mean_std_lap_times_stint'].shift(2)\n",
    "lap_time_agg['previous_3race_std_lap_times_stint_driver']=lap_time_agg.groupby(['driver_fullname'])['mean_std_lap_times_stint'].shift(3)\n",
    "lap_time_agg['average_std_lap_times_3_prev_races_driver']=(lap_time_agg['previous_race_std_lap_times_stint_driver']+lap_time_agg['previous_2race_std_lap_times_stint_driver']\n",
    "                                                  +lap_time_agg['previous_3race_std_lap_times_stint_driver'])/3"
   ]
  },
  {
   "cell_type": "code",
   "execution_count": 166,
   "id": "68b2a5db",
   "metadata": {},
   "outputs": [],
   "source": [
    "lap_time_agg.drop(columns=['previous_2race_std_lap_times_stint_driver','previous_3race_std_lap_times_stint_driver'],axis=1,inplace=True)"
   ]
  },
  {
   "cell_type": "markdown",
   "id": "b003208c",
   "metadata": {},
   "source": [
    "Average of pitstop duration of previous races."
   ]
  },
  {
   "cell_type": "code",
   "execution_count": 167,
   "id": "51920ad1",
   "metadata": {},
   "outputs": [],
   "source": [
    "lap_time_agg['previous_race_avg_pistopduration_driver']=lap_time_agg.groupby(['driver_fullname'])['average_pit_stop_duration'].shift(1)\n",
    "lap_time_agg['previous_2race_avg_pistopduration_driver']=lap_time_agg.groupby(['driver_fullname'])['average_pit_stop_duration'].shift(2)\n",
    "lap_time_agg['previous_3race_avg_pistopduration_driver']=lap_time_agg.groupby(['driver_fullname'])['average_pit_stop_duration'].shift(3)\n",
    "lap_time_agg['average_avg_pistopduration_3_prev_races_driver']=(lap_time_agg['previous_race_avg_pistopduration_driver']+lap_time_agg['previous_2race_avg_pistopduration_driver']\n",
    "                                                  +lap_time_agg['previous_3race_avg_pistopduration_driver'])/3"
   ]
  },
  {
   "cell_type": "code",
   "execution_count": 168,
   "id": "b028a637",
   "metadata": {},
   "outputs": [],
   "source": [
    "lap_time_agg.drop(columns=['previous_2race_avg_pistopduration_driver','previous_3race_avg_pistopduration_driver'],axis=1,inplace=True)"
   ]
  },
  {
   "cell_type": "markdown",
   "id": "0df0ff41",
   "metadata": {},
   "source": [
    "Previous final position in race"
   ]
  },
  {
   "cell_type": "code",
   "execution_count": 169,
   "id": "5777fcb3",
   "metadata": {},
   "outputs": [],
   "source": [
    "lap_time_agg['previous_finalposition_race_driver']=lap_time_agg.groupby(['driver_fullname'])['final_position'].shift(1)\n",
    "lap_time_agg['previous_finalposition_2_race_driver']=lap_time_agg.groupby(['driver_fullname'])['final_position'].shift(2)\n",
    "lap_time_agg['previous_finalposition_3_race_driver']=lap_time_agg.groupby(['driver_fullname'])['final_position'].shift(3)\n",
    "lap_time_agg['average_finalposition_3_prev_races_driver']=(lap_time_agg['previous_finalposition_race_driver']+lap_time_agg['previous_finalposition_2_race_driver']\n",
    "                                                  +lap_time_agg['previous_finalposition_3_race_driver'])/3"
   ]
  },
  {
   "cell_type": "code",
   "execution_count": 170,
   "id": "960d7089",
   "metadata": {},
   "outputs": [],
   "source": [
    "lap_time_agg.drop(columns=['previous_finalposition_2_race_driver','previous_finalposition_3_race_driver'],axis=1,inplace=True)"
   ]
  },
  {
   "cell_type": "markdown",
   "id": "568faccc",
   "metadata": {},
   "source": [
    "Traj in the same car"
   ]
  },
  {
   "cell_type": "code",
   "execution_count": 171,
   "id": "30121691",
   "metadata": {},
   "outputs": [],
   "source": [
    "lap_time_agg['grid_position_driver_with_same_car']=lap_time_agg.groupby(['constructorName','driverId'])['previous_finalposition_race_driver'].cumsum()/lap_time_agg.groupby(['constructorName','driverId'])['previous_finalposition_race_driver'].cumcount()"
   ]
  },
  {
   "cell_type": "markdown",
   "id": "4a19519e",
   "metadata": {},
   "source": [
    "Previous race same circuit"
   ]
  },
  {
   "cell_type": "code",
   "execution_count": 172,
   "id": "254ad90a",
   "metadata": {},
   "outputs": [],
   "source": [
    "lap_time_agg['previous_finalposition_race_driver']=lap_time_agg.groupby(['driver_fullname','circuit'])['final_position'].shift(1)"
   ]
  },
  {
   "cell_type": "markdown",
   "id": "f052bb76",
   "metadata": {},
   "source": [
    "Now let's calculate the percentatge of driver of finshing the race per previous races"
   ]
  },
  {
   "cell_type": "code",
   "execution_count": 173,
   "id": "539c9b0b",
   "metadata": {},
   "outputs": [],
   "source": [
    "lap_time_agg['previous_race_finished_driver']=lap_time_agg.groupby(['driver_fullname'])['Finished'].shift(1)\n",
    "lap_time_agg['previous_2race_finished_driver']=lap_time_agg.groupby(['driver_fullname'])['Finished'].shift(2)\n",
    "lap_time_agg['previous_3race_finished_driver']=lap_time_agg.groupby(['driver_fullname'])['Finished'].shift(3)\n",
    "lap_time_agg['average_finished_3_prev_races_driver']=(lap_time_agg['previous_race_finished_driver']+lap_time_agg['previous_2race_finished_driver']+lap_time_agg['previous_3race_finished_driver'])/3"
   ]
  },
  {
   "cell_type": "code",
   "execution_count": 174,
   "id": "f7faf52a",
   "metadata": {},
   "outputs": [],
   "source": [
    "lap_time_agg.drop(['previous_2race_finished_driver','previous_3race_finished_driver'],axis=1,inplace=True)"
   ]
  },
  {
   "cell_type": "markdown",
   "id": "594549d0",
   "metadata": {},
   "source": [
    "Now let's calculate the percentatge of driver if he was overlapped or not"
   ]
  },
  {
   "cell_type": "code",
   "execution_count": 175,
   "id": "0f6c0879",
   "metadata": {},
   "outputs": [],
   "source": [
    "lap_time_agg['previous_race_overlapped_driver']=lap_time_agg.groupby(['driver_fullname'])['Overlap'].shift(1)\n",
    "lap_time_agg['previous_2race_overlapped_driver']=lap_time_agg.groupby(['driver_fullname'])['Overlap'].shift(2)\n",
    "lap_time_agg['previous_3race_overlapped_driver']=lap_time_agg.groupby(['driver_fullname'])['Overlap'].shift(3)\n",
    "lap_time_agg['average_overlapped_3_prev_races_driver']=(lap_time_agg['previous_race_overlapped_driver']+lap_time_agg['previous_2race_overlapped_driver']+lap_time_agg['previous_3race_overlapped_driver'])/3"
   ]
  },
  {
   "cell_type": "code",
   "execution_count": 176,
   "id": "6ddb244b",
   "metadata": {},
   "outputs": [],
   "source": [
    "lap_time_agg.drop(['previous_2race_overlapped_driver','previous_2race_overlapped_driver'],axis=1,inplace=True)"
   ]
  },
  {
   "cell_type": "markdown",
   "id": "e4680d6e",
   "metadata": {},
   "source": [
    "Now let's calculate the percentahe if there was an accident in the car"
   ]
  },
  {
   "cell_type": "code",
   "execution_count": 177,
   "id": "38a1bd40",
   "metadata": {},
   "outputs": [],
   "source": [
    "lap_time_agg['previous_race_accident_driver']=lap_time_agg.groupby(['driver_fullname'])['Accident'].shift(1)\n",
    "lap_time_agg['previous_2race_accident_driver']=lap_time_agg.groupby(['driver_fullname'])['Accident'].shift(2)\n",
    "lap_time_agg['previous_3race_accident_driver']=lap_time_agg.groupby(['driver_fullname'])['Accident'].shift(3)\n",
    "lap_time_agg['average_accident_3_prev_races_driver']=(lap_time_agg['previous_race_accident_driver']+lap_time_agg['previous_2race_accident_driver']+lap_time_agg['previous_3race_accident_driver'])/3"
   ]
  },
  {
   "cell_type": "markdown",
   "id": "028a16a6",
   "metadata": {},
   "source": [
    "Also let's calculate in the trajectory of the driver the percentage of accidents he had."
   ]
  },
  {
   "cell_type": "code",
   "execution_count": 178,
   "id": "4895f586",
   "metadata": {},
   "outputs": [],
   "source": [
    "lap_time_agg['avg_accident_driv_traj']=lap_time_agg.groupby('driver_fullname')['previous_race_accident_driver'].cumsum()/(lap_time_agg.groupby('driver_fullname')['previous_race_accident_driver'].cumcount())"
   ]
  },
  {
   "cell_type": "markdown",
   "id": "2ef2ae5c",
   "metadata": {},
   "source": [
    "Also let's calculate if he beat the teammate or not, it's the one that you can compare easier because it has equal machinery."
   ]
  },
  {
   "cell_type": "code",
   "execution_count": 179,
   "id": "b6880d19",
   "metadata": {},
   "outputs": [],
   "source": [
    "lap_time_agg[\"best_position_race_team\"]=lap_time_agg.groupby(['rank','constructorName'])['final_position'].transform('min')"
   ]
  },
  {
   "cell_type": "code",
   "execution_count": 180,
   "id": "6ca221c6",
   "metadata": {},
   "outputs": [],
   "source": [
    "lap_time_agg[\"beat_teammate_race\"]=np.where(lap_time_agg[\"best_position_race_team\"]==lap_time_agg[\"final_position\"],1,0)"
   ]
  },
  {
   "cell_type": "code",
   "execution_count": 181,
   "id": "0286e147",
   "metadata": {},
   "outputs": [],
   "source": [
    "lap_time_agg[\"prev_beat_teammate_race\"]=lap_time_agg.groupby(['driver_fullname'])['beat_teammate_race'].shift(1)\n",
    "lap_time_agg[\"prev_beat_teammate_2race\"]=lap_time_agg.groupby(['driver_fullname'])['beat_teammate_race'].shift(2)\n",
    "lap_time_agg[\"prev_beat_teammate_3race\"]=lap_time_agg.groupby(['driver_fullname'])['beat_teammate_race'].shift(3)"
   ]
  },
  {
   "cell_type": "code",
   "execution_count": 182,
   "id": "c50aa568",
   "metadata": {},
   "outputs": [],
   "source": [
    "lap_time_agg['average_accident_3_prev_races']=(lap_time_agg[\"prev_beat_teammate_race\"]+lap_time_agg[\"prev_beat_teammate_2race\"]+lap_time_agg[\"prev_beat_teammate_3race\"])/3"
   ]
  },
  {
   "cell_type": "markdown",
   "id": "c5d4cf21",
   "metadata": {},
   "source": [
    "## Car's Kpis"
   ]
  },
  {
   "cell_type": "markdown",
   "id": "6f7a0095",
   "metadata": {},
   "source": [
    "Let's calculate the average position per team"
   ]
  },
  {
   "cell_type": "code",
   "execution_count": 183,
   "id": "9d6ca2d0",
   "metadata": {},
   "outputs": [],
   "source": [
    "lap_time_agg[\"worst_position_race_team\"]=lap_time_agg.groupby(['rank','constructorName'])['final_position'].transform('max')"
   ]
  },
  {
   "cell_type": "code",
   "execution_count": 184,
   "id": "ad87b5dd",
   "metadata": {},
   "outputs": [],
   "source": [
    "lap_time_agg['avg_position_race_team']=(lap_time_agg[\"worst_position_race_team\"]+lap_time_agg[\"best_position_race_team\"])/2"
   ]
  },
  {
   "cell_type": "code",
   "execution_count": 185,
   "id": "01c5ec15",
   "metadata": {},
   "outputs": [],
   "source": [
    "lap_time_agg['best_GridPosiition_qualifyig_team']=lap_time_agg.groupby(['constructorName','rank'])['GridPosition'].transform('min')\n",
    "lap_time_agg['worst_GridPosiition_qualifyig_team']=lap_time_agg.groupby(['constructorName','rank'])['GridPosition'].transform('max')"
   ]
  },
  {
   "cell_type": "code",
   "execution_count": 186,
   "id": "5557a2e6",
   "metadata": {},
   "outputs": [],
   "source": [
    "lap_time_agg['avg_GridPosiition_qualifyig_team']=(lap_time_agg['worst_GridPosiition_qualifyig_team']+lap_time_agg['best_GridPosiition_qualifyig_team'])/2"
   ]
  },
  {
   "cell_type": "markdown",
   "id": "403b84ea",
   "metadata": {},
   "source": [
    "Here we want to calculate the percentage of ending the race in teams level. Also we want to calculate the percentage in the past of having a problem in the car, and therefore not finsih the race because of that."
   ]
  },
  {
   "cell_type": "code",
   "execution_count": 187,
   "id": "979e2672",
   "metadata": {},
   "outputs": [],
   "source": [
    "lap_time_agg['driver1_finished_race_team']=lap_time_agg.groupby(['constructorName','rank'])['Finished'].transform('min')\n",
    "lap_time_agg['driver2_finished_race_team']=lap_time_agg.groupby(['constructorName','rank'])['Finished'].transform('max')\n",
    "lap_time_agg['percentage_drivers_finish_race_team']=(lap_time_agg['driver1_finished_race_team']+lap_time_agg['driver2_finished_race_team'])/2"
   ]
  },
  {
   "cell_type": "code",
   "execution_count": 188,
   "id": "816bab49",
   "metadata": {},
   "outputs": [],
   "source": [
    "lap_time_agg['driver1_carproblem_race_team']=lap_time_agg.groupby(['constructorName','rank'])['Car Problem'].transform('min')\n",
    "lap_time_agg['driver2_carproblem_race_team']=lap_time_agg.groupby(['constructorName','rank'])['Car Problem'].transform('max')\n",
    "lap_time_agg['percentage_drivers_carproblem_race_team']=(lap_time_agg['driver1_carproblem_race_team']+lap_time_agg['driver2_carproblem_race_team'])/2"
   ]
  },
  {
   "cell_type": "code",
   "execution_count": 189,
   "id": "9901b368",
   "metadata": {},
   "outputs": [],
   "source": [
    "lap_time_agg['driver1_sumpitstopduration_race_team']=lap_time_agg.groupby(['constructorName','rank'])['sum_pit_stop_duration'].transform('min')\n",
    "lap_time_agg['driver2_sumpitstopduration_race_team']=lap_time_agg.groupby(['constructorName','rank'])['sum_pit_stop_duration'].transform('max')\n",
    "lap_time_agg['average_sumpitstopduration_driver_team']=(lap_time_agg['driver2_sumpitstopduration_race_team']+lap_time_agg['driver1_sumpitstopduration_race_team'])/2"
   ]
  },
  {
   "cell_type": "markdown",
   "id": "2d02e4b3",
   "metadata": {},
   "source": [
    "Also we want to calculate the percentage of finishing the race (without being overlapped) in team's level"
   ]
  },
  {
   "cell_type": "code",
   "execution_count": 190,
   "id": "8ad6b70c",
   "metadata": {},
   "outputs": [],
   "source": [
    "lap_time_agg_team=lap_time_agg[['rank','constructorName','year','avg_position_race_team',\"avg_GridPosiition_qualifyig_team\",\n",
    "                                'percentage_drivers_finish_race_team',\n",
    "                               'percentage_drivers_carproblem_race_team',\n",
    "                               'average_sumpitstopduration_driver_team']].drop_duplicates()"
   ]
  },
  {
   "cell_type": "markdown",
   "id": "28fe6d6a",
   "metadata": {},
   "source": [
    "Let's add the average position of race cosnidering the two drivers of the team."
   ]
  },
  {
   "cell_type": "code",
   "execution_count": 191,
   "id": "d1a0b062",
   "metadata": {},
   "outputs": [],
   "source": [
    "lap_time_agg_team['prev_avg_position_race_team']=lap_time_agg_team.groupby(['constructorName'])['avg_position_race_team'].shift(1)\n",
    "lap_time_agg_team['2prev_avg_position_race_team']=lap_time_agg_team.groupby(['constructorName'])['avg_position_race_team'].shift(2)\n",
    "lap_time_agg_team['3prev_avg_position_race_team']=lap_time_agg_team.groupby(['constructorName'])['avg_position_race_team'].shift(3)"
   ]
  },
  {
   "cell_type": "code",
   "execution_count": 192,
   "id": "45aaedbb",
   "metadata": {},
   "outputs": [],
   "source": [
    "lap_time_agg_team['average_race_position_team_3_prev_races']=(lap_time_agg_team['prev_avg_position_race_team']+lap_time_agg_team['2prev_avg_position_race_team']+lap_time_agg_team['3prev_avg_position_race_team'])/3"
   ]
  },
  {
   "cell_type": "markdown",
   "id": "cdaa0176",
   "metadata": {},
   "source": [
    "Here we want to calculate the average position per previous races."
   ]
  },
  {
   "cell_type": "markdown",
   "id": "60becde8",
   "metadata": {},
   "source": [
    "Here we want to calculate the average position per team in the starting grid and calculate for previous races."
   ]
  },
  {
   "cell_type": "code",
   "execution_count": 193,
   "id": "c1cb5ee2",
   "metadata": {},
   "outputs": [],
   "source": [
    "lap_time_agg_team['prev_avg_GridPosition_race_team']=lap_time_agg_team.groupby(['constructorName'])['avg_GridPosiition_qualifyig_team'].shift(1)\n",
    "lap_time_agg_team['2prev_avg_GridPosition_race_team']=lap_time_agg_team.groupby(['constructorName'])['avg_GridPosiition_qualifyig_team'].shift(2)\n",
    "lap_time_agg_team['3prev_avg_GridPosition_race_team']=lap_time_agg_team.groupby(['constructorName'])['avg_GridPosiition_qualifyig_team'].shift(3)"
   ]
  },
  {
   "cell_type": "code",
   "execution_count": 194,
   "id": "864a12c6",
   "metadata": {},
   "outputs": [],
   "source": [
    "lap_time_agg_team['average_GridPosition_team_3_prev_races']=(lap_time_agg_team['prev_avg_GridPosition_race_team']+lap_time_agg_team['2prev_avg_GridPosition_race_team']+lap_time_agg_team['3prev_avg_GridPosition_race_team'])/3"
   ]
  },
  {
   "cell_type": "markdown",
   "id": "7b4b8bfa",
   "metadata": {},
   "source": [
    "We want to calculate the average percentage of car's problem during previous races"
   ]
  },
  {
   "cell_type": "code",
   "execution_count": 195,
   "id": "6c1c590e",
   "metadata": {},
   "outputs": [],
   "source": [
    "lap_time_agg_team['prev_race_car_problem_race_team']=lap_time_agg_team.groupby(['constructorName'])['percentage_drivers_carproblem_race_team'].shift(1)\n",
    "lap_time_agg_team['2prev_race_car_problem_race_team']=lap_time_agg_team.groupby(['constructorName'])['percentage_drivers_carproblem_race_team'].shift(2)\n",
    "lap_time_agg_team['3prev_race_car_problem_race_team']=lap_time_agg_team.groupby(['constructorName'])['percentage_drivers_carproblem_race_team'].shift(3)\n",
    "lap_time_agg_team['avg_3prev_race_car_problem_race_team']=(lap_time_agg_team['prev_race_car_problem_race_team']+lap_time_agg_team['2prev_race_car_problem_race_team']\n",
    "                                                          +lap_time_agg_team['3prev_race_car_problem_race_team'])/3"
   ]
  },
  {
   "cell_type": "markdown",
   "id": "48cce618",
   "metadata": {},
   "source": [
    "We want to put the average of sum of pitstop duration per driver and per team for previous races"
   ]
  },
  {
   "cell_type": "code",
   "execution_count": 196,
   "id": "fdc04357",
   "metadata": {},
   "outputs": [],
   "source": [
    "lap_time_agg_team['prev_average_sumpitstopduration_driver_team']=lap_time_agg_team.groupby(['constructorName'])['average_sumpitstopduration_driver_team'].shift(1)\n",
    "lap_time_agg_team['2prev_average_sumpitstopduration_driver_team']=lap_time_agg_team.groupby(['constructorName'])['average_sumpitstopduration_driver_team'].shift(2)\n",
    "lap_time_agg_team['3prev_average_sumpitstopduration_driver_team']=lap_time_agg_team.groupby(['constructorName'])['average_sumpitstopduration_driver_team'].shift(3)\n",
    "lap_time_agg_team['avg_3_average_sumpitstopduration_driver_team']=(lap_time_agg_team['prev_average_sumpitstopduration_driver_team']+lap_time_agg_team['2prev_average_sumpitstopduration_driver_team']\n",
    "                                                          +lap_time_agg_team['3prev_average_sumpitstopduration_driver_team'])/3"
   ]
  },
  {
   "cell_type": "code",
   "execution_count": 197,
   "id": "37d1e7c9",
   "metadata": {},
   "outputs": [],
   "source": [
    "lap_time_agg_team.drop(columns=['2prev_avg_position_race_team','3prev_avg_position_race_team','2prev_avg_GridPosition_race_team',\n",
    "       '3prev_avg_GridPosition_race_team','2prev_race_car_problem_race_team',\n",
    "       '3prev_race_car_problem_race_team','avg_position_race_team','avg_GridPosiition_qualifyig_team',\n",
    "                               'percentage_drivers_finish_race_team','percentage_drivers_carproblem_race_team',\n",
    "                               '2prev_average_sumpitstopduration_driver_team','3prev_average_sumpitstopduration_driver_team',\n",
    "                               'average_sumpitstopduration_driver_team'],\n",
    "                      inplace=True)"
   ]
  },
  {
   "cell_type": "markdown",
   "id": "86ed85d1",
   "metadata": {},
   "source": [
    "Now let's do a join with the previous data aggregated by team."
   ]
  },
  {
   "cell_type": "code",
   "execution_count": 198,
   "id": "829beb8e",
   "metadata": {},
   "outputs": [],
   "source": [
    "lap_time_model=lap_time_agg.merge(lap_time_agg_team, on=['year','rank','constructorName'],how='inner')"
   ]
  },
  {
   "cell_type": "markdown",
   "id": "eeff1df1",
   "metadata": {},
   "source": [
    "# Montmelo database"
   ]
  },
  {
   "cell_type": "markdown",
   "id": "100dde58",
   "metadata": {},
   "source": [
    "Now we are going to filter only Montmelo"
   ]
  },
  {
   "cell_type": "code",
   "execution_count": 199,
   "id": "7c8de032",
   "metadata": {},
   "outputs": [],
   "source": [
    "lap_time_model_montmelo=lap_time_model[(lap_time_model.circuit=='Circuit de Barcelona-Catalunya')\n",
    "                                       &(lap_time_model.year>2005)].sort_values(by=['rank','constructorName',\n",
    "                                                                                            'driver_fullname'])"
   ]
  },
  {
   "cell_type": "code",
   "execution_count": 200,
   "id": "d174d32e",
   "metadata": {},
   "outputs": [],
   "source": [
    "lap_time_model_montmelo.drop(['fastest_lap', 'Pitstops',\n",
    "       'average_difference_best_lap_of_stint', 'position_gained_first_lap',\n",
    "       'average_pit_stop_duration', 'sum_pit_stop_duration','mean_std_lap_times_stint', 'Accident', 'Car Problem',\n",
    "       'Disqualified/Not qualified', 'Driver issue', 'Finished', 'Overlap',\n",
    "       'Retired', 'Tyre Problem','previous_2race_accident_driver',\n",
    "       'previous_3race_accident_driver','best_GridPosiition_qualifyig_team',\n",
    "       'worst_GridPosiition_qualifyig_team','worst_position_race_team', 'avg_position_race_team'\n",
    "       ,'best_position_race_team','beat_teammate_race','prev_beat_teammate_2race', 'prev_beat_teammate_3race',\n",
    "        'avg_GridPosiition_qualifyig_team','driver1_finished_race_team', 'driver2_finished_race_team',\n",
    "       'percentage_drivers_finish_race_team', 'driver1_carproblem_race_team',\n",
    "       'driver2_carproblem_race_team',\n",
    "       'percentage_drivers_carproblem_race_team',\n",
    "       'driver1_sumpitstopduration_race_team',\n",
    "       'driver2_sumpitstopduration_race_team',\n",
    "       'average_sumpitstopduration_driver_team'],axis=1,inplace=True)"
   ]
  },
  {
   "cell_type": "markdown",
   "id": "7afdcbd0",
   "metadata": {},
   "source": [
    "We will filter above 2010 since there were no data of pitstop duration"
   ]
  },
  {
   "cell_type": "code",
   "execution_count": 201,
   "id": "28faf412",
   "metadata": {},
   "outputs": [],
   "source": [
    "lap_time_model_montmelo=lap_time_model_montmelo[lap_time_model_montmelo.year>2010].dropna()"
   ]
  },
  {
   "cell_type": "markdown",
   "id": "562f2770",
   "metadata": {},
   "source": [
    "Now let's do a join with the weather"
   ]
  },
  {
   "cell_type": "code",
   "execution_count": 202,
   "id": "ce530029",
   "metadata": {},
   "outputs": [],
   "source": [
    "lap_time_model_montmelo=lap_time_model_montmelo.merge(race_weather,on=['year'],how='inner')"
   ]
  },
  {
   "cell_type": "code",
   "execution_count": 203,
   "id": "d35586b4",
   "metadata": {},
   "outputs": [],
   "source": [
    "lap_time_model_montmelo=lap_time_model_montmelo.merge(qualifying_dataframe_model_final[['year', 'circuit', 'driver_fullname', 'constructorName',\n",
    "       'prev_gap_to_leader_team', 'avg_gap_to_leader_3_races_team',\n",
    "       'avg_percentaje_beat_teammate_quali_driver', 'poles_prev_quali_driver',\n",
    "       'q2_previous_qualifying_driver', 'q3_previous_qualifying_driver',\n",
    "       'q2_percentage_driver', 'q3_percentage_driver','laptime_prediction',\n",
    "       'rank_position_predicted',]],on=['circuit','constructorName','driver_fullname','year'],how='inner')"
   ]
  },
  {
   "cell_type": "code",
   "execution_count": 204,
   "id": "679b11d4",
   "metadata": {},
   "outputs": [],
   "source": [
    "lap_time_model_montmelo.drop(['index', 'rank', 'grand_prix', 'circuit', 'round', 'year','Unnamed: 0', 'date',\n",
    "       'start_time', 'lat', 'lng', 'next_time','GridPosition', 'temp', 'precip', 'wind_speed',\n",
    "                             'Average_LapTime', 'Total_time', 'std_LapTime',\n",
    "       'number_laps', 'milliseconds', 'laps_remaining','max_lap', 'min_lap','grid_position_driver_with_same_car',\n",
    "                             'driverId','raceId'],axis=1,inplace=True)"
   ]
  },
  {
   "cell_type": "markdown",
   "id": "5660856a",
   "metadata": {},
   "source": [
    "# 3.Exploratoty data Analysys"
   ]
  },
  {
   "cell_type": "markdown",
   "id": "0f182462",
   "metadata": {},
   "source": [
    "We calculate the linear correlation with the target variable."
   ]
  },
  {
   "cell_type": "code",
   "execution_count": 205,
   "id": "2a99a480",
   "metadata": {},
   "outputs": [
    {
     "data": {
      "text/html": [
       "<div>\n",
       "<style scoped>\n",
       "    .dataframe tbody tr th:only-of-type {\n",
       "        vertical-align: middle;\n",
       "    }\n",
       "\n",
       "    .dataframe tbody tr th {\n",
       "        vertical-align: top;\n",
       "    }\n",
       "\n",
       "    .dataframe thead th {\n",
       "        text-align: right;\n",
       "    }\n",
       "</style>\n",
       "<table border=\"1\" class=\"dataframe\">\n",
       "  <thead>\n",
       "    <tr style=\"text-align: right;\">\n",
       "      <th></th>\n",
       "      <th>final_position</th>\n",
       "    </tr>\n",
       "  </thead>\n",
       "  <tbody>\n",
       "    <tr>\n",
       "      <th>final_position</th>\n",
       "      <td>1.000000</td>\n",
       "    </tr>\n",
       "    <tr>\n",
       "      <th>previous_race_GridPosition_driver</th>\n",
       "      <td>0.660747</td>\n",
       "    </tr>\n",
       "    <tr>\n",
       "      <th>average_GridPosition_3_prev_races_driver</th>\n",
       "      <td>0.688013</td>\n",
       "    </tr>\n",
       "    <tr>\n",
       "      <th>previous_avergaelaptime_driver</th>\n",
       "      <td>0.073665</td>\n",
       "    </tr>\n",
       "    <tr>\n",
       "      <th>previous_avergaemaxlaptime_driver</th>\n",
       "      <td>-0.005383</td>\n",
       "    </tr>\n",
       "    <tr>\n",
       "      <th>previous_avergaeminlaptime_driver</th>\n",
       "      <td>0.118145</td>\n",
       "    </tr>\n",
       "    <tr>\n",
       "      <th>prev_fastest_lap_circuit</th>\n",
       "      <td>0.050534</td>\n",
       "    </tr>\n",
       "    <tr>\n",
       "      <th>previous_race_position_gained_first_lap_driver</th>\n",
       "      <td>-0.101728</td>\n",
       "    </tr>\n",
       "    <tr>\n",
       "      <th>average_position_gained_first_lap_3_prev_races_driver</th>\n",
       "      <td>-0.127077</td>\n",
       "    </tr>\n",
       "    <tr>\n",
       "      <th>previous_race_std_lap_times_stint_driver</th>\n",
       "      <td>-0.049710</td>\n",
       "    </tr>\n",
       "    <tr>\n",
       "      <th>average_std_lap_times_3_prev_races_driver</th>\n",
       "      <td>0.104330</td>\n",
       "    </tr>\n",
       "    <tr>\n",
       "      <th>previous_race_avg_pistopduration_driver</th>\n",
       "      <td>0.029990</td>\n",
       "    </tr>\n",
       "    <tr>\n",
       "      <th>average_avg_pistopduration_3_prev_races_driver</th>\n",
       "      <td>0.156743</td>\n",
       "    </tr>\n",
       "    <tr>\n",
       "      <th>previous_finalposition_race_driver</th>\n",
       "      <td>0.384369</td>\n",
       "    </tr>\n",
       "    <tr>\n",
       "      <th>average_finalposition_3_prev_races_driver</th>\n",
       "      <td>0.693891</td>\n",
       "    </tr>\n",
       "    <tr>\n",
       "      <th>previous_race_finished_driver</th>\n",
       "      <td>-0.460459</td>\n",
       "    </tr>\n",
       "    <tr>\n",
       "      <th>average_finished_3_prev_races_driver</th>\n",
       "      <td>-0.606710</td>\n",
       "    </tr>\n",
       "    <tr>\n",
       "      <th>previous_race_overlapped_driver</th>\n",
       "      <td>0.552658</td>\n",
       "    </tr>\n",
       "    <tr>\n",
       "      <th>previous_3race_overlapped_driver</th>\n",
       "      <td>0.404428</td>\n",
       "    </tr>\n",
       "    <tr>\n",
       "      <th>average_overlapped_3_prev_races_driver</th>\n",
       "      <td>0.606924</td>\n",
       "    </tr>\n",
       "    <tr>\n",
       "      <th>previous_race_accident_driver</th>\n",
       "      <td>NaN</td>\n",
       "    </tr>\n",
       "    <tr>\n",
       "      <th>average_accident_3_prev_races_driver</th>\n",
       "      <td>-0.019529</td>\n",
       "    </tr>\n",
       "    <tr>\n",
       "      <th>avg_accident_driv_traj</th>\n",
       "      <td>0.199086</td>\n",
       "    </tr>\n",
       "    <tr>\n",
       "      <th>prev_beat_teammate_race</th>\n",
       "      <td>-0.057897</td>\n",
       "    </tr>\n",
       "    <tr>\n",
       "      <th>average_accident_3_prev_races</th>\n",
       "      <td>-0.023709</td>\n",
       "    </tr>\n",
       "    <tr>\n",
       "      <th>prev_avg_position_race_team</th>\n",
       "      <td>0.561478</td>\n",
       "    </tr>\n",
       "    <tr>\n",
       "      <th>average_race_position_team_3_prev_races</th>\n",
       "      <td>0.692717</td>\n",
       "    </tr>\n",
       "    <tr>\n",
       "      <th>prev_avg_GridPosition_race_team</th>\n",
       "      <td>0.651763</td>\n",
       "    </tr>\n",
       "    <tr>\n",
       "      <th>average_GridPosition_team_3_prev_races</th>\n",
       "      <td>0.682764</td>\n",
       "    </tr>\n",
       "    <tr>\n",
       "      <th>prev_race_car_problem_race_team</th>\n",
       "      <td>-0.047151</td>\n",
       "    </tr>\n",
       "    <tr>\n",
       "      <th>avg_3prev_race_car_problem_race_team</th>\n",
       "      <td>0.120055</td>\n",
       "    </tr>\n",
       "    <tr>\n",
       "      <th>prev_average_sumpitstopduration_driver_team</th>\n",
       "      <td>0.149895</td>\n",
       "    </tr>\n",
       "    <tr>\n",
       "      <th>avg_3_average_sumpitstopduration_driver_team</th>\n",
       "      <td>0.089706</td>\n",
       "    </tr>\n",
       "    <tr>\n",
       "      <th>prev_gap_to_leader_team</th>\n",
       "      <td>0.599455</td>\n",
       "    </tr>\n",
       "    <tr>\n",
       "      <th>avg_gap_to_leader_3_races_team</th>\n",
       "      <td>0.393752</td>\n",
       "    </tr>\n",
       "    <tr>\n",
       "      <th>avg_percentaje_beat_teammate_quali_driver</th>\n",
       "      <td>-0.265965</td>\n",
       "    </tr>\n",
       "    <tr>\n",
       "      <th>poles_prev_quali_driver</th>\n",
       "      <td>-0.217048</td>\n",
       "    </tr>\n",
       "    <tr>\n",
       "      <th>q2_previous_qualifying_driver</th>\n",
       "      <td>-0.525244</td>\n",
       "    </tr>\n",
       "    <tr>\n",
       "      <th>q3_previous_qualifying_driver</th>\n",
       "      <td>-0.599734</td>\n",
       "    </tr>\n",
       "    <tr>\n",
       "      <th>q2_percentage_driver</th>\n",
       "      <td>-0.413739</td>\n",
       "    </tr>\n",
       "    <tr>\n",
       "      <th>q3_percentage_driver</th>\n",
       "      <td>-0.463104</td>\n",
       "    </tr>\n",
       "    <tr>\n",
       "      <th>laptime_prediction</th>\n",
       "      <td>0.322861</td>\n",
       "    </tr>\n",
       "    <tr>\n",
       "      <th>rank_position_predicted</th>\n",
       "      <td>0.669080</td>\n",
       "    </tr>\n",
       "  </tbody>\n",
       "</table>\n",
       "</div>"
      ],
      "text/plain": [
       "                                                    final_position\n",
       "final_position                                            1.000000\n",
       "previous_race_GridPosition_driver                         0.660747\n",
       "average_GridPosition_3_prev_races_driver                  0.688013\n",
       "previous_avergaelaptime_driver                            0.073665\n",
       "previous_avergaemaxlaptime_driver                        -0.005383\n",
       "previous_avergaeminlaptime_driver                         0.118145\n",
       "prev_fastest_lap_circuit                                  0.050534\n",
       "previous_race_position_gained_first_lap_driver           -0.101728\n",
       "average_position_gained_first_lap_3_prev_races_...       -0.127077\n",
       "previous_race_std_lap_times_stint_driver                 -0.049710\n",
       "average_std_lap_times_3_prev_races_driver                 0.104330\n",
       "previous_race_avg_pistopduration_driver                   0.029990\n",
       "average_avg_pistopduration_3_prev_races_driver            0.156743\n",
       "previous_finalposition_race_driver                        0.384369\n",
       "average_finalposition_3_prev_races_driver                 0.693891\n",
       "previous_race_finished_driver                            -0.460459\n",
       "average_finished_3_prev_races_driver                     -0.606710\n",
       "previous_race_overlapped_driver                           0.552658\n",
       "previous_3race_overlapped_driver                          0.404428\n",
       "average_overlapped_3_prev_races_driver                    0.606924\n",
       "previous_race_accident_driver                                  NaN\n",
       "average_accident_3_prev_races_driver                     -0.019529\n",
       "avg_accident_driv_traj                                    0.199086\n",
       "prev_beat_teammate_race                                  -0.057897\n",
       "average_accident_3_prev_races                            -0.023709\n",
       "prev_avg_position_race_team                               0.561478\n",
       "average_race_position_team_3_prev_races                   0.692717\n",
       "prev_avg_GridPosition_race_team                           0.651763\n",
       "average_GridPosition_team_3_prev_races                    0.682764\n",
       "prev_race_car_problem_race_team                          -0.047151\n",
       "avg_3prev_race_car_problem_race_team                      0.120055\n",
       "prev_average_sumpitstopduration_driver_team               0.149895\n",
       "avg_3_average_sumpitstopduration_driver_team              0.089706\n",
       "prev_gap_to_leader_team                                   0.599455\n",
       "avg_gap_to_leader_3_races_team                            0.393752\n",
       "avg_percentaje_beat_teammate_quali_driver                -0.265965\n",
       "poles_prev_quali_driver                                  -0.217048\n",
       "q2_previous_qualifying_driver                            -0.525244\n",
       "q3_previous_qualifying_driver                            -0.599734\n",
       "q2_percentage_driver                                     -0.413739\n",
       "q3_percentage_driver                                     -0.463104\n",
       "laptime_prediction                                        0.322861\n",
       "rank_position_predicted                                   0.669080"
      ]
     },
     "execution_count": 205,
     "metadata": {},
     "output_type": "execute_result"
    }
   ],
   "source": [
    "lap_time_model_montmelo.corr()[['final_position']]"
   ]
  },
  {
   "cell_type": "markdown",
   "id": "0473e7d0",
   "metadata": {},
   "source": [
    "## 4.1 Linear Regression"
   ]
  },
  {
   "cell_type": "markdown",
   "id": "fa243635",
   "metadata": {},
   "source": [
    "First we are going to test a simple logistic regression and adding variables in order to see if the r2_score it improves or not. We will need to do oversampling on the winning part."
   ]
  },
  {
   "cell_type": "code",
   "execution_count": 206,
   "id": "62a9ff3b",
   "metadata": {},
   "outputs": [],
   "source": [
    "df_linear_regression_race=pd.DataFrame(columns=['Columns', 'R2_score', 'Mse'])"
   ]
  },
  {
   "cell_type": "markdown",
   "id": "2d230a2f",
   "metadata": {},
   "source": [
    "Those are the variables that we selected for the analysis"
   ]
  },
  {
   "cell_type": "code",
   "execution_count": 207,
   "id": "2ac0c6e5",
   "metadata": {},
   "outputs": [],
   "source": [
    "numerical= [\n",
    "       'previous_race_GridPosition_driver',\n",
    "       'average_GridPosition_3_prev_races_driver',\n",
    "       'previous_avergaelaptime_driver', 'previous_avergaemaxlaptime_driver',\n",
    "       'previous_avergaeminlaptime_driver', 'prev_fastest_lap_circuit',\n",
    "       'previous_race_position_gained_first_lap_driver',\n",
    "       'average_position_gained_first_lap_3_prev_races_driver',\n",
    "       'previous_race_std_lap_times_stint_driver',\n",
    "       'average_std_lap_times_3_prev_races_driver',\n",
    "       'previous_race_avg_pistopduration_driver',\n",
    "       'average_avg_pistopduration_3_prev_races_driver',\n",
    "       'previous_finalposition_race_driver',\n",
    "       'average_finalposition_3_prev_races_driver',\n",
    "       'previous_race_finished_driver', 'average_finished_3_prev_races_driver',\n",
    "       'previous_race_overlapped_driver', 'previous_3race_overlapped_driver',\n",
    "       'average_overlapped_3_prev_races_driver',\n",
    "       'previous_race_accident_driver', 'average_accident_3_prev_races_driver',\n",
    "       'avg_accident_driv_traj', 'prev_beat_teammate_race',\n",
    "       'average_accident_3_prev_races', 'prev_avg_position_race_team',\n",
    "       'average_race_position_team_3_prev_races',\n",
    "       'prev_avg_GridPosition_race_team',\n",
    "       'average_GridPosition_team_3_prev_races',\n",
    "       'prev_race_car_problem_race_team',\n",
    "       'avg_3prev_race_car_problem_race_team',\n",
    "       'prev_average_sumpitstopduration_driver_team',\n",
    "       'avg_3_average_sumpitstopduration_driver_team',\n",
    "       'prev_gap_to_leader_team', 'avg_gap_to_leader_3_races_team',\n",
    "       'avg_percentaje_beat_teammate_quali_driver', 'poles_prev_quali_driver',\n",
    "       'q2_previous_qualifying_driver', 'q3_previous_qualifying_driver',\n",
    "       'q2_percentage_driver', 'q3_percentage_driver', 'laptime_prediction',\n",
    "       'rank_position_predicted']\n",
    "categorical = ['constructorName', 'driver_fullname']"
   ]
  },
  {
   "cell_type": "code",
   "execution_count": 208,
   "id": "06eca7dc",
   "metadata": {},
   "outputs": [],
   "source": [
    "preprocessor = make_column_transformer(\n",
    "  (StandardScaler(), numerical),\n",
    "  (OneHotEncoder(handle_unknown='ignore'), categorical))"
   ]
  },
  {
   "cell_type": "code",
   "execution_count": 209,
   "id": "b8d81604",
   "metadata": {},
   "outputs": [],
   "source": [
    "X=lap_time_model_montmelo.drop(['final_position'],axis=1)\n",
    "y=lap_time_model_montmelo.final_position"
   ]
  },
  {
   "cell_type": "code",
   "execution_count": 210,
   "id": "c9b83d9a",
   "metadata": {},
   "outputs": [],
   "source": [
    "model = make_pipeline(preprocessor,LinearRegression())"
   ]
  },
  {
   "cell_type": "code",
   "execution_count": 211,
   "id": "8abe1164",
   "metadata": {},
   "outputs": [],
   "source": [
    "X_train, X_test, y_train, y_test = train_test_split(X, y, test_size=0.2, random_state=33)"
   ]
  },
  {
   "cell_type": "code",
   "execution_count": 212,
   "id": "ec3c9ee4",
   "metadata": {
    "scrolled": false
   },
   "outputs": [
    {
     "data": {
      "text/html": [
       "<style>#sk-container-id-6 {color: black;background-color: white;}#sk-container-id-6 pre{padding: 0;}#sk-container-id-6 div.sk-toggleable {background-color: white;}#sk-container-id-6 label.sk-toggleable__label {cursor: pointer;display: block;width: 100%;margin-bottom: 0;padding: 0.3em;box-sizing: border-box;text-align: center;}#sk-container-id-6 label.sk-toggleable__label-arrow:before {content: \"▸\";float: left;margin-right: 0.25em;color: #696969;}#sk-container-id-6 label.sk-toggleable__label-arrow:hover:before {color: black;}#sk-container-id-6 div.sk-estimator:hover label.sk-toggleable__label-arrow:before {color: black;}#sk-container-id-6 div.sk-toggleable__content {max-height: 0;max-width: 0;overflow: hidden;text-align: left;background-color: #f0f8ff;}#sk-container-id-6 div.sk-toggleable__content pre {margin: 0.2em;color: black;border-radius: 0.25em;background-color: #f0f8ff;}#sk-container-id-6 input.sk-toggleable__control:checked~div.sk-toggleable__content {max-height: 200px;max-width: 100%;overflow: auto;}#sk-container-id-6 input.sk-toggleable__control:checked~label.sk-toggleable__label-arrow:before {content: \"▾\";}#sk-container-id-6 div.sk-estimator input.sk-toggleable__control:checked~label.sk-toggleable__label {background-color: #d4ebff;}#sk-container-id-6 div.sk-label input.sk-toggleable__control:checked~label.sk-toggleable__label {background-color: #d4ebff;}#sk-container-id-6 input.sk-hidden--visually {border: 0;clip: rect(1px 1px 1px 1px);clip: rect(1px, 1px, 1px, 1px);height: 1px;margin: -1px;overflow: hidden;padding: 0;position: absolute;width: 1px;}#sk-container-id-6 div.sk-estimator {font-family: monospace;background-color: #f0f8ff;border: 1px dotted black;border-radius: 0.25em;box-sizing: border-box;margin-bottom: 0.5em;}#sk-container-id-6 div.sk-estimator:hover {background-color: #d4ebff;}#sk-container-id-6 div.sk-parallel-item::after {content: \"\";width: 100%;border-bottom: 1px solid gray;flex-grow: 1;}#sk-container-id-6 div.sk-label:hover label.sk-toggleable__label {background-color: #d4ebff;}#sk-container-id-6 div.sk-serial::before {content: \"\";position: absolute;border-left: 1px solid gray;box-sizing: border-box;top: 0;bottom: 0;left: 50%;z-index: 0;}#sk-container-id-6 div.sk-serial {display: flex;flex-direction: column;align-items: center;background-color: white;padding-right: 0.2em;padding-left: 0.2em;position: relative;}#sk-container-id-6 div.sk-item {position: relative;z-index: 1;}#sk-container-id-6 div.sk-parallel {display: flex;align-items: stretch;justify-content: center;background-color: white;position: relative;}#sk-container-id-6 div.sk-item::before, #sk-container-id-6 div.sk-parallel-item::before {content: \"\";position: absolute;border-left: 1px solid gray;box-sizing: border-box;top: 0;bottom: 0;left: 50%;z-index: -1;}#sk-container-id-6 div.sk-parallel-item {display: flex;flex-direction: column;z-index: 1;position: relative;background-color: white;}#sk-container-id-6 div.sk-parallel-item:first-child::after {align-self: flex-end;width: 50%;}#sk-container-id-6 div.sk-parallel-item:last-child::after {align-self: flex-start;width: 50%;}#sk-container-id-6 div.sk-parallel-item:only-child::after {width: 0;}#sk-container-id-6 div.sk-dashed-wrapped {border: 1px dashed gray;margin: 0 0.4em 0.5em 0.4em;box-sizing: border-box;padding-bottom: 0.4em;background-color: white;}#sk-container-id-6 div.sk-label label {font-family: monospace;font-weight: bold;display: inline-block;line-height: 1.2em;}#sk-container-id-6 div.sk-label-container {text-align: center;}#sk-container-id-6 div.sk-container {/* jupyter's `normalize.less` sets `[hidden] { display: none; }` but bootstrap.min.css set `[hidden] { display: none !important; }` so we also need the `!important` here to be able to override the default hidden behavior on the sphinx rendered scikit-learn.org. See: https://github.com/scikit-learn/scikit-learn/issues/21755 */display: inline-block !important;position: relative;}#sk-container-id-6 div.sk-text-repr-fallback {display: none;}</style><div id=\"sk-container-id-6\" class=\"sk-top-container\"><div class=\"sk-text-repr-fallback\"><pre>Pipeline(steps=[(&#x27;columntransformer&#x27;,\n",
       "                 ColumnTransformer(transformers=[(&#x27;standardscaler&#x27;,\n",
       "                                                  StandardScaler(),\n",
       "                                                  [&#x27;previous_race_GridPosition_driver&#x27;,\n",
       "                                                   &#x27;average_GridPosition_3_prev_races_driver&#x27;,\n",
       "                                                   &#x27;previous_avergaelaptime_driver&#x27;,\n",
       "                                                   &#x27;previous_avergaemaxlaptime_driver&#x27;,\n",
       "                                                   &#x27;previous_avergaeminlaptime_driver&#x27;,\n",
       "                                                   &#x27;prev_fastest_lap_circuit&#x27;,\n",
       "                                                   &#x27;previous_race_position_gained_fir...\n",
       "                                                   &#x27;prev_avg_position_race_team&#x27;,\n",
       "                                                   &#x27;average_race_position_team_3_prev_races&#x27;,\n",
       "                                                   &#x27;prev_avg_GridPosition_race_team&#x27;,\n",
       "                                                   &#x27;average_GridPosition_team_3_prev_races&#x27;,\n",
       "                                                   &#x27;prev_race_car_problem_race_team&#x27;,\n",
       "                                                   &#x27;avg_3prev_race_car_problem_race_team&#x27;, ...]),\n",
       "                                                 (&#x27;onehotencoder&#x27;,\n",
       "                                                  OneHotEncoder(handle_unknown=&#x27;ignore&#x27;),\n",
       "                                                  [&#x27;constructorName&#x27;,\n",
       "                                                   &#x27;driver_fullname&#x27;])])),\n",
       "                (&#x27;linearregression&#x27;, LinearRegression())])</pre><b>In a Jupyter environment, please rerun this cell to show the HTML representation or trust the notebook. <br />On GitHub, the HTML representation is unable to render, please try loading this page with nbviewer.org.</b></div><div class=\"sk-container\" hidden><div class=\"sk-item sk-dashed-wrapped\"><div class=\"sk-label-container\"><div class=\"sk-label sk-toggleable\"><input class=\"sk-toggleable__control sk-hidden--visually\" id=\"sk-estimator-id-39\" type=\"checkbox\" ><label for=\"sk-estimator-id-39\" class=\"sk-toggleable__label sk-toggleable__label-arrow\">Pipeline</label><div class=\"sk-toggleable__content\"><pre>Pipeline(steps=[(&#x27;columntransformer&#x27;,\n",
       "                 ColumnTransformer(transformers=[(&#x27;standardscaler&#x27;,\n",
       "                                                  StandardScaler(),\n",
       "                                                  [&#x27;previous_race_GridPosition_driver&#x27;,\n",
       "                                                   &#x27;average_GridPosition_3_prev_races_driver&#x27;,\n",
       "                                                   &#x27;previous_avergaelaptime_driver&#x27;,\n",
       "                                                   &#x27;previous_avergaemaxlaptime_driver&#x27;,\n",
       "                                                   &#x27;previous_avergaeminlaptime_driver&#x27;,\n",
       "                                                   &#x27;prev_fastest_lap_circuit&#x27;,\n",
       "                                                   &#x27;previous_race_position_gained_fir...\n",
       "                                                   &#x27;prev_avg_position_race_team&#x27;,\n",
       "                                                   &#x27;average_race_position_team_3_prev_races&#x27;,\n",
       "                                                   &#x27;prev_avg_GridPosition_race_team&#x27;,\n",
       "                                                   &#x27;average_GridPosition_team_3_prev_races&#x27;,\n",
       "                                                   &#x27;prev_race_car_problem_race_team&#x27;,\n",
       "                                                   &#x27;avg_3prev_race_car_problem_race_team&#x27;, ...]),\n",
       "                                                 (&#x27;onehotencoder&#x27;,\n",
       "                                                  OneHotEncoder(handle_unknown=&#x27;ignore&#x27;),\n",
       "                                                  [&#x27;constructorName&#x27;,\n",
       "                                                   &#x27;driver_fullname&#x27;])])),\n",
       "                (&#x27;linearregression&#x27;, LinearRegression())])</pre></div></div></div><div class=\"sk-serial\"><div class=\"sk-item sk-dashed-wrapped\"><div class=\"sk-label-container\"><div class=\"sk-label sk-toggleable\"><input class=\"sk-toggleable__control sk-hidden--visually\" id=\"sk-estimator-id-40\" type=\"checkbox\" ><label for=\"sk-estimator-id-40\" class=\"sk-toggleable__label sk-toggleable__label-arrow\">columntransformer: ColumnTransformer</label><div class=\"sk-toggleable__content\"><pre>ColumnTransformer(transformers=[(&#x27;standardscaler&#x27;, StandardScaler(),\n",
       "                                 [&#x27;previous_race_GridPosition_driver&#x27;,\n",
       "                                  &#x27;average_GridPosition_3_prev_races_driver&#x27;,\n",
       "                                  &#x27;previous_avergaelaptime_driver&#x27;,\n",
       "                                  &#x27;previous_avergaemaxlaptime_driver&#x27;,\n",
       "                                  &#x27;previous_avergaeminlaptime_driver&#x27;,\n",
       "                                  &#x27;prev_fastest_lap_circuit&#x27;,\n",
       "                                  &#x27;previous_race_position_gained_first_lap_driver&#x27;,\n",
       "                                  &#x27;average_position_gain...\n",
       "                                  &#x27;average_accident_3_prev_races&#x27;,\n",
       "                                  &#x27;prev_avg_position_race_team&#x27;,\n",
       "                                  &#x27;average_race_position_team_3_prev_races&#x27;,\n",
       "                                  &#x27;prev_avg_GridPosition_race_team&#x27;,\n",
       "                                  &#x27;average_GridPosition_team_3_prev_races&#x27;,\n",
       "                                  &#x27;prev_race_car_problem_race_team&#x27;,\n",
       "                                  &#x27;avg_3prev_race_car_problem_race_team&#x27;, ...]),\n",
       "                                (&#x27;onehotencoder&#x27;,\n",
       "                                 OneHotEncoder(handle_unknown=&#x27;ignore&#x27;),\n",
       "                                 [&#x27;constructorName&#x27;, &#x27;driver_fullname&#x27;])])</pre></div></div></div><div class=\"sk-parallel\"><div class=\"sk-parallel-item\"><div class=\"sk-item\"><div class=\"sk-label-container\"><div class=\"sk-label sk-toggleable\"><input class=\"sk-toggleable__control sk-hidden--visually\" id=\"sk-estimator-id-41\" type=\"checkbox\" ><label for=\"sk-estimator-id-41\" class=\"sk-toggleable__label sk-toggleable__label-arrow\">standardscaler</label><div class=\"sk-toggleable__content\"><pre>[&#x27;previous_race_GridPosition_driver&#x27;, &#x27;average_GridPosition_3_prev_races_driver&#x27;, &#x27;previous_avergaelaptime_driver&#x27;, &#x27;previous_avergaemaxlaptime_driver&#x27;, &#x27;previous_avergaeminlaptime_driver&#x27;, &#x27;prev_fastest_lap_circuit&#x27;, &#x27;previous_race_position_gained_first_lap_driver&#x27;, &#x27;average_position_gained_first_lap_3_prev_races_driver&#x27;, &#x27;previous_race_std_lap_times_stint_driver&#x27;, &#x27;average_std_lap_times_3_prev_races_driver&#x27;, &#x27;previous_race_avg_pistopduration_driver&#x27;, &#x27;average_avg_pistopduration_3_prev_races_driver&#x27;, &#x27;previous_finalposition_race_driver&#x27;, &#x27;average_finalposition_3_prev_races_driver&#x27;, &#x27;previous_race_finished_driver&#x27;, &#x27;average_finished_3_prev_races_driver&#x27;, &#x27;previous_race_overlapped_driver&#x27;, &#x27;previous_3race_overlapped_driver&#x27;, &#x27;average_overlapped_3_prev_races_driver&#x27;, &#x27;previous_race_accident_driver&#x27;, &#x27;average_accident_3_prev_races_driver&#x27;, &#x27;avg_accident_driv_traj&#x27;, &#x27;prev_beat_teammate_race&#x27;, &#x27;average_accident_3_prev_races&#x27;, &#x27;prev_avg_position_race_team&#x27;, &#x27;average_race_position_team_3_prev_races&#x27;, &#x27;prev_avg_GridPosition_race_team&#x27;, &#x27;average_GridPosition_team_3_prev_races&#x27;, &#x27;prev_race_car_problem_race_team&#x27;, &#x27;avg_3prev_race_car_problem_race_team&#x27;, &#x27;prev_average_sumpitstopduration_driver_team&#x27;, &#x27;avg_3_average_sumpitstopduration_driver_team&#x27;, &#x27;prev_gap_to_leader_team&#x27;, &#x27;avg_gap_to_leader_3_races_team&#x27;, &#x27;avg_percentaje_beat_teammate_quali_driver&#x27;, &#x27;poles_prev_quali_driver&#x27;, &#x27;q2_previous_qualifying_driver&#x27;, &#x27;q3_previous_qualifying_driver&#x27;, &#x27;q2_percentage_driver&#x27;, &#x27;q3_percentage_driver&#x27;, &#x27;laptime_prediction&#x27;, &#x27;rank_position_predicted&#x27;]</pre></div></div></div><div class=\"sk-serial\"><div class=\"sk-item\"><div class=\"sk-estimator sk-toggleable\"><input class=\"sk-toggleable__control sk-hidden--visually\" id=\"sk-estimator-id-42\" type=\"checkbox\" ><label for=\"sk-estimator-id-42\" class=\"sk-toggleable__label sk-toggleable__label-arrow\">StandardScaler</label><div class=\"sk-toggleable__content\"><pre>StandardScaler()</pre></div></div></div></div></div></div><div class=\"sk-parallel-item\"><div class=\"sk-item\"><div class=\"sk-label-container\"><div class=\"sk-label sk-toggleable\"><input class=\"sk-toggleable__control sk-hidden--visually\" id=\"sk-estimator-id-43\" type=\"checkbox\" ><label for=\"sk-estimator-id-43\" class=\"sk-toggleable__label sk-toggleable__label-arrow\">onehotencoder</label><div class=\"sk-toggleable__content\"><pre>[&#x27;constructorName&#x27;, &#x27;driver_fullname&#x27;]</pre></div></div></div><div class=\"sk-serial\"><div class=\"sk-item\"><div class=\"sk-estimator sk-toggleable\"><input class=\"sk-toggleable__control sk-hidden--visually\" id=\"sk-estimator-id-44\" type=\"checkbox\" ><label for=\"sk-estimator-id-44\" class=\"sk-toggleable__label sk-toggleable__label-arrow\">OneHotEncoder</label><div class=\"sk-toggleable__content\"><pre>OneHotEncoder(handle_unknown=&#x27;ignore&#x27;)</pre></div></div></div></div></div></div></div></div><div class=\"sk-item\"><div class=\"sk-estimator sk-toggleable\"><input class=\"sk-toggleable__control sk-hidden--visually\" id=\"sk-estimator-id-45\" type=\"checkbox\" ><label for=\"sk-estimator-id-45\" class=\"sk-toggleable__label sk-toggleable__label-arrow\">LinearRegression</label><div class=\"sk-toggleable__content\"><pre>LinearRegression()</pre></div></div></div></div></div></div></div>"
      ],
      "text/plain": [
       "Pipeline(steps=[('columntransformer',\n",
       "                 ColumnTransformer(transformers=[('standardscaler',\n",
       "                                                  StandardScaler(),\n",
       "                                                  ['previous_race_GridPosition_driver',\n",
       "                                                   'average_GridPosition_3_prev_races_driver',\n",
       "                                                   'previous_avergaelaptime_driver',\n",
       "                                                   'previous_avergaemaxlaptime_driver',\n",
       "                                                   'previous_avergaeminlaptime_driver',\n",
       "                                                   'prev_fastest_lap_circuit',\n",
       "                                                   'previous_race_position_gained_fir...\n",
       "                                                   'prev_avg_position_race_team',\n",
       "                                                   'average_race_position_team_3_prev_races',\n",
       "                                                   'prev_avg_GridPosition_race_team',\n",
       "                                                   'average_GridPosition_team_3_prev_races',\n",
       "                                                   'prev_race_car_problem_race_team',\n",
       "                                                   'avg_3prev_race_car_problem_race_team', ...]),\n",
       "                                                 ('onehotencoder',\n",
       "                                                  OneHotEncoder(handle_unknown='ignore'),\n",
       "                                                  ['constructorName',\n",
       "                                                   'driver_fullname'])])),\n",
       "                ('linearregression', LinearRegression())])"
      ]
     },
     "execution_count": 212,
     "metadata": {},
     "output_type": "execute_result"
    }
   ],
   "source": [
    "model.fit(X_train, y_train)"
   ]
  },
  {
   "cell_type": "code",
   "execution_count": 213,
   "id": "f50c9f99",
   "metadata": {
    "scrolled": true
   },
   "outputs": [
    {
     "data": {
      "text/plain": [
       "-2.506807913577843e+24"
      ]
     },
     "execution_count": 213,
     "metadata": {},
     "output_type": "execute_result"
    }
   ],
   "source": [
    "cross_val_score(model, X, y, scoring='r2', cv=5).mean()"
   ]
  },
  {
   "cell_type": "code",
   "execution_count": 214,
   "id": "76073c76",
   "metadata": {},
   "outputs": [],
   "source": [
    "r2_score = cross_val_score(model, X, y, scoring='r2', cv=5).mean()\n",
    "y_pred = model.predict(X)\n",
    "mse= mean_squared_error(y,y_pred)\n",
    "df_linear_regression_race = df_linear_regression_race.append({\n",
    "        'Columns':categorical+numerical,\n",
    "        'R2_score':r2_score,\n",
    "        'Mse':mse\n",
    "    },ignore_index=True)"
   ]
  },
  {
   "cell_type": "code",
   "execution_count": 215,
   "id": "257e8233",
   "metadata": {
    "scrolled": true
   },
   "outputs": [
    {
     "data": {
      "text/html": [
       "<div>\n",
       "<style scoped>\n",
       "    .dataframe tbody tr th:only-of-type {\n",
       "        vertical-align: middle;\n",
       "    }\n",
       "\n",
       "    .dataframe tbody tr th {\n",
       "        vertical-align: top;\n",
       "    }\n",
       "\n",
       "    .dataframe thead th {\n",
       "        text-align: right;\n",
       "    }\n",
       "</style>\n",
       "<table border=\"1\" class=\"dataframe\">\n",
       "  <thead>\n",
       "    <tr style=\"text-align: right;\">\n",
       "      <th></th>\n",
       "      <th>Columns</th>\n",
       "      <th>R2_score</th>\n",
       "      <th>Mse</th>\n",
       "    </tr>\n",
       "  </thead>\n",
       "  <tbody>\n",
       "    <tr>\n",
       "      <th>0</th>\n",
       "      <td>[constructorName, driver_fullname, previous_ra...</td>\n",
       "      <td>-2506807913577842779095040.0</td>\n",
       "      <td>148403630289161056.0</td>\n",
       "    </tr>\n",
       "  </tbody>\n",
       "</table>\n",
       "</div>"
      ],
      "text/plain": [
       "                                             Columns  \\\n",
       "0  [constructorName, driver_fullname, previous_ra...   \n",
       "\n",
       "                      R2_score                   Mse  \n",
       "0 -2506807913577842779095040.0  148403630289161056.0  "
      ]
     },
     "execution_count": 215,
     "metadata": {},
     "output_type": "execute_result"
    }
   ],
   "source": [
    "df_linear_regression_race"
   ]
  },
  {
   "cell_type": "markdown",
   "id": "d6604124",
   "metadata": {},
   "source": [
    "We see that we select all the variables, the performe of the r2 score is worst than the baseline. So we have to choose carefully the variables."
   ]
  },
  {
   "cell_type": "markdown",
   "id": "10c84035",
   "metadata": {},
   "source": [
    "## 4.2 Decision Tree Regressor"
   ]
  },
  {
   "cell_type": "code",
   "execution_count": 216,
   "id": "a8db1411",
   "metadata": {},
   "outputs": [],
   "source": [
    "df_dtree_model_race = pd.DataFrame(columns=['Columns', 'Best_Paramaters', 'R2_score', 'Mse'])"
   ]
  },
  {
   "cell_type": "code",
   "execution_count": 217,
   "id": "55dca6be",
   "metadata": {},
   "outputs": [],
   "source": [
    "categorical= ['constructorName']\n",
    "numerical = ['rank_position_predicted','q3_previous_qualifying_driver','q2_previous_qualifying_driver',\n",
    "            'avg_3_average_sumpitstopduration_driver_team','average_finished_3_prev_races_driver',\n",
    "            'previous_race_GridPosition_driver','prev_gap_to_leader_team']\n",
    "target = ['final_position']"
   ]
  },
  {
   "cell_type": "code",
   "execution_count": 218,
   "id": "7ab4d2cd",
   "metadata": {},
   "outputs": [],
   "source": [
    "lap_time_model_montmelo_dt = lap_time_model_montmelo[categorical+numerical+target]\n",
    "X=lap_time_model_montmelo_dt.drop(['final_position'],axis=1)\n",
    "y=lap_time_model_montmelo_dt.final_position"
   ]
  },
  {
   "cell_type": "code",
   "execution_count": 219,
   "id": "41bb1377",
   "metadata": {},
   "outputs": [],
   "source": [
    "X_train, X_test, y_train, y_test = train_test_split(X, y, test_size=0.2, random_state=33)"
   ]
  },
  {
   "cell_type": "code",
   "execution_count": 220,
   "id": "e6103118",
   "metadata": {},
   "outputs": [],
   "source": [
    "preprocessor = make_column_transformer(\n",
    "  (StandardScaler(), numerical),\n",
    "  (OneHotEncoder(handle_unknown='ignore'), categorical))"
   ]
  },
  {
   "cell_type": "code",
   "execution_count": 221,
   "id": "88f5f83f",
   "metadata": {},
   "outputs": [],
   "source": [
    "params = {\n",
    "    'decisiontreeregressor__max_depth':[2,3,4,5,7,10], #The maximum depth/levels of the tree\n",
    "    'decisiontreeregressor__min_samples_split':[1,2,3,4,5,10,15,20], #The minimum number of samples required to split an internal node:\n",
    "    'decisiontreeregressor__min_samples_leaf':[5.710,15,20,25] #the minimum of samples that should be in the leaf at the base\n",
    "}"
   ]
  },
  {
   "cell_type": "code",
   "execution_count": 222,
   "id": "d5ef1582",
   "metadata": {},
   "outputs": [],
   "source": [
    "model = Pipeline(steps=[\n",
    "    ('preprocessor', preprocessor),\n",
    "    ('decisiontreeregressor', DecisionTreeRegressor())\n",
    "])"
   ]
  },
  {
   "cell_type": "code",
   "execution_count": 223,
   "id": "409410cb",
   "metadata": {},
   "outputs": [
    {
     "data": {
      "text/html": [
       "<style>#sk-container-id-7 {color: black;background-color: white;}#sk-container-id-7 pre{padding: 0;}#sk-container-id-7 div.sk-toggleable {background-color: white;}#sk-container-id-7 label.sk-toggleable__label {cursor: pointer;display: block;width: 100%;margin-bottom: 0;padding: 0.3em;box-sizing: border-box;text-align: center;}#sk-container-id-7 label.sk-toggleable__label-arrow:before {content: \"▸\";float: left;margin-right: 0.25em;color: #696969;}#sk-container-id-7 label.sk-toggleable__label-arrow:hover:before {color: black;}#sk-container-id-7 div.sk-estimator:hover label.sk-toggleable__label-arrow:before {color: black;}#sk-container-id-7 div.sk-toggleable__content {max-height: 0;max-width: 0;overflow: hidden;text-align: left;background-color: #f0f8ff;}#sk-container-id-7 div.sk-toggleable__content pre {margin: 0.2em;color: black;border-radius: 0.25em;background-color: #f0f8ff;}#sk-container-id-7 input.sk-toggleable__control:checked~div.sk-toggleable__content {max-height: 200px;max-width: 100%;overflow: auto;}#sk-container-id-7 input.sk-toggleable__control:checked~label.sk-toggleable__label-arrow:before {content: \"▾\";}#sk-container-id-7 div.sk-estimator input.sk-toggleable__control:checked~label.sk-toggleable__label {background-color: #d4ebff;}#sk-container-id-7 div.sk-label input.sk-toggleable__control:checked~label.sk-toggleable__label {background-color: #d4ebff;}#sk-container-id-7 input.sk-hidden--visually {border: 0;clip: rect(1px 1px 1px 1px);clip: rect(1px, 1px, 1px, 1px);height: 1px;margin: -1px;overflow: hidden;padding: 0;position: absolute;width: 1px;}#sk-container-id-7 div.sk-estimator {font-family: monospace;background-color: #f0f8ff;border: 1px dotted black;border-radius: 0.25em;box-sizing: border-box;margin-bottom: 0.5em;}#sk-container-id-7 div.sk-estimator:hover {background-color: #d4ebff;}#sk-container-id-7 div.sk-parallel-item::after {content: \"\";width: 100%;border-bottom: 1px solid gray;flex-grow: 1;}#sk-container-id-7 div.sk-label:hover label.sk-toggleable__label {background-color: #d4ebff;}#sk-container-id-7 div.sk-serial::before {content: \"\";position: absolute;border-left: 1px solid gray;box-sizing: border-box;top: 0;bottom: 0;left: 50%;z-index: 0;}#sk-container-id-7 div.sk-serial {display: flex;flex-direction: column;align-items: center;background-color: white;padding-right: 0.2em;padding-left: 0.2em;position: relative;}#sk-container-id-7 div.sk-item {position: relative;z-index: 1;}#sk-container-id-7 div.sk-parallel {display: flex;align-items: stretch;justify-content: center;background-color: white;position: relative;}#sk-container-id-7 div.sk-item::before, #sk-container-id-7 div.sk-parallel-item::before {content: \"\";position: absolute;border-left: 1px solid gray;box-sizing: border-box;top: 0;bottom: 0;left: 50%;z-index: -1;}#sk-container-id-7 div.sk-parallel-item {display: flex;flex-direction: column;z-index: 1;position: relative;background-color: white;}#sk-container-id-7 div.sk-parallel-item:first-child::after {align-self: flex-end;width: 50%;}#sk-container-id-7 div.sk-parallel-item:last-child::after {align-self: flex-start;width: 50%;}#sk-container-id-7 div.sk-parallel-item:only-child::after {width: 0;}#sk-container-id-7 div.sk-dashed-wrapped {border: 1px dashed gray;margin: 0 0.4em 0.5em 0.4em;box-sizing: border-box;padding-bottom: 0.4em;background-color: white;}#sk-container-id-7 div.sk-label label {font-family: monospace;font-weight: bold;display: inline-block;line-height: 1.2em;}#sk-container-id-7 div.sk-label-container {text-align: center;}#sk-container-id-7 div.sk-container {/* jupyter's `normalize.less` sets `[hidden] { display: none; }` but bootstrap.min.css set `[hidden] { display: none !important; }` so we also need the `!important` here to be able to override the default hidden behavior on the sphinx rendered scikit-learn.org. See: https://github.com/scikit-learn/scikit-learn/issues/21755 */display: inline-block !important;position: relative;}#sk-container-id-7 div.sk-text-repr-fallback {display: none;}</style><div id=\"sk-container-id-7\" class=\"sk-top-container\"><div class=\"sk-text-repr-fallback\"><pre>Pipeline(steps=[(&#x27;preprocessor&#x27;,\n",
       "                 ColumnTransformer(transformers=[(&#x27;standardscaler&#x27;,\n",
       "                                                  StandardScaler(),\n",
       "                                                  [&#x27;rank_position_predicted&#x27;,\n",
       "                                                   &#x27;q3_previous_qualifying_driver&#x27;,\n",
       "                                                   &#x27;q2_previous_qualifying_driver&#x27;,\n",
       "                                                   &#x27;avg_3_average_sumpitstopduration_driver_team&#x27;,\n",
       "                                                   &#x27;average_finished_3_prev_races_driver&#x27;,\n",
       "                                                   &#x27;previous_race_GridPosition_driver&#x27;,\n",
       "                                                   &#x27;prev_gap_to_leader_team&#x27;]),\n",
       "                                                 (&#x27;onehotencoder&#x27;,\n",
       "                                                  OneHotEncoder(handle_unknown=&#x27;ignore&#x27;),\n",
       "                                                  [&#x27;constructorName&#x27;])])),\n",
       "                (&#x27;decisiontreeregressor&#x27;, DecisionTreeRegressor())])</pre><b>In a Jupyter environment, please rerun this cell to show the HTML representation or trust the notebook. <br />On GitHub, the HTML representation is unable to render, please try loading this page with nbviewer.org.</b></div><div class=\"sk-container\" hidden><div class=\"sk-item sk-dashed-wrapped\"><div class=\"sk-label-container\"><div class=\"sk-label sk-toggleable\"><input class=\"sk-toggleable__control sk-hidden--visually\" id=\"sk-estimator-id-46\" type=\"checkbox\" ><label for=\"sk-estimator-id-46\" class=\"sk-toggleable__label sk-toggleable__label-arrow\">Pipeline</label><div class=\"sk-toggleable__content\"><pre>Pipeline(steps=[(&#x27;preprocessor&#x27;,\n",
       "                 ColumnTransformer(transformers=[(&#x27;standardscaler&#x27;,\n",
       "                                                  StandardScaler(),\n",
       "                                                  [&#x27;rank_position_predicted&#x27;,\n",
       "                                                   &#x27;q3_previous_qualifying_driver&#x27;,\n",
       "                                                   &#x27;q2_previous_qualifying_driver&#x27;,\n",
       "                                                   &#x27;avg_3_average_sumpitstopduration_driver_team&#x27;,\n",
       "                                                   &#x27;average_finished_3_prev_races_driver&#x27;,\n",
       "                                                   &#x27;previous_race_GridPosition_driver&#x27;,\n",
       "                                                   &#x27;prev_gap_to_leader_team&#x27;]),\n",
       "                                                 (&#x27;onehotencoder&#x27;,\n",
       "                                                  OneHotEncoder(handle_unknown=&#x27;ignore&#x27;),\n",
       "                                                  [&#x27;constructorName&#x27;])])),\n",
       "                (&#x27;decisiontreeregressor&#x27;, DecisionTreeRegressor())])</pre></div></div></div><div class=\"sk-serial\"><div class=\"sk-item sk-dashed-wrapped\"><div class=\"sk-label-container\"><div class=\"sk-label sk-toggleable\"><input class=\"sk-toggleable__control sk-hidden--visually\" id=\"sk-estimator-id-47\" type=\"checkbox\" ><label for=\"sk-estimator-id-47\" class=\"sk-toggleable__label sk-toggleable__label-arrow\">preprocessor: ColumnTransformer</label><div class=\"sk-toggleable__content\"><pre>ColumnTransformer(transformers=[(&#x27;standardscaler&#x27;, StandardScaler(),\n",
       "                                 [&#x27;rank_position_predicted&#x27;,\n",
       "                                  &#x27;q3_previous_qualifying_driver&#x27;,\n",
       "                                  &#x27;q2_previous_qualifying_driver&#x27;,\n",
       "                                  &#x27;avg_3_average_sumpitstopduration_driver_team&#x27;,\n",
       "                                  &#x27;average_finished_3_prev_races_driver&#x27;,\n",
       "                                  &#x27;previous_race_GridPosition_driver&#x27;,\n",
       "                                  &#x27;prev_gap_to_leader_team&#x27;]),\n",
       "                                (&#x27;onehotencoder&#x27;,\n",
       "                                 OneHotEncoder(handle_unknown=&#x27;ignore&#x27;),\n",
       "                                 [&#x27;constructorName&#x27;])])</pre></div></div></div><div class=\"sk-parallel\"><div class=\"sk-parallel-item\"><div class=\"sk-item\"><div class=\"sk-label-container\"><div class=\"sk-label sk-toggleable\"><input class=\"sk-toggleable__control sk-hidden--visually\" id=\"sk-estimator-id-48\" type=\"checkbox\" ><label for=\"sk-estimator-id-48\" class=\"sk-toggleable__label sk-toggleable__label-arrow\">standardscaler</label><div class=\"sk-toggleable__content\"><pre>[&#x27;rank_position_predicted&#x27;, &#x27;q3_previous_qualifying_driver&#x27;, &#x27;q2_previous_qualifying_driver&#x27;, &#x27;avg_3_average_sumpitstopduration_driver_team&#x27;, &#x27;average_finished_3_prev_races_driver&#x27;, &#x27;previous_race_GridPosition_driver&#x27;, &#x27;prev_gap_to_leader_team&#x27;]</pre></div></div></div><div class=\"sk-serial\"><div class=\"sk-item\"><div class=\"sk-estimator sk-toggleable\"><input class=\"sk-toggleable__control sk-hidden--visually\" id=\"sk-estimator-id-49\" type=\"checkbox\" ><label for=\"sk-estimator-id-49\" class=\"sk-toggleable__label sk-toggleable__label-arrow\">StandardScaler</label><div class=\"sk-toggleable__content\"><pre>StandardScaler()</pre></div></div></div></div></div></div><div class=\"sk-parallel-item\"><div class=\"sk-item\"><div class=\"sk-label-container\"><div class=\"sk-label sk-toggleable\"><input class=\"sk-toggleable__control sk-hidden--visually\" id=\"sk-estimator-id-50\" type=\"checkbox\" ><label for=\"sk-estimator-id-50\" class=\"sk-toggleable__label sk-toggleable__label-arrow\">onehotencoder</label><div class=\"sk-toggleable__content\"><pre>[&#x27;constructorName&#x27;]</pre></div></div></div><div class=\"sk-serial\"><div class=\"sk-item\"><div class=\"sk-estimator sk-toggleable\"><input class=\"sk-toggleable__control sk-hidden--visually\" id=\"sk-estimator-id-51\" type=\"checkbox\" ><label for=\"sk-estimator-id-51\" class=\"sk-toggleable__label sk-toggleable__label-arrow\">OneHotEncoder</label><div class=\"sk-toggleable__content\"><pre>OneHotEncoder(handle_unknown=&#x27;ignore&#x27;)</pre></div></div></div></div></div></div></div></div><div class=\"sk-item\"><div class=\"sk-estimator sk-toggleable\"><input class=\"sk-toggleable__control sk-hidden--visually\" id=\"sk-estimator-id-52\" type=\"checkbox\" ><label for=\"sk-estimator-id-52\" class=\"sk-toggleable__label sk-toggleable__label-arrow\">DecisionTreeRegressor</label><div class=\"sk-toggleable__content\"><pre>DecisionTreeRegressor()</pre></div></div></div></div></div></div></div>"
      ],
      "text/plain": [
       "Pipeline(steps=[('preprocessor',\n",
       "                 ColumnTransformer(transformers=[('standardscaler',\n",
       "                                                  StandardScaler(),\n",
       "                                                  ['rank_position_predicted',\n",
       "                                                   'q3_previous_qualifying_driver',\n",
       "                                                   'q2_previous_qualifying_driver',\n",
       "                                                   'avg_3_average_sumpitstopduration_driver_team',\n",
       "                                                   'average_finished_3_prev_races_driver',\n",
       "                                                   'previous_race_GridPosition_driver',\n",
       "                                                   'prev_gap_to_leader_team']),\n",
       "                                                 ('onehotencoder',\n",
       "                                                  OneHotEncoder(handle_unknown='ignore'),\n",
       "                                                  ['constructorName'])])),\n",
       "                ('decisiontreeregressor', DecisionTreeRegressor())])"
      ]
     },
     "execution_count": 223,
     "metadata": {},
     "output_type": "execute_result"
    }
   ],
   "source": [
    "\n",
    "model.fit(X_train, y_train)"
   ]
  },
  {
   "cell_type": "code",
   "execution_count": 224,
   "id": "f0eef205",
   "metadata": {},
   "outputs": [],
   "source": [
    "grid_search_model = GridSearchCV(model, params, cv=5)"
   ]
  },
  {
   "cell_type": "code",
   "execution_count": 225,
   "id": "faa5068e",
   "metadata": {},
   "outputs": [
    {
     "data": {
      "text/html": [
       "<style>#sk-container-id-8 {color: black;background-color: white;}#sk-container-id-8 pre{padding: 0;}#sk-container-id-8 div.sk-toggleable {background-color: white;}#sk-container-id-8 label.sk-toggleable__label {cursor: pointer;display: block;width: 100%;margin-bottom: 0;padding: 0.3em;box-sizing: border-box;text-align: center;}#sk-container-id-8 label.sk-toggleable__label-arrow:before {content: \"▸\";float: left;margin-right: 0.25em;color: #696969;}#sk-container-id-8 label.sk-toggleable__label-arrow:hover:before {color: black;}#sk-container-id-8 div.sk-estimator:hover label.sk-toggleable__label-arrow:before {color: black;}#sk-container-id-8 div.sk-toggleable__content {max-height: 0;max-width: 0;overflow: hidden;text-align: left;background-color: #f0f8ff;}#sk-container-id-8 div.sk-toggleable__content pre {margin: 0.2em;color: black;border-radius: 0.25em;background-color: #f0f8ff;}#sk-container-id-8 input.sk-toggleable__control:checked~div.sk-toggleable__content {max-height: 200px;max-width: 100%;overflow: auto;}#sk-container-id-8 input.sk-toggleable__control:checked~label.sk-toggleable__label-arrow:before {content: \"▾\";}#sk-container-id-8 div.sk-estimator input.sk-toggleable__control:checked~label.sk-toggleable__label {background-color: #d4ebff;}#sk-container-id-8 div.sk-label input.sk-toggleable__control:checked~label.sk-toggleable__label {background-color: #d4ebff;}#sk-container-id-8 input.sk-hidden--visually {border: 0;clip: rect(1px 1px 1px 1px);clip: rect(1px, 1px, 1px, 1px);height: 1px;margin: -1px;overflow: hidden;padding: 0;position: absolute;width: 1px;}#sk-container-id-8 div.sk-estimator {font-family: monospace;background-color: #f0f8ff;border: 1px dotted black;border-radius: 0.25em;box-sizing: border-box;margin-bottom: 0.5em;}#sk-container-id-8 div.sk-estimator:hover {background-color: #d4ebff;}#sk-container-id-8 div.sk-parallel-item::after {content: \"\";width: 100%;border-bottom: 1px solid gray;flex-grow: 1;}#sk-container-id-8 div.sk-label:hover label.sk-toggleable__label {background-color: #d4ebff;}#sk-container-id-8 div.sk-serial::before {content: \"\";position: absolute;border-left: 1px solid gray;box-sizing: border-box;top: 0;bottom: 0;left: 50%;z-index: 0;}#sk-container-id-8 div.sk-serial {display: flex;flex-direction: column;align-items: center;background-color: white;padding-right: 0.2em;padding-left: 0.2em;position: relative;}#sk-container-id-8 div.sk-item {position: relative;z-index: 1;}#sk-container-id-8 div.sk-parallel {display: flex;align-items: stretch;justify-content: center;background-color: white;position: relative;}#sk-container-id-8 div.sk-item::before, #sk-container-id-8 div.sk-parallel-item::before {content: \"\";position: absolute;border-left: 1px solid gray;box-sizing: border-box;top: 0;bottom: 0;left: 50%;z-index: -1;}#sk-container-id-8 div.sk-parallel-item {display: flex;flex-direction: column;z-index: 1;position: relative;background-color: white;}#sk-container-id-8 div.sk-parallel-item:first-child::after {align-self: flex-end;width: 50%;}#sk-container-id-8 div.sk-parallel-item:last-child::after {align-self: flex-start;width: 50%;}#sk-container-id-8 div.sk-parallel-item:only-child::after {width: 0;}#sk-container-id-8 div.sk-dashed-wrapped {border: 1px dashed gray;margin: 0 0.4em 0.5em 0.4em;box-sizing: border-box;padding-bottom: 0.4em;background-color: white;}#sk-container-id-8 div.sk-label label {font-family: monospace;font-weight: bold;display: inline-block;line-height: 1.2em;}#sk-container-id-8 div.sk-label-container {text-align: center;}#sk-container-id-8 div.sk-container {/* jupyter's `normalize.less` sets `[hidden] { display: none; }` but bootstrap.min.css set `[hidden] { display: none !important; }` so we also need the `!important` here to be able to override the default hidden behavior on the sphinx rendered scikit-learn.org. See: https://github.com/scikit-learn/scikit-learn/issues/21755 */display: inline-block !important;position: relative;}#sk-container-id-8 div.sk-text-repr-fallback {display: none;}</style><div id=\"sk-container-id-8\" class=\"sk-top-container\"><div class=\"sk-text-repr-fallback\"><pre>GridSearchCV(cv=5,\n",
       "             estimator=Pipeline(steps=[(&#x27;preprocessor&#x27;,\n",
       "                                        ColumnTransformer(transformers=[(&#x27;standardscaler&#x27;,\n",
       "                                                                         StandardScaler(),\n",
       "                                                                         [&#x27;rank_position_predicted&#x27;,\n",
       "                                                                          &#x27;q3_previous_qualifying_driver&#x27;,\n",
       "                                                                          &#x27;q2_previous_qualifying_driver&#x27;,\n",
       "                                                                          &#x27;avg_3_average_sumpitstopduration_driver_team&#x27;,\n",
       "                                                                          &#x27;average_finished_3_prev_races_driver&#x27;,\n",
       "                                                                          &#x27;previous_race_GridPosition_driver&#x27;,\n",
       "                                                                          &#x27;prev_gap_to_leader_team&#x27;]),\n",
       "                                                                        (&#x27;onehotencoder&#x27;,\n",
       "                                                                         OneHotEncoder(handle_unknown=&#x27;ignore&#x27;),\n",
       "                                                                         [&#x27;constructorName&#x27;])])),\n",
       "                                       (&#x27;decisiontreeregressor&#x27;,\n",
       "                                        DecisionTreeRegressor())]),\n",
       "             param_grid={&#x27;decisiontreeregressor__max_depth&#x27;: [2, 3, 4, 5, 7,\n",
       "                                                              10],\n",
       "                         &#x27;decisiontreeregressor__min_samples_leaf&#x27;: [5.71, 15,\n",
       "                                                                     20, 25],\n",
       "                         &#x27;decisiontreeregressor__min_samples_split&#x27;: [1, 2, 3,\n",
       "                                                                      4, 5, 10,\n",
       "                                                                      15, 20]})</pre><b>In a Jupyter environment, please rerun this cell to show the HTML representation or trust the notebook. <br />On GitHub, the HTML representation is unable to render, please try loading this page with nbviewer.org.</b></div><div class=\"sk-container\" hidden><div class=\"sk-item sk-dashed-wrapped\"><div class=\"sk-label-container\"><div class=\"sk-label sk-toggleable\"><input class=\"sk-toggleable__control sk-hidden--visually\" id=\"sk-estimator-id-53\" type=\"checkbox\" ><label for=\"sk-estimator-id-53\" class=\"sk-toggleable__label sk-toggleable__label-arrow\">GridSearchCV</label><div class=\"sk-toggleable__content\"><pre>GridSearchCV(cv=5,\n",
       "             estimator=Pipeline(steps=[(&#x27;preprocessor&#x27;,\n",
       "                                        ColumnTransformer(transformers=[(&#x27;standardscaler&#x27;,\n",
       "                                                                         StandardScaler(),\n",
       "                                                                         [&#x27;rank_position_predicted&#x27;,\n",
       "                                                                          &#x27;q3_previous_qualifying_driver&#x27;,\n",
       "                                                                          &#x27;q2_previous_qualifying_driver&#x27;,\n",
       "                                                                          &#x27;avg_3_average_sumpitstopduration_driver_team&#x27;,\n",
       "                                                                          &#x27;average_finished_3_prev_races_driver&#x27;,\n",
       "                                                                          &#x27;previous_race_GridPosition_driver&#x27;,\n",
       "                                                                          &#x27;prev_gap_to_leader_team&#x27;]),\n",
       "                                                                        (&#x27;onehotencoder&#x27;,\n",
       "                                                                         OneHotEncoder(handle_unknown=&#x27;ignore&#x27;),\n",
       "                                                                         [&#x27;constructorName&#x27;])])),\n",
       "                                       (&#x27;decisiontreeregressor&#x27;,\n",
       "                                        DecisionTreeRegressor())]),\n",
       "             param_grid={&#x27;decisiontreeregressor__max_depth&#x27;: [2, 3, 4, 5, 7,\n",
       "                                                              10],\n",
       "                         &#x27;decisiontreeregressor__min_samples_leaf&#x27;: [5.71, 15,\n",
       "                                                                     20, 25],\n",
       "                         &#x27;decisiontreeregressor__min_samples_split&#x27;: [1, 2, 3,\n",
       "                                                                      4, 5, 10,\n",
       "                                                                      15, 20]})</pre></div></div></div><div class=\"sk-parallel\"><div class=\"sk-parallel-item\"><div class=\"sk-item\"><div class=\"sk-label-container\"><div class=\"sk-label sk-toggleable\"><input class=\"sk-toggleable__control sk-hidden--visually\" id=\"sk-estimator-id-54\" type=\"checkbox\" ><label for=\"sk-estimator-id-54\" class=\"sk-toggleable__label sk-toggleable__label-arrow\">estimator: Pipeline</label><div class=\"sk-toggleable__content\"><pre>Pipeline(steps=[(&#x27;preprocessor&#x27;,\n",
       "                 ColumnTransformer(transformers=[(&#x27;standardscaler&#x27;,\n",
       "                                                  StandardScaler(),\n",
       "                                                  [&#x27;rank_position_predicted&#x27;,\n",
       "                                                   &#x27;q3_previous_qualifying_driver&#x27;,\n",
       "                                                   &#x27;q2_previous_qualifying_driver&#x27;,\n",
       "                                                   &#x27;avg_3_average_sumpitstopduration_driver_team&#x27;,\n",
       "                                                   &#x27;average_finished_3_prev_races_driver&#x27;,\n",
       "                                                   &#x27;previous_race_GridPosition_driver&#x27;,\n",
       "                                                   &#x27;prev_gap_to_leader_team&#x27;]),\n",
       "                                                 (&#x27;onehotencoder&#x27;,\n",
       "                                                  OneHotEncoder(handle_unknown=&#x27;ignore&#x27;),\n",
       "                                                  [&#x27;constructorName&#x27;])])),\n",
       "                (&#x27;decisiontreeregressor&#x27;, DecisionTreeRegressor())])</pre></div></div></div><div class=\"sk-serial\"><div class=\"sk-item\"><div class=\"sk-serial\"><div class=\"sk-item sk-dashed-wrapped\"><div class=\"sk-label-container\"><div class=\"sk-label sk-toggleable\"><input class=\"sk-toggleable__control sk-hidden--visually\" id=\"sk-estimator-id-55\" type=\"checkbox\" ><label for=\"sk-estimator-id-55\" class=\"sk-toggleable__label sk-toggleable__label-arrow\">preprocessor: ColumnTransformer</label><div class=\"sk-toggleable__content\"><pre>ColumnTransformer(transformers=[(&#x27;standardscaler&#x27;, StandardScaler(),\n",
       "                                 [&#x27;rank_position_predicted&#x27;,\n",
       "                                  &#x27;q3_previous_qualifying_driver&#x27;,\n",
       "                                  &#x27;q2_previous_qualifying_driver&#x27;,\n",
       "                                  &#x27;avg_3_average_sumpitstopduration_driver_team&#x27;,\n",
       "                                  &#x27;average_finished_3_prev_races_driver&#x27;,\n",
       "                                  &#x27;previous_race_GridPosition_driver&#x27;,\n",
       "                                  &#x27;prev_gap_to_leader_team&#x27;]),\n",
       "                                (&#x27;onehotencoder&#x27;,\n",
       "                                 OneHotEncoder(handle_unknown=&#x27;ignore&#x27;),\n",
       "                                 [&#x27;constructorName&#x27;])])</pre></div></div></div><div class=\"sk-parallel\"><div class=\"sk-parallel-item\"><div class=\"sk-item\"><div class=\"sk-label-container\"><div class=\"sk-label sk-toggleable\"><input class=\"sk-toggleable__control sk-hidden--visually\" id=\"sk-estimator-id-56\" type=\"checkbox\" ><label for=\"sk-estimator-id-56\" class=\"sk-toggleable__label sk-toggleable__label-arrow\">standardscaler</label><div class=\"sk-toggleable__content\"><pre>[&#x27;rank_position_predicted&#x27;, &#x27;q3_previous_qualifying_driver&#x27;, &#x27;q2_previous_qualifying_driver&#x27;, &#x27;avg_3_average_sumpitstopduration_driver_team&#x27;, &#x27;average_finished_3_prev_races_driver&#x27;, &#x27;previous_race_GridPosition_driver&#x27;, &#x27;prev_gap_to_leader_team&#x27;]</pre></div></div></div><div class=\"sk-serial\"><div class=\"sk-item\"><div class=\"sk-estimator sk-toggleable\"><input class=\"sk-toggleable__control sk-hidden--visually\" id=\"sk-estimator-id-57\" type=\"checkbox\" ><label for=\"sk-estimator-id-57\" class=\"sk-toggleable__label sk-toggleable__label-arrow\">StandardScaler</label><div class=\"sk-toggleable__content\"><pre>StandardScaler()</pre></div></div></div></div></div></div><div class=\"sk-parallel-item\"><div class=\"sk-item\"><div class=\"sk-label-container\"><div class=\"sk-label sk-toggleable\"><input class=\"sk-toggleable__control sk-hidden--visually\" id=\"sk-estimator-id-58\" type=\"checkbox\" ><label for=\"sk-estimator-id-58\" class=\"sk-toggleable__label sk-toggleable__label-arrow\">onehotencoder</label><div class=\"sk-toggleable__content\"><pre>[&#x27;constructorName&#x27;]</pre></div></div></div><div class=\"sk-serial\"><div class=\"sk-item\"><div class=\"sk-estimator sk-toggleable\"><input class=\"sk-toggleable__control sk-hidden--visually\" id=\"sk-estimator-id-59\" type=\"checkbox\" ><label for=\"sk-estimator-id-59\" class=\"sk-toggleable__label sk-toggleable__label-arrow\">OneHotEncoder</label><div class=\"sk-toggleable__content\"><pre>OneHotEncoder(handle_unknown=&#x27;ignore&#x27;)</pre></div></div></div></div></div></div></div></div><div class=\"sk-item\"><div class=\"sk-estimator sk-toggleable\"><input class=\"sk-toggleable__control sk-hidden--visually\" id=\"sk-estimator-id-60\" type=\"checkbox\" ><label for=\"sk-estimator-id-60\" class=\"sk-toggleable__label sk-toggleable__label-arrow\">DecisionTreeRegressor</label><div class=\"sk-toggleable__content\"><pre>DecisionTreeRegressor()</pre></div></div></div></div></div></div></div></div></div></div></div></div>"
      ],
      "text/plain": [
       "GridSearchCV(cv=5,\n",
       "             estimator=Pipeline(steps=[('preprocessor',\n",
       "                                        ColumnTransformer(transformers=[('standardscaler',\n",
       "                                                                         StandardScaler(),\n",
       "                                                                         ['rank_position_predicted',\n",
       "                                                                          'q3_previous_qualifying_driver',\n",
       "                                                                          'q2_previous_qualifying_driver',\n",
       "                                                                          'avg_3_average_sumpitstopduration_driver_team',\n",
       "                                                                          'average_finished_3_prev_races_driver',\n",
       "                                                                          'previous_race_GridPosition_driver',\n",
       "                                                                          'prev_gap_to_leader_team']),\n",
       "                                                                        ('onehotencoder',\n",
       "                                                                         OneHotEncoder(handle_unknown='ignore'),\n",
       "                                                                         ['constructorName'])])),\n",
       "                                       ('decisiontreeregressor',\n",
       "                                        DecisionTreeRegressor())]),\n",
       "             param_grid={'decisiontreeregressor__max_depth': [2, 3, 4, 5, 7,\n",
       "                                                              10],\n",
       "                         'decisiontreeregressor__min_samples_leaf': [5.71, 15,\n",
       "                                                                     20, 25],\n",
       "                         'decisiontreeregressor__min_samples_split': [1, 2, 3,\n",
       "                                                                      4, 5, 10,\n",
       "                                                                      15, 20]})"
      ]
     },
     "execution_count": 225,
     "metadata": {},
     "output_type": "execute_result"
    }
   ],
   "source": [
    "grid_search_model.fit(X_train, y_train)"
   ]
  },
  {
   "cell_type": "code",
   "execution_count": 226,
   "id": "a38360d3",
   "metadata": {},
   "outputs": [],
   "source": [
    "best_parameters=grid_search_model.best_params_\n",
    "r2_score = grid_search_model.best_score_\n",
    "y_pred = grid_search_model.predict(X)\n",
    "mse= mean_squared_error(y,y_pred)\n",
    "df_dtree_model_race = df_dtree_model_race.append({\n",
    "        'Columns':categorical+numerical,\n",
    "        'Best_Paramaters':best_parameters,\n",
    "        'R2_score':r2_score,\n",
    "        'Mse':mse\n",
    "    },ignore_index=True)"
   ]
  },
  {
   "cell_type": "code",
   "execution_count": 227,
   "id": "a5edcdd7",
   "metadata": {},
   "outputs": [
    {
     "data": {
      "text/html": [
       "<div>\n",
       "<style scoped>\n",
       "    .dataframe tbody tr th:only-of-type {\n",
       "        vertical-align: middle;\n",
       "    }\n",
       "\n",
       "    .dataframe tbody tr th {\n",
       "        vertical-align: top;\n",
       "    }\n",
       "\n",
       "    .dataframe thead th {\n",
       "        text-align: right;\n",
       "    }\n",
       "</style>\n",
       "<table border=\"1\" class=\"dataframe\">\n",
       "  <thead>\n",
       "    <tr style=\"text-align: right;\">\n",
       "      <th></th>\n",
       "      <th>Columns</th>\n",
       "      <th>Best_Paramaters</th>\n",
       "      <th>R2_score</th>\n",
       "      <th>Mse</th>\n",
       "    </tr>\n",
       "  </thead>\n",
       "  <tbody>\n",
       "    <tr>\n",
       "      <th>0</th>\n",
       "      <td>[constructorName, rank_position_predicted, q3_...</td>\n",
       "      <td>{'decisiontreeregressor__max_depth': 2, 'decis...</td>\n",
       "      <td>0.553645</td>\n",
       "      <td>19.874507</td>\n",
       "    </tr>\n",
       "  </tbody>\n",
       "</table>\n",
       "</div>"
      ],
      "text/plain": [
       "                                             Columns  \\\n",
       "0  [constructorName, rank_position_predicted, q3_...   \n",
       "\n",
       "                                     Best_Paramaters  R2_score        Mse  \n",
       "0  {'decisiontreeregressor__max_depth': 2, 'decis...  0.553645  19.874507  "
      ]
     },
     "execution_count": 227,
     "metadata": {},
     "output_type": "execute_result"
    }
   ],
   "source": [
    "df_dtree_model_race"
   ]
  },
  {
   "cell_type": "markdown",
   "id": "4e04057b",
   "metadata": {},
   "source": [
    "## 4.3 XGB Regressor"
   ]
  },
  {
   "cell_type": "code",
   "execution_count": 228,
   "id": "4247bbee",
   "metadata": {},
   "outputs": [],
   "source": [
    "df_xgboost_race = pd.DataFrame(columns=['Columns', 'Best_Paramaters', 'R2_score', 'Mse'])"
   ]
  },
  {
   "cell_type": "code",
   "execution_count": 229,
   "id": "f0ae239e",
   "metadata": {},
   "outputs": [],
   "source": [
    "categorical= ['constructorName']\n",
    "numerical = ['rank_position_predicted','q3_previous_qualifying_driver','poles_prev_quali_driver','previous_finalposition_race_driver']\n",
    "target = ['final_position']"
   ]
  },
  {
   "cell_type": "code",
   "execution_count": 230,
   "id": "968ac13f",
   "metadata": {},
   "outputs": [],
   "source": [
    "preprocessor = make_column_transformer(\n",
    "  (StandardScaler(), numerical),\n",
    "  (OneHotEncoder(handle_unknown='ignore'), categorical))"
   ]
  },
  {
   "cell_type": "code",
   "execution_count": 231,
   "id": "db687f35",
   "metadata": {},
   "outputs": [],
   "source": [
    "lap_time_model_montmelo_dt = lap_time_model_montmelo[categorical+numerical+target]\n",
    "X=lap_time_model_montmelo_dt.drop(['final_position'],axis=1)\n",
    "y=lap_time_model_montmelo_dt.final_position"
   ]
  },
  {
   "cell_type": "code",
   "execution_count": 232,
   "id": "11e8ec16",
   "metadata": {},
   "outputs": [],
   "source": [
    "X_train, X_test, y_train, y_test = train_test_split(X, y, test_size=0.2, random_state=33)"
   ]
  },
  {
   "cell_type": "code",
   "execution_count": 233,
   "id": "a2531a24",
   "metadata": {},
   "outputs": [],
   "source": [
    "params = {\n",
    "    'xgbregressor__n_estimators':[25,50,100,150,200],\n",
    "    'xgbregressor__max_depth':[1,2,3,5,10,15,20],\n",
    "    'xgbregressor__learning_rate': [0.1, 0.01, 0.001],\n",
    "    'xgbregressor__min_child_weight': [1, 3, 5],\n",
    "    'xgbregressor__subsample': [0.8, 0.9, 1.0]\n",
    "}"
   ]
  },
  {
   "cell_type": "code",
   "execution_count": 234,
   "id": "71efd529",
   "metadata": {},
   "outputs": [],
   "source": [
    "model = make_pipeline(preprocessor, xgb.XGBRegressor(random_state=33))"
   ]
  },
  {
   "cell_type": "code",
   "execution_count": 235,
   "id": "4122d3b4",
   "metadata": {},
   "outputs": [],
   "source": [
    "grid_search_model_race = GridSearchCV(model, params, cv=5, n_jobs=1,scoring='r2')"
   ]
  },
  {
   "cell_type": "code",
   "execution_count": 236,
   "id": "a152a54b",
   "metadata": {},
   "outputs": [
    {
     "data": {
      "text/html": [
       "<style>#sk-container-id-9 {color: black;background-color: white;}#sk-container-id-9 pre{padding: 0;}#sk-container-id-9 div.sk-toggleable {background-color: white;}#sk-container-id-9 label.sk-toggleable__label {cursor: pointer;display: block;width: 100%;margin-bottom: 0;padding: 0.3em;box-sizing: border-box;text-align: center;}#sk-container-id-9 label.sk-toggleable__label-arrow:before {content: \"▸\";float: left;margin-right: 0.25em;color: #696969;}#sk-container-id-9 label.sk-toggleable__label-arrow:hover:before {color: black;}#sk-container-id-9 div.sk-estimator:hover label.sk-toggleable__label-arrow:before {color: black;}#sk-container-id-9 div.sk-toggleable__content {max-height: 0;max-width: 0;overflow: hidden;text-align: left;background-color: #f0f8ff;}#sk-container-id-9 div.sk-toggleable__content pre {margin: 0.2em;color: black;border-radius: 0.25em;background-color: #f0f8ff;}#sk-container-id-9 input.sk-toggleable__control:checked~div.sk-toggleable__content {max-height: 200px;max-width: 100%;overflow: auto;}#sk-container-id-9 input.sk-toggleable__control:checked~label.sk-toggleable__label-arrow:before {content: \"▾\";}#sk-container-id-9 div.sk-estimator input.sk-toggleable__control:checked~label.sk-toggleable__label {background-color: #d4ebff;}#sk-container-id-9 div.sk-label input.sk-toggleable__control:checked~label.sk-toggleable__label {background-color: #d4ebff;}#sk-container-id-9 input.sk-hidden--visually {border: 0;clip: rect(1px 1px 1px 1px);clip: rect(1px, 1px, 1px, 1px);height: 1px;margin: -1px;overflow: hidden;padding: 0;position: absolute;width: 1px;}#sk-container-id-9 div.sk-estimator {font-family: monospace;background-color: #f0f8ff;border: 1px dotted black;border-radius: 0.25em;box-sizing: border-box;margin-bottom: 0.5em;}#sk-container-id-9 div.sk-estimator:hover {background-color: #d4ebff;}#sk-container-id-9 div.sk-parallel-item::after {content: \"\";width: 100%;border-bottom: 1px solid gray;flex-grow: 1;}#sk-container-id-9 div.sk-label:hover label.sk-toggleable__label {background-color: #d4ebff;}#sk-container-id-9 div.sk-serial::before {content: \"\";position: absolute;border-left: 1px solid gray;box-sizing: border-box;top: 0;bottom: 0;left: 50%;z-index: 0;}#sk-container-id-9 div.sk-serial {display: flex;flex-direction: column;align-items: center;background-color: white;padding-right: 0.2em;padding-left: 0.2em;position: relative;}#sk-container-id-9 div.sk-item {position: relative;z-index: 1;}#sk-container-id-9 div.sk-parallel {display: flex;align-items: stretch;justify-content: center;background-color: white;position: relative;}#sk-container-id-9 div.sk-item::before, #sk-container-id-9 div.sk-parallel-item::before {content: \"\";position: absolute;border-left: 1px solid gray;box-sizing: border-box;top: 0;bottom: 0;left: 50%;z-index: -1;}#sk-container-id-9 div.sk-parallel-item {display: flex;flex-direction: column;z-index: 1;position: relative;background-color: white;}#sk-container-id-9 div.sk-parallel-item:first-child::after {align-self: flex-end;width: 50%;}#sk-container-id-9 div.sk-parallel-item:last-child::after {align-self: flex-start;width: 50%;}#sk-container-id-9 div.sk-parallel-item:only-child::after {width: 0;}#sk-container-id-9 div.sk-dashed-wrapped {border: 1px dashed gray;margin: 0 0.4em 0.5em 0.4em;box-sizing: border-box;padding-bottom: 0.4em;background-color: white;}#sk-container-id-9 div.sk-label label {font-family: monospace;font-weight: bold;display: inline-block;line-height: 1.2em;}#sk-container-id-9 div.sk-label-container {text-align: center;}#sk-container-id-9 div.sk-container {/* jupyter's `normalize.less` sets `[hidden] { display: none; }` but bootstrap.min.css set `[hidden] { display: none !important; }` so we also need the `!important` here to be able to override the default hidden behavior on the sphinx rendered scikit-learn.org. See: https://github.com/scikit-learn/scikit-learn/issues/21755 */display: inline-block !important;position: relative;}#sk-container-id-9 div.sk-text-repr-fallback {display: none;}</style><div id=\"sk-container-id-9\" class=\"sk-top-container\"><div class=\"sk-text-repr-fallback\"><pre>GridSearchCV(cv=5,\n",
       "             estimator=Pipeline(steps=[(&#x27;columntransformer&#x27;,\n",
       "                                        ColumnTransformer(transformers=[(&#x27;standardscaler&#x27;,\n",
       "                                                                         StandardScaler(),\n",
       "                                                                         [&#x27;rank_position_predicted&#x27;,\n",
       "                                                                          &#x27;q3_previous_qualifying_driver&#x27;,\n",
       "                                                                          &#x27;poles_prev_quali_driver&#x27;,\n",
       "                                                                          &#x27;previous_finalposition_race_driver&#x27;]),\n",
       "                                                                        (&#x27;onehotencoder&#x27;,\n",
       "                                                                         OneHotEncoder(handle_unknown=&#x27;ignore&#x27;),\n",
       "                                                                         [&#x27;constructorName&#x27;])])),\n",
       "                                       (&#x27;xgbregressor...\n",
       "                                                     monotone_constraints=None,\n",
       "                                                     n_estimators=100,\n",
       "                                                     n_jobs=None,\n",
       "                                                     num_parallel_tree=None,\n",
       "                                                     predictor=None,\n",
       "                                                     random_state=33, ...))]),\n",
       "             n_jobs=1,\n",
       "             param_grid={&#x27;xgbregressor__learning_rate&#x27;: [0.1, 0.01, 0.001],\n",
       "                         &#x27;xgbregressor__max_depth&#x27;: [1, 2, 3, 5, 10, 15, 20],\n",
       "                         &#x27;xgbregressor__min_child_weight&#x27;: [1, 3, 5],\n",
       "                         &#x27;xgbregressor__n_estimators&#x27;: [25, 50, 100, 150, 200],\n",
       "                         &#x27;xgbregressor__subsample&#x27;: [0.8, 0.9, 1.0]},\n",
       "             scoring=&#x27;r2&#x27;)</pre><b>In a Jupyter environment, please rerun this cell to show the HTML representation or trust the notebook. <br />On GitHub, the HTML representation is unable to render, please try loading this page with nbviewer.org.</b></div><div class=\"sk-container\" hidden><div class=\"sk-item sk-dashed-wrapped\"><div class=\"sk-label-container\"><div class=\"sk-label sk-toggleable\"><input class=\"sk-toggleable__control sk-hidden--visually\" id=\"sk-estimator-id-61\" type=\"checkbox\" ><label for=\"sk-estimator-id-61\" class=\"sk-toggleable__label sk-toggleable__label-arrow\">GridSearchCV</label><div class=\"sk-toggleable__content\"><pre>GridSearchCV(cv=5,\n",
       "             estimator=Pipeline(steps=[(&#x27;columntransformer&#x27;,\n",
       "                                        ColumnTransformer(transformers=[(&#x27;standardscaler&#x27;,\n",
       "                                                                         StandardScaler(),\n",
       "                                                                         [&#x27;rank_position_predicted&#x27;,\n",
       "                                                                          &#x27;q3_previous_qualifying_driver&#x27;,\n",
       "                                                                          &#x27;poles_prev_quali_driver&#x27;,\n",
       "                                                                          &#x27;previous_finalposition_race_driver&#x27;]),\n",
       "                                                                        (&#x27;onehotencoder&#x27;,\n",
       "                                                                         OneHotEncoder(handle_unknown=&#x27;ignore&#x27;),\n",
       "                                                                         [&#x27;constructorName&#x27;])])),\n",
       "                                       (&#x27;xgbregressor...\n",
       "                                                     monotone_constraints=None,\n",
       "                                                     n_estimators=100,\n",
       "                                                     n_jobs=None,\n",
       "                                                     num_parallel_tree=None,\n",
       "                                                     predictor=None,\n",
       "                                                     random_state=33, ...))]),\n",
       "             n_jobs=1,\n",
       "             param_grid={&#x27;xgbregressor__learning_rate&#x27;: [0.1, 0.01, 0.001],\n",
       "                         &#x27;xgbregressor__max_depth&#x27;: [1, 2, 3, 5, 10, 15, 20],\n",
       "                         &#x27;xgbregressor__min_child_weight&#x27;: [1, 3, 5],\n",
       "                         &#x27;xgbregressor__n_estimators&#x27;: [25, 50, 100, 150, 200],\n",
       "                         &#x27;xgbregressor__subsample&#x27;: [0.8, 0.9, 1.0]},\n",
       "             scoring=&#x27;r2&#x27;)</pre></div></div></div><div class=\"sk-parallel\"><div class=\"sk-parallel-item\"><div class=\"sk-item\"><div class=\"sk-label-container\"><div class=\"sk-label sk-toggleable\"><input class=\"sk-toggleable__control sk-hidden--visually\" id=\"sk-estimator-id-62\" type=\"checkbox\" ><label for=\"sk-estimator-id-62\" class=\"sk-toggleable__label sk-toggleable__label-arrow\">estimator: Pipeline</label><div class=\"sk-toggleable__content\"><pre>Pipeline(steps=[(&#x27;columntransformer&#x27;,\n",
       "                 ColumnTransformer(transformers=[(&#x27;standardscaler&#x27;,\n",
       "                                                  StandardScaler(),\n",
       "                                                  [&#x27;rank_position_predicted&#x27;,\n",
       "                                                   &#x27;q3_previous_qualifying_driver&#x27;,\n",
       "                                                   &#x27;poles_prev_quali_driver&#x27;,\n",
       "                                                   &#x27;previous_finalposition_race_driver&#x27;]),\n",
       "                                                 (&#x27;onehotencoder&#x27;,\n",
       "                                                  OneHotEncoder(handle_unknown=&#x27;ignore&#x27;),\n",
       "                                                  [&#x27;constructorName&#x27;])])),\n",
       "                (&#x27;xgbregressor&#x27;,\n",
       "                 XGBRegressor(base_score=No...\n",
       "                              feature_types=None, gamma=None, gpu_id=None,\n",
       "                              grow_policy=None, importance_type=None,\n",
       "                              interaction_constraints=None, learning_rate=None,\n",
       "                              max_bin=None, max_cat_threshold=None,\n",
       "                              max_cat_to_onehot=None, max_delta_step=None,\n",
       "                              max_depth=None, max_leaves=None,\n",
       "                              min_child_weight=None, missing=nan,\n",
       "                              monotone_constraints=None, n_estimators=100,\n",
       "                              n_jobs=None, num_parallel_tree=None,\n",
       "                              predictor=None, random_state=33, ...))])</pre></div></div></div><div class=\"sk-serial\"><div class=\"sk-item\"><div class=\"sk-serial\"><div class=\"sk-item sk-dashed-wrapped\"><div class=\"sk-label-container\"><div class=\"sk-label sk-toggleable\"><input class=\"sk-toggleable__control sk-hidden--visually\" id=\"sk-estimator-id-63\" type=\"checkbox\" ><label for=\"sk-estimator-id-63\" class=\"sk-toggleable__label sk-toggleable__label-arrow\">columntransformer: ColumnTransformer</label><div class=\"sk-toggleable__content\"><pre>ColumnTransformer(transformers=[(&#x27;standardscaler&#x27;, StandardScaler(),\n",
       "                                 [&#x27;rank_position_predicted&#x27;,\n",
       "                                  &#x27;q3_previous_qualifying_driver&#x27;,\n",
       "                                  &#x27;poles_prev_quali_driver&#x27;,\n",
       "                                  &#x27;previous_finalposition_race_driver&#x27;]),\n",
       "                                (&#x27;onehotencoder&#x27;,\n",
       "                                 OneHotEncoder(handle_unknown=&#x27;ignore&#x27;),\n",
       "                                 [&#x27;constructorName&#x27;])])</pre></div></div></div><div class=\"sk-parallel\"><div class=\"sk-parallel-item\"><div class=\"sk-item\"><div class=\"sk-label-container\"><div class=\"sk-label sk-toggleable\"><input class=\"sk-toggleable__control sk-hidden--visually\" id=\"sk-estimator-id-64\" type=\"checkbox\" ><label for=\"sk-estimator-id-64\" class=\"sk-toggleable__label sk-toggleable__label-arrow\">standardscaler</label><div class=\"sk-toggleable__content\"><pre>[&#x27;rank_position_predicted&#x27;, &#x27;q3_previous_qualifying_driver&#x27;, &#x27;poles_prev_quali_driver&#x27;, &#x27;previous_finalposition_race_driver&#x27;]</pre></div></div></div><div class=\"sk-serial\"><div class=\"sk-item\"><div class=\"sk-estimator sk-toggleable\"><input class=\"sk-toggleable__control sk-hidden--visually\" id=\"sk-estimator-id-65\" type=\"checkbox\" ><label for=\"sk-estimator-id-65\" class=\"sk-toggleable__label sk-toggleable__label-arrow\">StandardScaler</label><div class=\"sk-toggleable__content\"><pre>StandardScaler()</pre></div></div></div></div></div></div><div class=\"sk-parallel-item\"><div class=\"sk-item\"><div class=\"sk-label-container\"><div class=\"sk-label sk-toggleable\"><input class=\"sk-toggleable__control sk-hidden--visually\" id=\"sk-estimator-id-66\" type=\"checkbox\" ><label for=\"sk-estimator-id-66\" class=\"sk-toggleable__label sk-toggleable__label-arrow\">onehotencoder</label><div class=\"sk-toggleable__content\"><pre>[&#x27;constructorName&#x27;]</pre></div></div></div><div class=\"sk-serial\"><div class=\"sk-item\"><div class=\"sk-estimator sk-toggleable\"><input class=\"sk-toggleable__control sk-hidden--visually\" id=\"sk-estimator-id-67\" type=\"checkbox\" ><label for=\"sk-estimator-id-67\" class=\"sk-toggleable__label sk-toggleable__label-arrow\">OneHotEncoder</label><div class=\"sk-toggleable__content\"><pre>OneHotEncoder(handle_unknown=&#x27;ignore&#x27;)</pre></div></div></div></div></div></div></div></div><div class=\"sk-item\"><div class=\"sk-estimator sk-toggleable\"><input class=\"sk-toggleable__control sk-hidden--visually\" id=\"sk-estimator-id-68\" type=\"checkbox\" ><label for=\"sk-estimator-id-68\" class=\"sk-toggleable__label sk-toggleable__label-arrow\">XGBRegressor</label><div class=\"sk-toggleable__content\"><pre>XGBRegressor(base_score=None, booster=None, callbacks=None,\n",
       "             colsample_bylevel=None, colsample_bynode=None,\n",
       "             colsample_bytree=None, early_stopping_rounds=None,\n",
       "             enable_categorical=False, eval_metric=None, feature_types=None,\n",
       "             gamma=None, gpu_id=None, grow_policy=None, importance_type=None,\n",
       "             interaction_constraints=None, learning_rate=None, max_bin=None,\n",
       "             max_cat_threshold=None, max_cat_to_onehot=None,\n",
       "             max_delta_step=None, max_depth=None, max_leaves=None,\n",
       "             min_child_weight=None, missing=nan, monotone_constraints=None,\n",
       "             n_estimators=100, n_jobs=None, num_parallel_tree=None,\n",
       "             predictor=None, random_state=33, ...)</pre></div></div></div></div></div></div></div></div></div></div></div></div>"
      ],
      "text/plain": [
       "GridSearchCV(cv=5,\n",
       "             estimator=Pipeline(steps=[('columntransformer',\n",
       "                                        ColumnTransformer(transformers=[('standardscaler',\n",
       "                                                                         StandardScaler(),\n",
       "                                                                         ['rank_position_predicted',\n",
       "                                                                          'q3_previous_qualifying_driver',\n",
       "                                                                          'poles_prev_quali_driver',\n",
       "                                                                          'previous_finalposition_race_driver']),\n",
       "                                                                        ('onehotencoder',\n",
       "                                                                         OneHotEncoder(handle_unknown='ignore'),\n",
       "                                                                         ['constructorName'])])),\n",
       "                                       ('xgbregressor...\n",
       "                                                     monotone_constraints=None,\n",
       "                                                     n_estimators=100,\n",
       "                                                     n_jobs=None,\n",
       "                                                     num_parallel_tree=None,\n",
       "                                                     predictor=None,\n",
       "                                                     random_state=33, ...))]),\n",
       "             n_jobs=1,\n",
       "             param_grid={'xgbregressor__learning_rate': [0.1, 0.01, 0.001],\n",
       "                         'xgbregressor__max_depth': [1, 2, 3, 5, 10, 15, 20],\n",
       "                         'xgbregressor__min_child_weight': [1, 3, 5],\n",
       "                         'xgbregressor__n_estimators': [25, 50, 100, 150, 200],\n",
       "                         'xgbregressor__subsample': [0.8, 0.9, 1.0]},\n",
       "             scoring='r2')"
      ]
     },
     "execution_count": 236,
     "metadata": {},
     "output_type": "execute_result"
    }
   ],
   "source": [
    "grid_search_model_race.fit(X_train, y_train)"
   ]
  },
  {
   "cell_type": "code",
   "execution_count": 237,
   "id": "2de4186f",
   "metadata": {},
   "outputs": [],
   "source": [
    "best_parameters_race=grid_search_model_race.best_estimator_\n",
    "r2_score = grid_search_model_race.best_score_\n",
    "y_pred = grid_search_model_race.predict(X)\n",
    "best_model_race= xgb.XGBRegressor(**grid_search_model_race.best_params_)\n",
    "mse= mean_squared_error(y,y_pred)\n",
    "df_xgboost_race  = df_xgboost_race.append({\n",
    "        'Columns':categorical+numerical,\n",
    "        'Best_Paramaters':best_parameters,\n",
    "        'R2_score':r2_score,\n",
    "        'Mse':mse\n",
    "    },ignore_index=True)"
   ]
  },
  {
   "cell_type": "code",
   "execution_count": 238,
   "id": "9b42835c",
   "metadata": {
    "scrolled": false
   },
   "outputs": [
    {
     "data": {
      "text/html": [
       "<div>\n",
       "<style scoped>\n",
       "    .dataframe tbody tr th:only-of-type {\n",
       "        vertical-align: middle;\n",
       "    }\n",
       "\n",
       "    .dataframe tbody tr th {\n",
       "        vertical-align: top;\n",
       "    }\n",
       "\n",
       "    .dataframe thead th {\n",
       "        text-align: right;\n",
       "    }\n",
       "</style>\n",
       "<table border=\"1\" class=\"dataframe\">\n",
       "  <thead>\n",
       "    <tr style=\"text-align: right;\">\n",
       "      <th></th>\n",
       "      <th>Columns</th>\n",
       "      <th>Best_Paramaters</th>\n",
       "      <th>R2_score</th>\n",
       "      <th>Mse</th>\n",
       "    </tr>\n",
       "  </thead>\n",
       "  <tbody>\n",
       "    <tr>\n",
       "      <th>0</th>\n",
       "      <td>[constructorName, rank_position_predicted, q3_...</td>\n",
       "      <td>{'decisiontreeregressor__max_depth': 2, 'decis...</td>\n",
       "      <td>0.60417</td>\n",
       "      <td>16.529477</td>\n",
       "    </tr>\n",
       "  </tbody>\n",
       "</table>\n",
       "</div>"
      ],
      "text/plain": [
       "                                             Columns  \\\n",
       "0  [constructorName, rank_position_predicted, q3_...   \n",
       "\n",
       "                                     Best_Paramaters R2_score        Mse  \n",
       "0  {'decisiontreeregressor__max_depth': 2, 'decis...  0.60417  16.529477  "
      ]
     },
     "execution_count": 238,
     "metadata": {},
     "output_type": "execute_result"
    }
   ],
   "source": [
    "df_xgboost_race"
   ]
  },
  {
   "cell_type": "markdown",
   "id": "ac4da236",
   "metadata": {},
   "source": [
    "# Random Forest Regressor"
   ]
  },
  {
   "cell_type": "code",
   "execution_count": 239,
   "id": "823bb064",
   "metadata": {},
   "outputs": [],
   "source": [
    "df_rforest_race = pd.DataFrame(columns=['Columns', 'Best_Paramaters', 'R2_score', 'Mse'])"
   ]
  },
  {
   "cell_type": "code",
   "execution_count": 240,
   "id": "d7a8952b",
   "metadata": {},
   "outputs": [],
   "source": [
    "categorical= ['constructorName']\n",
    "numerical = ['rank_position_predicted','q3_previous_qualifying_driver','poles_prev_quali_driver','previous_finalposition_race_driver']\n",
    "target = ['final_position']"
   ]
  },
  {
   "cell_type": "code",
   "execution_count": 241,
   "id": "613f908e",
   "metadata": {},
   "outputs": [],
   "source": [
    "preprocessor = make_column_transformer(\n",
    "  (StandardScaler(), numerical),\n",
    "  (OneHotEncoder(handle_unknown='ignore'), categorical))"
   ]
  },
  {
   "cell_type": "code",
   "execution_count": 242,
   "id": "9ce43c42",
   "metadata": {},
   "outputs": [],
   "source": [
    "lap_time_model_montmelo_dt = lap_time_model_montmelo[categorical+numerical+target]\n",
    "X=lap_time_model_montmelo_dt.drop(['final_position'],axis=1)\n",
    "y=lap_time_model_montmelo_dt.final_position"
   ]
  },
  {
   "cell_type": "code",
   "execution_count": 243,
   "id": "812e47ac",
   "metadata": {},
   "outputs": [],
   "source": [
    "X_train, X_test, y_train, y_test = train_test_split(X, y, test_size=0.2, random_state=33)"
   ]
  },
  {
   "cell_type": "code",
   "execution_count": 244,
   "id": "61c22a51",
   "metadata": {},
   "outputs": [],
   "source": [
    "param_grid = {\n",
    "    'randomforestregressor__n_estimators': [100, 200, 300],\n",
    "    'randomforestregressor__max_depth': [10,15, 20, 30]\n",
    "}"
   ]
  },
  {
   "cell_type": "code",
   "execution_count": 245,
   "id": "eb6895d2",
   "metadata": {},
   "outputs": [],
   "source": [
    "model = make_pipeline(preprocessor, RandomForestRegressor(random_state=33))"
   ]
  },
  {
   "cell_type": "code",
   "execution_count": 246,
   "id": "0e619ec7",
   "metadata": {},
   "outputs": [],
   "source": [
    "grid_search_model = GridSearchCV(model, param_grid, cv=5, n_jobs=1,scoring='r2')"
   ]
  },
  {
   "cell_type": "code",
   "execution_count": 247,
   "id": "780b6545",
   "metadata": {},
   "outputs": [
    {
     "data": {
      "text/html": [
       "<style>#sk-container-id-10 {color: black;background-color: white;}#sk-container-id-10 pre{padding: 0;}#sk-container-id-10 div.sk-toggleable {background-color: white;}#sk-container-id-10 label.sk-toggleable__label {cursor: pointer;display: block;width: 100%;margin-bottom: 0;padding: 0.3em;box-sizing: border-box;text-align: center;}#sk-container-id-10 label.sk-toggleable__label-arrow:before {content: \"▸\";float: left;margin-right: 0.25em;color: #696969;}#sk-container-id-10 label.sk-toggleable__label-arrow:hover:before {color: black;}#sk-container-id-10 div.sk-estimator:hover label.sk-toggleable__label-arrow:before {color: black;}#sk-container-id-10 div.sk-toggleable__content {max-height: 0;max-width: 0;overflow: hidden;text-align: left;background-color: #f0f8ff;}#sk-container-id-10 div.sk-toggleable__content pre {margin: 0.2em;color: black;border-radius: 0.25em;background-color: #f0f8ff;}#sk-container-id-10 input.sk-toggleable__control:checked~div.sk-toggleable__content {max-height: 200px;max-width: 100%;overflow: auto;}#sk-container-id-10 input.sk-toggleable__control:checked~label.sk-toggleable__label-arrow:before {content: \"▾\";}#sk-container-id-10 div.sk-estimator input.sk-toggleable__control:checked~label.sk-toggleable__label {background-color: #d4ebff;}#sk-container-id-10 div.sk-label input.sk-toggleable__control:checked~label.sk-toggleable__label {background-color: #d4ebff;}#sk-container-id-10 input.sk-hidden--visually {border: 0;clip: rect(1px 1px 1px 1px);clip: rect(1px, 1px, 1px, 1px);height: 1px;margin: -1px;overflow: hidden;padding: 0;position: absolute;width: 1px;}#sk-container-id-10 div.sk-estimator {font-family: monospace;background-color: #f0f8ff;border: 1px dotted black;border-radius: 0.25em;box-sizing: border-box;margin-bottom: 0.5em;}#sk-container-id-10 div.sk-estimator:hover {background-color: #d4ebff;}#sk-container-id-10 div.sk-parallel-item::after {content: \"\";width: 100%;border-bottom: 1px solid gray;flex-grow: 1;}#sk-container-id-10 div.sk-label:hover label.sk-toggleable__label {background-color: #d4ebff;}#sk-container-id-10 div.sk-serial::before {content: \"\";position: absolute;border-left: 1px solid gray;box-sizing: border-box;top: 0;bottom: 0;left: 50%;z-index: 0;}#sk-container-id-10 div.sk-serial {display: flex;flex-direction: column;align-items: center;background-color: white;padding-right: 0.2em;padding-left: 0.2em;position: relative;}#sk-container-id-10 div.sk-item {position: relative;z-index: 1;}#sk-container-id-10 div.sk-parallel {display: flex;align-items: stretch;justify-content: center;background-color: white;position: relative;}#sk-container-id-10 div.sk-item::before, #sk-container-id-10 div.sk-parallel-item::before {content: \"\";position: absolute;border-left: 1px solid gray;box-sizing: border-box;top: 0;bottom: 0;left: 50%;z-index: -1;}#sk-container-id-10 div.sk-parallel-item {display: flex;flex-direction: column;z-index: 1;position: relative;background-color: white;}#sk-container-id-10 div.sk-parallel-item:first-child::after {align-self: flex-end;width: 50%;}#sk-container-id-10 div.sk-parallel-item:last-child::after {align-self: flex-start;width: 50%;}#sk-container-id-10 div.sk-parallel-item:only-child::after {width: 0;}#sk-container-id-10 div.sk-dashed-wrapped {border: 1px dashed gray;margin: 0 0.4em 0.5em 0.4em;box-sizing: border-box;padding-bottom: 0.4em;background-color: white;}#sk-container-id-10 div.sk-label label {font-family: monospace;font-weight: bold;display: inline-block;line-height: 1.2em;}#sk-container-id-10 div.sk-label-container {text-align: center;}#sk-container-id-10 div.sk-container {/* jupyter's `normalize.less` sets `[hidden] { display: none; }` but bootstrap.min.css set `[hidden] { display: none !important; }` so we also need the `!important` here to be able to override the default hidden behavior on the sphinx rendered scikit-learn.org. See: https://github.com/scikit-learn/scikit-learn/issues/21755 */display: inline-block !important;position: relative;}#sk-container-id-10 div.sk-text-repr-fallback {display: none;}</style><div id=\"sk-container-id-10\" class=\"sk-top-container\"><div class=\"sk-text-repr-fallback\"><pre>GridSearchCV(cv=5,\n",
       "             estimator=Pipeline(steps=[(&#x27;columntransformer&#x27;,\n",
       "                                        ColumnTransformer(transformers=[(&#x27;standardscaler&#x27;,\n",
       "                                                                         StandardScaler(),\n",
       "                                                                         [&#x27;rank_position_predicted&#x27;,\n",
       "                                                                          &#x27;q3_previous_qualifying_driver&#x27;,\n",
       "                                                                          &#x27;poles_prev_quali_driver&#x27;,\n",
       "                                                                          &#x27;previous_finalposition_race_driver&#x27;]),\n",
       "                                                                        (&#x27;onehotencoder&#x27;,\n",
       "                                                                         OneHotEncoder(handle_unknown=&#x27;ignore&#x27;),\n",
       "                                                                         [&#x27;constructorName&#x27;])])),\n",
       "                                       (&#x27;randomforestregressor&#x27;,\n",
       "                                        RandomForestRegressor(random_state=33))]),\n",
       "             n_jobs=1,\n",
       "             param_grid={&#x27;randomforestregressor__max_depth&#x27;: [10, 15, 20, 30],\n",
       "                         &#x27;randomforestregressor__n_estimators&#x27;: [100, 200,\n",
       "                                                                 300]},\n",
       "             scoring=&#x27;r2&#x27;)</pre><b>In a Jupyter environment, please rerun this cell to show the HTML representation or trust the notebook. <br />On GitHub, the HTML representation is unable to render, please try loading this page with nbviewer.org.</b></div><div class=\"sk-container\" hidden><div class=\"sk-item sk-dashed-wrapped\"><div class=\"sk-label-container\"><div class=\"sk-label sk-toggleable\"><input class=\"sk-toggleable__control sk-hidden--visually\" id=\"sk-estimator-id-69\" type=\"checkbox\" ><label for=\"sk-estimator-id-69\" class=\"sk-toggleable__label sk-toggleable__label-arrow\">GridSearchCV</label><div class=\"sk-toggleable__content\"><pre>GridSearchCV(cv=5,\n",
       "             estimator=Pipeline(steps=[(&#x27;columntransformer&#x27;,\n",
       "                                        ColumnTransformer(transformers=[(&#x27;standardscaler&#x27;,\n",
       "                                                                         StandardScaler(),\n",
       "                                                                         [&#x27;rank_position_predicted&#x27;,\n",
       "                                                                          &#x27;q3_previous_qualifying_driver&#x27;,\n",
       "                                                                          &#x27;poles_prev_quali_driver&#x27;,\n",
       "                                                                          &#x27;previous_finalposition_race_driver&#x27;]),\n",
       "                                                                        (&#x27;onehotencoder&#x27;,\n",
       "                                                                         OneHotEncoder(handle_unknown=&#x27;ignore&#x27;),\n",
       "                                                                         [&#x27;constructorName&#x27;])])),\n",
       "                                       (&#x27;randomforestregressor&#x27;,\n",
       "                                        RandomForestRegressor(random_state=33))]),\n",
       "             n_jobs=1,\n",
       "             param_grid={&#x27;randomforestregressor__max_depth&#x27;: [10, 15, 20, 30],\n",
       "                         &#x27;randomforestregressor__n_estimators&#x27;: [100, 200,\n",
       "                                                                 300]},\n",
       "             scoring=&#x27;r2&#x27;)</pre></div></div></div><div class=\"sk-parallel\"><div class=\"sk-parallel-item\"><div class=\"sk-item\"><div class=\"sk-label-container\"><div class=\"sk-label sk-toggleable\"><input class=\"sk-toggleable__control sk-hidden--visually\" id=\"sk-estimator-id-70\" type=\"checkbox\" ><label for=\"sk-estimator-id-70\" class=\"sk-toggleable__label sk-toggleable__label-arrow\">estimator: Pipeline</label><div class=\"sk-toggleable__content\"><pre>Pipeline(steps=[(&#x27;columntransformer&#x27;,\n",
       "                 ColumnTransformer(transformers=[(&#x27;standardscaler&#x27;,\n",
       "                                                  StandardScaler(),\n",
       "                                                  [&#x27;rank_position_predicted&#x27;,\n",
       "                                                   &#x27;q3_previous_qualifying_driver&#x27;,\n",
       "                                                   &#x27;poles_prev_quali_driver&#x27;,\n",
       "                                                   &#x27;previous_finalposition_race_driver&#x27;]),\n",
       "                                                 (&#x27;onehotencoder&#x27;,\n",
       "                                                  OneHotEncoder(handle_unknown=&#x27;ignore&#x27;),\n",
       "                                                  [&#x27;constructorName&#x27;])])),\n",
       "                (&#x27;randomforestregressor&#x27;,\n",
       "                 RandomForestRegressor(random_state=33))])</pre></div></div></div><div class=\"sk-serial\"><div class=\"sk-item\"><div class=\"sk-serial\"><div class=\"sk-item sk-dashed-wrapped\"><div class=\"sk-label-container\"><div class=\"sk-label sk-toggleable\"><input class=\"sk-toggleable__control sk-hidden--visually\" id=\"sk-estimator-id-71\" type=\"checkbox\" ><label for=\"sk-estimator-id-71\" class=\"sk-toggleable__label sk-toggleable__label-arrow\">columntransformer: ColumnTransformer</label><div class=\"sk-toggleable__content\"><pre>ColumnTransformer(transformers=[(&#x27;standardscaler&#x27;, StandardScaler(),\n",
       "                                 [&#x27;rank_position_predicted&#x27;,\n",
       "                                  &#x27;q3_previous_qualifying_driver&#x27;,\n",
       "                                  &#x27;poles_prev_quali_driver&#x27;,\n",
       "                                  &#x27;previous_finalposition_race_driver&#x27;]),\n",
       "                                (&#x27;onehotencoder&#x27;,\n",
       "                                 OneHotEncoder(handle_unknown=&#x27;ignore&#x27;),\n",
       "                                 [&#x27;constructorName&#x27;])])</pre></div></div></div><div class=\"sk-parallel\"><div class=\"sk-parallel-item\"><div class=\"sk-item\"><div class=\"sk-label-container\"><div class=\"sk-label sk-toggleable\"><input class=\"sk-toggleable__control sk-hidden--visually\" id=\"sk-estimator-id-72\" type=\"checkbox\" ><label for=\"sk-estimator-id-72\" class=\"sk-toggleable__label sk-toggleable__label-arrow\">standardscaler</label><div class=\"sk-toggleable__content\"><pre>[&#x27;rank_position_predicted&#x27;, &#x27;q3_previous_qualifying_driver&#x27;, &#x27;poles_prev_quali_driver&#x27;, &#x27;previous_finalposition_race_driver&#x27;]</pre></div></div></div><div class=\"sk-serial\"><div class=\"sk-item\"><div class=\"sk-estimator sk-toggleable\"><input class=\"sk-toggleable__control sk-hidden--visually\" id=\"sk-estimator-id-73\" type=\"checkbox\" ><label for=\"sk-estimator-id-73\" class=\"sk-toggleable__label sk-toggleable__label-arrow\">StandardScaler</label><div class=\"sk-toggleable__content\"><pre>StandardScaler()</pre></div></div></div></div></div></div><div class=\"sk-parallel-item\"><div class=\"sk-item\"><div class=\"sk-label-container\"><div class=\"sk-label sk-toggleable\"><input class=\"sk-toggleable__control sk-hidden--visually\" id=\"sk-estimator-id-74\" type=\"checkbox\" ><label for=\"sk-estimator-id-74\" class=\"sk-toggleable__label sk-toggleable__label-arrow\">onehotencoder</label><div class=\"sk-toggleable__content\"><pre>[&#x27;constructorName&#x27;]</pre></div></div></div><div class=\"sk-serial\"><div class=\"sk-item\"><div class=\"sk-estimator sk-toggleable\"><input class=\"sk-toggleable__control sk-hidden--visually\" id=\"sk-estimator-id-75\" type=\"checkbox\" ><label for=\"sk-estimator-id-75\" class=\"sk-toggleable__label sk-toggleable__label-arrow\">OneHotEncoder</label><div class=\"sk-toggleable__content\"><pre>OneHotEncoder(handle_unknown=&#x27;ignore&#x27;)</pre></div></div></div></div></div></div></div></div><div class=\"sk-item\"><div class=\"sk-estimator sk-toggleable\"><input class=\"sk-toggleable__control sk-hidden--visually\" id=\"sk-estimator-id-76\" type=\"checkbox\" ><label for=\"sk-estimator-id-76\" class=\"sk-toggleable__label sk-toggleable__label-arrow\">RandomForestRegressor</label><div class=\"sk-toggleable__content\"><pre>RandomForestRegressor(random_state=33)</pre></div></div></div></div></div></div></div></div></div></div></div></div>"
      ],
      "text/plain": [
       "GridSearchCV(cv=5,\n",
       "             estimator=Pipeline(steps=[('columntransformer',\n",
       "                                        ColumnTransformer(transformers=[('standardscaler',\n",
       "                                                                         StandardScaler(),\n",
       "                                                                         ['rank_position_predicted',\n",
       "                                                                          'q3_previous_qualifying_driver',\n",
       "                                                                          'poles_prev_quali_driver',\n",
       "                                                                          'previous_finalposition_race_driver']),\n",
       "                                                                        ('onehotencoder',\n",
       "                                                                         OneHotEncoder(handle_unknown='ignore'),\n",
       "                                                                         ['constructorName'])])),\n",
       "                                       ('randomforestregressor',\n",
       "                                        RandomForestRegressor(random_state=33))]),\n",
       "             n_jobs=1,\n",
       "             param_grid={'randomforestregressor__max_depth': [10, 15, 20, 30],\n",
       "                         'randomforestregressor__n_estimators': [100, 200,\n",
       "                                                                 300]},\n",
       "             scoring='r2')"
      ]
     },
     "execution_count": 247,
     "metadata": {},
     "output_type": "execute_result"
    }
   ],
   "source": [
    "grid_search_model.fit(X_train, y_train)"
   ]
  },
  {
   "cell_type": "code",
   "execution_count": 248,
   "id": "dab2346c",
   "metadata": {},
   "outputs": [],
   "source": [
    "best_parameters=grid_search_model.best_params_\n",
    "r2_score = grid_search_model.best_score_\n",
    "y_pred = grid_search_model.predict(X)\n",
    "mse= mean_squared_error(y,y_pred)\n",
    "df_rforest_race  = df_rforest_race.append({\n",
    "        'Columns':categorical+numerical,\n",
    "        'Best_Paramaters':best_parameters,\n",
    "        'R2_score':r2_score,\n",
    "        'Mse':mse\n",
    "    },ignore_index=True)"
   ]
  },
  {
   "cell_type": "code",
   "execution_count": 249,
   "id": "1f40ef36",
   "metadata": {
    "scrolled": false
   },
   "outputs": [
    {
     "data": {
      "text/html": [
       "<div>\n",
       "<style scoped>\n",
       "    .dataframe tbody tr th:only-of-type {\n",
       "        vertical-align: middle;\n",
       "    }\n",
       "\n",
       "    .dataframe tbody tr th {\n",
       "        vertical-align: top;\n",
       "    }\n",
       "\n",
       "    .dataframe thead th {\n",
       "        text-align: right;\n",
       "    }\n",
       "</style>\n",
       "<table border=\"1\" class=\"dataframe\">\n",
       "  <thead>\n",
       "    <tr style=\"text-align: right;\">\n",
       "      <th></th>\n",
       "      <th>Columns</th>\n",
       "      <th>Best_Paramaters</th>\n",
       "      <th>R2_score</th>\n",
       "      <th>Mse</th>\n",
       "    </tr>\n",
       "  </thead>\n",
       "  <tbody>\n",
       "    <tr>\n",
       "      <th>0</th>\n",
       "      <td>[constructorName, rank_position_predicted, q3_...</td>\n",
       "      <td>{'randomforestregressor__max_depth': 20, 'rand...</td>\n",
       "      <td>0.569359</td>\n",
       "      <td>12.602614</td>\n",
       "    </tr>\n",
       "  </tbody>\n",
       "</table>\n",
       "</div>"
      ],
      "text/plain": [
       "                                             Columns  \\\n",
       "0  [constructorName, rank_position_predicted, q3_...   \n",
       "\n",
       "                                     Best_Paramaters  R2_score        Mse  \n",
       "0  {'randomforestregressor__max_depth': 20, 'rand...  0.569359  12.602614  "
      ]
     },
     "execution_count": 249,
     "metadata": {},
     "output_type": "execute_result"
    }
   ],
   "source": [
    "df_rforest_race"
   ]
  },
  {
   "cell_type": "markdown",
   "id": "355f5280",
   "metadata": {},
   "source": [
    "Finally we arrived to the conclusion that the best model, in terms of R2 Score is the XGB Regressor."
   ]
  },
  {
   "cell_type": "markdown",
   "id": "6bf9e6dd",
   "metadata": {},
   "source": [
    "# Prediction for 2023"
   ]
  },
  {
   "cell_type": "markdown",
   "id": "b8842693",
   "metadata": {},
   "source": [
    "### 1.1 Qualifying 2023"
   ]
  },
  {
   "cell_type": "markdown",
   "id": "78e83887",
   "metadata": {},
   "source": [
    "1. In the initial database, we do not have the data for the 3 occurred in 2023. We have uploaded the missing information on a csv a now we will transform in order to do the join correctly."
   ]
  },
  {
   "cell_type": "code",
   "execution_count": 250,
   "id": "248a93a3",
   "metadata": {},
   "outputs": [],
   "source": [
    "qualifying_2023['final_laptime']=np.where(qualifying_2023['q3']>0,qualifying_2023['q3'],np.where(\n",
    "qualifying_2023['q2']>0,qualifying_2023['q2'],qualifying_2023['q1']))\n",
    "qualifying_2023['quickest_lap']=qualifying_2023.groupby('round')['final_laptime'].transform('min')\n",
    "qualifying_2023['gap_to_leader']=qualifying_2023['final_laptime']-qualifying_2023['quickest_lap']"
   ]
  },
  {
   "cell_type": "code",
   "execution_count": 251,
   "id": "469fab6c",
   "metadata": {},
   "outputs": [],
   "source": [
    "qualifying_2023['gap_to_leader'].fillna(1982,inplace=True)"
   ]
  },
  {
   "cell_type": "code",
   "execution_count": 252,
   "id": "f400aaa7",
   "metadata": {},
   "outputs": [],
   "source": [
    "qualifying_2023.sort_values(by=['round'],inplace=True)"
   ]
  },
  {
   "cell_type": "markdown",
   "id": "9831f009",
   "metadata": {},
   "source": [
    "Prev gap to leader quali driver"
   ]
  },
  {
   "cell_type": "code",
   "execution_count": 253,
   "id": "10d31752",
   "metadata": {},
   "outputs": [],
   "source": [
    "categorical= ['constructorName','driver_fullname']\n",
    "numerical = ['position_prev_quali_driver','avg_position_3_prev_qualis_driver',\n",
    "            'prev_quali_gap_to_leader_driver','avg_gap_to_leader_3_qualis_driver','prev_gap_to_leader_team',\n",
    "'avg_prev_race_position_team']"
   ]
  },
  {
   "cell_type": "code",
   "execution_count": 254,
   "id": "4ae4a68c",
   "metadata": {},
   "outputs": [],
   "source": [
    "qualifying_2023['worst_position_team']=qualifying_2023.groupby('driver_fullname')['position_race'].transform('max')\n",
    "qualifying_2023['best_position_team']=qualifying_2023.groupby('driver_fullname')['position_race'].transform('min')\n",
    "qualifying_2023['avg_race_position_team']=(qualifying_2023['worst_position_team']+qualifying_2023['best_position_team'])/2"
   ]
  },
  {
   "cell_type": "markdown",
   "id": "f54cf3ee",
   "metadata": {},
   "source": [
    "Of these three races we want to have the data aggregated per driver"
   ]
  },
  {
   "cell_type": "code",
   "execution_count": 255,
   "id": "ab198c61",
   "metadata": {},
   "outputs": [],
   "source": [
    "aggreg_dict= {'position_quali':'mean',\"gap_to_leader\":'mean'}            \n",
    "qualifying_2023_agg_driv = qualifying_2023.groupby(['driver_fullname']).agg(aggreg_dict).reset_index()\n",
    "qualifying_2023_agg_driv.rename({'position_quali':'avg_position_3_prev_qualis_driver',\"gap_to_leader\":'avg_gap_to_leader_3_qualis_driver'},axis=1,inplace=True)"
   ]
  },
  {
   "cell_type": "code",
   "execution_count": 256,
   "id": "a9361743",
   "metadata": {},
   "outputs": [],
   "source": [
    "qualifying_2023['gap_to_leader_team']=qualifying_2023.groupby(['constructorName','round'])['gap_to_leader'].transform('min')"
   ]
  },
  {
   "cell_type": "code",
   "execution_count": 257,
   "id": "8e907dca",
   "metadata": {},
   "outputs": [],
   "source": [
    "qualifying_2023_pred=qualifying_2023_agg_driv.merge(qualifying_2023[qualifying_2023.circuit=='Albert Park Grand Prix Circuit'][['driver_fullname',\n",
    "                                                                                                                          'constructorName','position_quali','gap_to_leader',\"avg_race_position_team\",\"gap_to_leader_team\"]],on='driver_fullname',how='inner')"
   ]
  },
  {
   "cell_type": "code",
   "execution_count": 258,
   "id": "e75fe590",
   "metadata": {},
   "outputs": [],
   "source": [
    "qualifying_2023_pred.rename({\"position_quali\":\"position_prev_quali_driver\",'gap_to_leader':\"prev_quali_gap_to_leader_driver\",\n",
    "                        \"avg_race_position_team\":\"avg_prev_race_position_team\",\"gap_to_leader_team\":\"prev_gap_to_leader_team\"},axis=1,inplace=True)"
   ]
  },
  {
   "cell_type": "markdown",
   "id": "6370e30a",
   "metadata": {},
   "source": [
    "Looking at different data, this is the prediction of the weather that will happend during the day of qualifying. Also we put the number of metres that is going to have the circuit in 2023."
   ]
  },
  {
   "cell_type": "code",
   "execution_count": 259,
   "id": "88aa2081",
   "metadata": {},
   "outputs": [],
   "source": [
    "qualifying_2023_pred['temp']=21.1\n",
    "qualifying_2023_pred['precip']=0\n",
    "qualifying_2023_pred['wind_speed']=6.6\n",
    "qualifying_2023_pred['metres']=4657"
   ]
  },
  {
   "cell_type": "markdown",
   "id": "bed978a0",
   "metadata": {},
   "source": [
    "Here we calculate the prediction."
   ]
  },
  {
   "cell_type": "code",
   "execution_count": 260,
   "id": "30bd8ab1",
   "metadata": {},
   "outputs": [],
   "source": [
    "X=qualifying_2023_pred\n",
    "qualifying_2023_pred['laptime_predicted']=grid_search_model_quali.predict(X)\n",
    "qualifying_2023_pred['position_predicted']=qualifying_2023_pred['laptime_predicted'].rank()"
   ]
  },
  {
   "cell_type": "markdown",
   "id": "421b12ef",
   "metadata": {},
   "source": [
    "This is the prediction of the qualifying based on the 3 races occured in 2023"
   ]
  },
  {
   "cell_type": "code",
   "execution_count": 261,
   "id": "8a17b7ac",
   "metadata": {},
   "outputs": [
    {
     "data": {
      "text/html": [
       "<div>\n",
       "<style scoped>\n",
       "    .dataframe tbody tr th:only-of-type {\n",
       "        vertical-align: middle;\n",
       "    }\n",
       "\n",
       "    .dataframe tbody tr th {\n",
       "        vertical-align: top;\n",
       "    }\n",
       "\n",
       "    .dataframe thead th {\n",
       "        text-align: right;\n",
       "    }\n",
       "</style>\n",
       "<table border=\"1\" class=\"dataframe\">\n",
       "  <thead>\n",
       "    <tr style=\"text-align: right;\">\n",
       "      <th></th>\n",
       "      <th>driver_fullname</th>\n",
       "      <th>avg_position_3_prev_qualis_driver</th>\n",
       "      <th>avg_gap_to_leader_3_qualis_driver</th>\n",
       "      <th>constructorName</th>\n",
       "      <th>position_prev_quali_driver</th>\n",
       "      <th>prev_quali_gap_to_leader_driver</th>\n",
       "      <th>avg_prev_race_position_team</th>\n",
       "      <th>prev_gap_to_leader_team</th>\n",
       "      <th>temp</th>\n",
       "      <th>precip</th>\n",
       "      <th>wind_speed</th>\n",
       "      <th>metres</th>\n",
       "      <th>laptime_predicted</th>\n",
       "      <th>position_predicted</th>\n",
       "    </tr>\n",
       "  </thead>\n",
       "  <tbody>\n",
       "    <tr>\n",
       "      <th>4</th>\n",
       "      <td>Fernando Alonso</td>\n",
       "      <td>4.000000</td>\n",
       "      <td>500.000000</td>\n",
       "      <td>Aston Martin</td>\n",
       "      <td>4</td>\n",
       "      <td>407.0</td>\n",
       "      <td>3.0</td>\n",
       "      <td>407.0</td>\n",
       "      <td>21.1</td>\n",
       "      <td>0</td>\n",
       "      <td>6.6</td>\n",
       "      <td>4657</td>\n",
       "      <td>80656.984375</td>\n",
       "      <td>1.0</td>\n",
       "    </tr>\n",
       "    <tr>\n",
       "      <th>7</th>\n",
       "      <td>Lance Stroll</td>\n",
       "      <td>6.666667</td>\n",
       "      <td>794.666667</td>\n",
       "      <td>Aston Martin</td>\n",
       "      <td>6</td>\n",
       "      <td>576.0</td>\n",
       "      <td>12.0</td>\n",
       "      <td>407.0</td>\n",
       "      <td>21.1</td>\n",
       "      <td>0</td>\n",
       "      <td>6.6</td>\n",
       "      <td>4657</td>\n",
       "      <td>80687.054688</td>\n",
       "      <td>2.0</td>\n",
       "    </tr>\n",
       "    <tr>\n",
       "      <th>12</th>\n",
       "      <td>Nico Hulkenberg</td>\n",
       "      <td>10.333333</td>\n",
       "      <td>1096.666667</td>\n",
       "      <td>Haas</td>\n",
       "      <td>10</td>\n",
       "      <td>1003.0</td>\n",
       "      <td>11.0</td>\n",
       "      <td>1003.0</td>\n",
       "      <td>21.1</td>\n",
       "      <td>0</td>\n",
       "      <td>6.6</td>\n",
       "      <td>4657</td>\n",
       "      <td>80796.218750</td>\n",
       "      <td>3.0</td>\n",
       "    </tr>\n",
       "    <tr>\n",
       "      <th>6</th>\n",
       "      <td>Kevin Magnussen</td>\n",
       "      <td>14.666667</td>\n",
       "      <td>1611.000000</td>\n",
       "      <td>Haas</td>\n",
       "      <td>14</td>\n",
       "      <td>1397.0</td>\n",
       "      <td>13.5</td>\n",
       "      <td>1003.0</td>\n",
       "      <td>21.1</td>\n",
       "      <td>0</td>\n",
       "      <td>6.6</td>\n",
       "      <td>4657</td>\n",
       "      <td>80948.742188</td>\n",
       "      <td>4.0</td>\n",
       "    </tr>\n",
       "    <tr>\n",
       "      <th>2</th>\n",
       "      <td>Charles Leclerc</td>\n",
       "      <td>4.000000</td>\n",
       "      <td>361.333333</td>\n",
       "      <td>Ferrari</td>\n",
       "      <td>7</td>\n",
       "      <td>637.0</td>\n",
       "      <td>13.5</td>\n",
       "      <td>538.0</td>\n",
       "      <td>21.1</td>\n",
       "      <td>0</td>\n",
       "      <td>6.6</td>\n",
       "      <td>4657</td>\n",
       "      <td>81055.812500</td>\n",
       "      <td>5.0</td>\n",
       "    </tr>\n",
       "    <tr>\n",
       "      <th>1</th>\n",
       "      <td>Carlos Sainz</td>\n",
       "      <td>4.666667</td>\n",
       "      <td>550.000000</td>\n",
       "      <td>Ferrari</td>\n",
       "      <td>5</td>\n",
       "      <td>538.0</td>\n",
       "      <td>8.0</td>\n",
       "      <td>538.0</td>\n",
       "      <td>21.1</td>\n",
       "      <td>0</td>\n",
       "      <td>6.6</td>\n",
       "      <td>4657</td>\n",
       "      <td>81146.703125</td>\n",
       "      <td>6.0</td>\n",
       "    </tr>\n",
       "    <tr>\n",
       "      <th>16</th>\n",
       "      <td>Sergio Pérez</td>\n",
       "      <td>7.666667</td>\n",
       "      <td>706.666667</td>\n",
       "      <td>Red Bull</td>\n",
       "      <td>20</td>\n",
       "      <td>1982.0</td>\n",
       "      <td>3.0</td>\n",
       "      <td>0.0</td>\n",
       "      <td>21.1</td>\n",
       "      <td>0</td>\n",
       "      <td>6.6</td>\n",
       "      <td>4657</td>\n",
       "      <td>81333.726562</td>\n",
       "      <td>7.0</td>\n",
       "    </tr>\n",
       "    <tr>\n",
       "      <th>9</th>\n",
       "      <td>Lewis Hamilton</td>\n",
       "      <td>6.000000</td>\n",
       "      <td>668.666667</td>\n",
       "      <td>Mercedes</td>\n",
       "      <td>3</td>\n",
       "      <td>372.0</td>\n",
       "      <td>3.5</td>\n",
       "      <td>236.0</td>\n",
       "      <td>21.1</td>\n",
       "      <td>0</td>\n",
       "      <td>6.6</td>\n",
       "      <td>4657</td>\n",
       "      <td>81346.648438</td>\n",
       "      <td>8.0</td>\n",
       "    </tr>\n",
       "    <tr>\n",
       "      <th>5</th>\n",
       "      <td>George Russell</td>\n",
       "      <td>4.000000</td>\n",
       "      <td>486.666667</td>\n",
       "      <td>Mercedes</td>\n",
       "      <td>2</td>\n",
       "      <td>236.0</td>\n",
       "      <td>11.0</td>\n",
       "      <td>236.0</td>\n",
       "      <td>21.1</td>\n",
       "      <td>0</td>\n",
       "      <td>6.6</td>\n",
       "      <td>4657</td>\n",
       "      <td>81583.460938</td>\n",
       "      <td>9.0</td>\n",
       "    </tr>\n",
       "    <tr>\n",
       "      <th>15</th>\n",
       "      <td>Pierre Gasly</td>\n",
       "      <td>13.000000</td>\n",
       "      <td>1502.666667</td>\n",
       "      <td>Alpine</td>\n",
       "      <td>9</td>\n",
       "      <td>943.0</td>\n",
       "      <td>11.0</td>\n",
       "      <td>943.0</td>\n",
       "      <td>21.1</td>\n",
       "      <td>0</td>\n",
       "      <td>6.6</td>\n",
       "      <td>4657</td>\n",
       "      <td>81617.382812</td>\n",
       "      <td>10.0</td>\n",
       "    </tr>\n",
       "    <tr>\n",
       "      <th>13</th>\n",
       "      <td>Nyck de Vries</td>\n",
       "      <td>17.333333</td>\n",
       "      <td>1998.333333</td>\n",
       "      <td>AlphaTauri</td>\n",
       "      <td>15</td>\n",
       "      <td>1603.0</td>\n",
       "      <td>14.5</td>\n",
       "      <td>1367.0</td>\n",
       "      <td>21.1</td>\n",
       "      <td>0</td>\n",
       "      <td>6.6</td>\n",
       "      <td>4657</td>\n",
       "      <td>81634.492188</td>\n",
       "      <td>11.0</td>\n",
       "    </tr>\n",
       "    <tr>\n",
       "      <th>14</th>\n",
       "      <td>Oscar Piastri</td>\n",
       "      <td>14.333333</td>\n",
       "      <td>1718.666667</td>\n",
       "      <td>McLaren</td>\n",
       "      <td>16</td>\n",
       "      <td>1785.0</td>\n",
       "      <td>14.0</td>\n",
       "      <td>1387.0</td>\n",
       "      <td>21.1</td>\n",
       "      <td>0</td>\n",
       "      <td>6.6</td>\n",
       "      <td>4657</td>\n",
       "      <td>81823.695312</td>\n",
       "      <td>12.0</td>\n",
       "    </tr>\n",
       "    <tr>\n",
       "      <th>0</th>\n",
       "      <td>Alexander Albon</td>\n",
       "      <td>13.333333</td>\n",
       "      <td>1453.000000</td>\n",
       "      <td>Williams</td>\n",
       "      <td>8</td>\n",
       "      <td>877.0</td>\n",
       "      <td>14.5</td>\n",
       "      <td>877.0</td>\n",
       "      <td>21.1</td>\n",
       "      <td>0</td>\n",
       "      <td>6.6</td>\n",
       "      <td>4657</td>\n",
       "      <td>81868.460938</td>\n",
       "      <td>13.0</td>\n",
       "    </tr>\n",
       "    <tr>\n",
       "      <th>8</th>\n",
       "      <td>Lando Norris</td>\n",
       "      <td>14.333333</td>\n",
       "      <td>1747.333333</td>\n",
       "      <td>McLaren</td>\n",
       "      <td>13</td>\n",
       "      <td>1387.0</td>\n",
       "      <td>11.5</td>\n",
       "      <td>1387.0</td>\n",
       "      <td>21.1</td>\n",
       "      <td>0</td>\n",
       "      <td>6.6</td>\n",
       "      <td>4657</td>\n",
       "      <td>81943.867188</td>\n",
       "      <td>14.0</td>\n",
       "    </tr>\n",
       "    <tr>\n",
       "      <th>18</th>\n",
       "      <td>Yuki Tsunoda</td>\n",
       "      <td>14.000000</td>\n",
       "      <td>1947.666667</td>\n",
       "      <td>AlphaTauri</td>\n",
       "      <td>12</td>\n",
       "      <td>1367.0</td>\n",
       "      <td>10.5</td>\n",
       "      <td>1367.0</td>\n",
       "      <td>21.1</td>\n",
       "      <td>0</td>\n",
       "      <td>6.6</td>\n",
       "      <td>4657</td>\n",
       "      <td>82043.132812</td>\n",
       "      <td>15.0</td>\n",
       "    </tr>\n",
       "    <tr>\n",
       "      <th>3</th>\n",
       "      <td>Esteban Ocon</td>\n",
       "      <td>9.000000</td>\n",
       "      <td>1041.666667</td>\n",
       "      <td>Alpine</td>\n",
       "      <td>11</td>\n",
       "      <td>1036.0</td>\n",
       "      <td>13.0</td>\n",
       "      <td>943.0</td>\n",
       "      <td>21.1</td>\n",
       "      <td>0</td>\n",
       "      <td>6.6</td>\n",
       "      <td>4657</td>\n",
       "      <td>82155.062500</td>\n",
       "      <td>16.0</td>\n",
       "    </tr>\n",
       "    <tr>\n",
       "      <th>11</th>\n",
       "      <td>Max Verstappen</td>\n",
       "      <td>5.666667</td>\n",
       "      <td>7229.333333</td>\n",
       "      <td>Red Bull</td>\n",
       "      <td>1</td>\n",
       "      <td>0.0</td>\n",
       "      <td>1.5</td>\n",
       "      <td>0.0</td>\n",
       "      <td>21.1</td>\n",
       "      <td>0</td>\n",
       "      <td>6.6</td>\n",
       "      <td>4657</td>\n",
       "      <td>82237.859375</td>\n",
       "      <td>17.0</td>\n",
       "    </tr>\n",
       "    <tr>\n",
       "      <th>19</th>\n",
       "      <td>Zhou Guanyu</td>\n",
       "      <td>14.000000</td>\n",
       "      <td>1589.666667</td>\n",
       "      <td>Alfa Romeo</td>\n",
       "      <td>17</td>\n",
       "      <td>1808.0</td>\n",
       "      <td>12.5</td>\n",
       "      <td>1808.0</td>\n",
       "      <td>21.1</td>\n",
       "      <td>0</td>\n",
       "      <td>6.6</td>\n",
       "      <td>4657</td>\n",
       "      <td>82893.632812</td>\n",
       "      <td>18.0</td>\n",
       "    </tr>\n",
       "    <tr>\n",
       "      <th>17</th>\n",
       "      <td>Valtteri Bottas</td>\n",
       "      <td>15.000000</td>\n",
       "      <td>1706.666667</td>\n",
       "      <td>Alfa Romeo</td>\n",
       "      <td>19</td>\n",
       "      <td>1982.0</td>\n",
       "      <td>13.0</td>\n",
       "      <td>1808.0</td>\n",
       "      <td>21.1</td>\n",
       "      <td>0</td>\n",
       "      <td>6.6</td>\n",
       "      <td>4657</td>\n",
       "      <td>82974.046875</td>\n",
       "      <td>19.0</td>\n",
       "    </tr>\n",
       "    <tr>\n",
       "      <th>10</th>\n",
       "      <td>Logan Sargeant</td>\n",
       "      <td>18.000000</td>\n",
       "      <td>14671.333333</td>\n",
       "      <td>Williams</td>\n",
       "      <td>18</td>\n",
       "      <td>1825.0</td>\n",
       "      <td>14.0</td>\n",
       "      <td>877.0</td>\n",
       "      <td>21.1</td>\n",
       "      <td>0</td>\n",
       "      <td>6.6</td>\n",
       "      <td>4657</td>\n",
       "      <td>83768.210938</td>\n",
       "      <td>20.0</td>\n",
       "    </tr>\n",
       "  </tbody>\n",
       "</table>\n",
       "</div>"
      ],
      "text/plain": [
       "    driver_fullname  avg_position_3_prev_qualis_driver  \\\n",
       "4   Fernando Alonso                           4.000000   \n",
       "7      Lance Stroll                           6.666667   \n",
       "12  Nico Hulkenberg                          10.333333   \n",
       "6   Kevin Magnussen                          14.666667   \n",
       "2   Charles Leclerc                           4.000000   \n",
       "1      Carlos Sainz                           4.666667   \n",
       "16     Sergio Pérez                           7.666667   \n",
       "9    Lewis Hamilton                           6.000000   \n",
       "5    George Russell                           4.000000   \n",
       "15     Pierre Gasly                          13.000000   \n",
       "13    Nyck de Vries                          17.333333   \n",
       "14    Oscar Piastri                          14.333333   \n",
       "0   Alexander Albon                          13.333333   \n",
       "8      Lando Norris                          14.333333   \n",
       "18     Yuki Tsunoda                          14.000000   \n",
       "3      Esteban Ocon                           9.000000   \n",
       "11   Max Verstappen                           5.666667   \n",
       "19      Zhou Guanyu                          14.000000   \n",
       "17  Valtteri Bottas                          15.000000   \n",
       "10   Logan Sargeant                          18.000000   \n",
       "\n",
       "    avg_gap_to_leader_3_qualis_driver constructorName  \\\n",
       "4                          500.000000    Aston Martin   \n",
       "7                          794.666667    Aston Martin   \n",
       "12                        1096.666667            Haas   \n",
       "6                         1611.000000            Haas   \n",
       "2                          361.333333         Ferrari   \n",
       "1                          550.000000         Ferrari   \n",
       "16                         706.666667        Red Bull   \n",
       "9                          668.666667        Mercedes   \n",
       "5                          486.666667        Mercedes   \n",
       "15                        1502.666667          Alpine   \n",
       "13                        1998.333333      AlphaTauri   \n",
       "14                        1718.666667         McLaren   \n",
       "0                         1453.000000        Williams   \n",
       "8                         1747.333333         McLaren   \n",
       "18                        1947.666667      AlphaTauri   \n",
       "3                         1041.666667          Alpine   \n",
       "11                        7229.333333        Red Bull   \n",
       "19                        1589.666667      Alfa Romeo   \n",
       "17                        1706.666667      Alfa Romeo   \n",
       "10                       14671.333333        Williams   \n",
       "\n",
       "    position_prev_quali_driver  prev_quali_gap_to_leader_driver  \\\n",
       "4                            4                            407.0   \n",
       "7                            6                            576.0   \n",
       "12                          10                           1003.0   \n",
       "6                           14                           1397.0   \n",
       "2                            7                            637.0   \n",
       "1                            5                            538.0   \n",
       "16                          20                           1982.0   \n",
       "9                            3                            372.0   \n",
       "5                            2                            236.0   \n",
       "15                           9                            943.0   \n",
       "13                          15                           1603.0   \n",
       "14                          16                           1785.0   \n",
       "0                            8                            877.0   \n",
       "8                           13                           1387.0   \n",
       "18                          12                           1367.0   \n",
       "3                           11                           1036.0   \n",
       "11                           1                              0.0   \n",
       "19                          17                           1808.0   \n",
       "17                          19                           1982.0   \n",
       "10                          18                           1825.0   \n",
       "\n",
       "    avg_prev_race_position_team  prev_gap_to_leader_team  temp  precip  \\\n",
       "4                           3.0                    407.0  21.1       0   \n",
       "7                          12.0                    407.0  21.1       0   \n",
       "12                         11.0                   1003.0  21.1       0   \n",
       "6                          13.5                   1003.0  21.1       0   \n",
       "2                          13.5                    538.0  21.1       0   \n",
       "1                           8.0                    538.0  21.1       0   \n",
       "16                          3.0                      0.0  21.1       0   \n",
       "9                           3.5                    236.0  21.1       0   \n",
       "5                          11.0                    236.0  21.1       0   \n",
       "15                         11.0                    943.0  21.1       0   \n",
       "13                         14.5                   1367.0  21.1       0   \n",
       "14                         14.0                   1387.0  21.1       0   \n",
       "0                          14.5                    877.0  21.1       0   \n",
       "8                          11.5                   1387.0  21.1       0   \n",
       "18                         10.5                   1367.0  21.1       0   \n",
       "3                          13.0                    943.0  21.1       0   \n",
       "11                          1.5                      0.0  21.1       0   \n",
       "19                         12.5                   1808.0  21.1       0   \n",
       "17                         13.0                   1808.0  21.1       0   \n",
       "10                         14.0                    877.0  21.1       0   \n",
       "\n",
       "    wind_speed  metres  laptime_predicted  position_predicted  \n",
       "4          6.6    4657       80656.984375                 1.0  \n",
       "7          6.6    4657       80687.054688                 2.0  \n",
       "12         6.6    4657       80796.218750                 3.0  \n",
       "6          6.6    4657       80948.742188                 4.0  \n",
       "2          6.6    4657       81055.812500                 5.0  \n",
       "1          6.6    4657       81146.703125                 6.0  \n",
       "16         6.6    4657       81333.726562                 7.0  \n",
       "9          6.6    4657       81346.648438                 8.0  \n",
       "5          6.6    4657       81583.460938                 9.0  \n",
       "15         6.6    4657       81617.382812                10.0  \n",
       "13         6.6    4657       81634.492188                11.0  \n",
       "14         6.6    4657       81823.695312                12.0  \n",
       "0          6.6    4657       81868.460938                13.0  \n",
       "8          6.6    4657       81943.867188                14.0  \n",
       "18         6.6    4657       82043.132812                15.0  \n",
       "3          6.6    4657       82155.062500                16.0  \n",
       "11         6.6    4657       82237.859375                17.0  \n",
       "19         6.6    4657       82893.632812                18.0  \n",
       "17         6.6    4657       82974.046875                19.0  \n",
       "10         6.6    4657       83768.210938                20.0  "
      ]
     },
     "execution_count": 261,
     "metadata": {},
     "output_type": "execute_result"
    }
   ],
   "source": [
    "qualifying_2023_pred.sort_values(by='position_predicted')"
   ]
  },
  {
   "cell_type": "markdown",
   "id": "1baeaa25",
   "metadata": {},
   "source": [
    "# Race laps during 2023"
   ]
  },
  {
   "cell_type": "markdown",
   "id": "cb5a1ab1",
   "metadata": {},
   "source": [
    "With the current info we have no information about 2023. Therefore, we will acquire this information with Fast F1 Api. We have created a function to extract the data easier in a .py file."
   ]
  },
  {
   "cell_type": "markdown",
   "id": "1aa677f4",
   "metadata": {},
   "source": [
    "To get the data of the race 2023 season."
   ]
  },
  {
   "cell_type": "code",
   "execution_count": 262,
   "id": "551f697b",
   "metadata": {},
   "outputs": [],
   "source": [
    "f1_circuits_2023 = ['Bahrein','Saudi Ariabia','Australia']"
   ]
  },
  {
   "cell_type": "markdown",
   "id": "f14be3b0",
   "metadata": {},
   "source": [
    "First we get the data of the race"
   ]
  },
  {
   "cell_type": "code",
   "execution_count": 263,
   "id": "2aa1eccc",
   "metadata": {},
   "outputs": [
    {
     "name": "stderr",
     "output_type": "stream",
     "text": [
      "api         WARNING \t\n",
      "\n",
      "NO CACHE! Api caching has not been enabled! \n",
      "\tIt is highly recommended to enable this feature for much faster data loading!\n",
      "\tUse `fastf1.Cache.enable_cache('path/to/cache/')`\n",
      "\n",
      "core           INFO \tLoading data for Bahrain Grand Prix - Race [v2.3.0]\n",
      "api            INFO \tFetching driver list...\n",
      "api            INFO \tFetching timing data...\n",
      "api            INFO \tParsing timing data...\n",
      "api            INFO \tFetching timing app data...\n",
      "core           INFO \tProcessing timing data...\n",
      "api            INFO \tFetching session status data...\n",
      "api            INFO \tFetching track status data...\n",
      "api            INFO \tFetching car data...\n",
      "api            INFO \tParsing car data...\n",
      "api            INFO \tFetching position data...\n",
      "api            INFO \tParsing position data...\n",
      "api            INFO \tFetching weather data...\n",
      "api            INFO \tFetching race control messages...\n",
      "core           INFO \tFinished loading data for 20 drivers: ['1', '11', '14', '55', '44', '18', '63', '77', '10', '23', '22', '2', '20', '21', '27', '24', '4', '31', '16', '81']\n",
      "core           INFO \tLoading data for Bahrain Grand Prix - Race [v2.3.0]\n",
      "api            INFO \tFetching driver list...\n",
      "api            INFO \tFetching timing data...\n",
      "api            INFO \tParsing timing data...\n",
      "api            INFO \tFetching timing app data...\n",
      "core           INFO \tProcessing timing data...\n",
      "api            INFO \tFetching session status data...\n",
      "api            INFO \tFetching track status data...\n",
      "api            INFO \tFetching car data...\n",
      "api            INFO \tParsing car data...\n",
      "api            INFO \tFetching position data...\n",
      "api            INFO \tParsing position data...\n",
      "api            INFO \tFetching weather data...\n",
      "api            INFO \tFetching race control messages...\n",
      "core           INFO \tFinished loading data for 20 drivers: ['1', '11', '14', '55', '44', '18', '63', '77', '10', '23', '22', '2', '20', '21', '27', '24', '4', '31', '16', '81']\n",
      "core           INFO \tLoading data for Saudi Arabian Grand Prix - Race [v2.3.0]\n",
      "api            INFO \tFetching driver list...\n",
      "api            INFO \tFetching timing data...\n",
      "api            INFO \tParsing timing data...\n",
      "api            INFO \tFetching timing app data...\n",
      "core           INFO \tProcessing timing data...\n",
      "api            INFO \tFetching session status data...\n",
      "api            INFO \tFetching track status data...\n",
      "api            INFO \tFetching car data...\n",
      "api            INFO \tParsing car data...\n",
      "api            INFO \tFetching position data...\n",
      "api            INFO \tParsing position data...\n",
      "api         WARNING \tDriver 241: Position data is incomplete!\n",
      "api         WARNING \tDriver 242: Position data is incomplete!\n",
      "api         WARNING \tDriver 243: Position data is incomplete!\n",
      "api            INFO \tFetching weather data...\n",
      "api            INFO \tFetching race control messages...\n",
      "core           INFO \tFinished loading data for 20 drivers: ['11', '1', '14', '63', '44', '55', '16', '31', '10', '20', '22', '27', '24', '21', '81', '2', '4', '77', '23', '18']\n",
      "core           INFO \tLoading data for Saudi Arabian Grand Prix - Race [v2.3.0]\n",
      "api            INFO \tFetching driver list...\n",
      "api            INFO \tFetching timing data...\n",
      "api            INFO \tParsing timing data...\n",
      "api            INFO \tFetching timing app data...\n",
      "core           INFO \tProcessing timing data...\n",
      "api            INFO \tFetching session status data...\n",
      "api            INFO \tFetching track status data...\n",
      "api            INFO \tFetching car data...\n",
      "api            INFO \tParsing car data...\n",
      "api            INFO \tFetching position data...\n",
      "api            INFO \tParsing position data...\n",
      "api         WARNING \tDriver 241: Position data is incomplete!\n",
      "api         WARNING \tDriver 242: Position data is incomplete!\n",
      "api         WARNING \tDriver 243: Position data is incomplete!\n",
      "api            INFO \tFetching weather data...\n",
      "api            INFO \tFetching race control messages...\n",
      "core           INFO \tFinished loading data for 20 drivers: ['11', '1', '14', '63', '44', '55', '16', '31', '10', '20', '22', '27', '24', '21', '81', '2', '4', '77', '23', '18']\n",
      "core           INFO \tLoading data for Australian Grand Prix - Race [v2.3.0]\n",
      "api            INFO \tFetching driver list...\n",
      "api            INFO \tFetching timing data...\n",
      "api            INFO \tParsing timing data...\n",
      "api            INFO \tFetching timing app data...\n",
      "core           INFO \tProcessing timing data...\n",
      "api            INFO \tFetching session status data...\n",
      "api            INFO \tFetching track status data...\n",
      "api            INFO \tFetching car data...\n",
      "api            INFO \tParsing car data...\n",
      "api            INFO \tFetching position data...\n",
      "api            INFO \tParsing position data...\n",
      "api         WARNING \tDriver 241: Position data is incomplete!\n",
      "api         WARNING \tDriver 242: Position data is incomplete!\n",
      "api         WARNING \tDriver 243: Position data is incomplete!\n",
      "api            INFO \tFetching weather data...\n",
      "api            INFO \tFetching race control messages...\n",
      "core           INFO \tFinished loading data for 20 drivers: ['1', '44', '14', '18', '11', '4', '27', '81', '24', '22', '77', '55', '10', '31', '21', '2', '20', '63', '23', '16']\n",
      "core           INFO \tLoading data for Australian Grand Prix - Race [v2.3.0]\n",
      "api            INFO \tFetching driver list...\n",
      "api            INFO \tFetching timing data...\n",
      "api            INFO \tParsing timing data...\n",
      "api            INFO \tFetching timing app data...\n",
      "core           INFO \tProcessing timing data...\n",
      "api            INFO \tFetching session status data...\n",
      "api            INFO \tFetching track status data...\n",
      "api            INFO \tFetching car data...\n",
      "api            INFO \tParsing car data...\n",
      "api            INFO \tFetching position data...\n",
      "api            INFO \tParsing position data...\n",
      "api         WARNING \tDriver 241: Position data is incomplete!\n",
      "api         WARNING \tDriver 242: Position data is incomplete!\n",
      "api         WARNING \tDriver 243: Position data is incomplete!\n",
      "api            INFO \tFetching weather data...\n",
      "api            INFO \tFetching race control messages...\n",
      "core           INFO \tFinished loading data for 20 drivers: ['1', '44', '14', '18', '11', '4', '27', '81', '24', '22', '77', '55', '10', '31', '21', '2', '20', '63', '23', '16']\n"
     ]
    }
   ],
   "source": [
    "lap_times_2023, weather_2023_race, results_2023_race = f2.results(2023,f1_circuits_2023,'R')"
   ]
  },
  {
   "cell_type": "markdown",
   "id": "7708ed27",
   "metadata": {},
   "source": [
    "Then we get the results of the qualifying."
   ]
  },
  {
   "cell_type": "code",
   "execution_count": 264,
   "id": "acfbc1ae",
   "metadata": {},
   "outputs": [
    {
     "name": "stderr",
     "output_type": "stream",
     "text": [
      "core           INFO \tLoading data for Bahrain Grand Prix - Qualifying [v2.3.0]\n",
      "api            INFO \tFetching driver list...\n",
      "api            INFO \tFetching timing data...\n",
      "api            INFO \tParsing timing data...\n",
      "api            INFO \tFetching timing app data...\n",
      "core           INFO \tProcessing timing data...\n",
      "api            INFO \tFetching session status data...\n",
      "api            INFO \tFetching track status data...\n",
      "api            INFO \tFetching car data...\n",
      "api            INFO \tParsing car data...\n",
      "api            INFO \tFetching position data...\n",
      "api            INFO \tParsing position data...\n",
      "api            INFO \tFetching weather data...\n",
      "api            INFO \tFetching race control messages...\n",
      "core           INFO \tFinished loading data for 20 drivers: ['1', '11', '16', '55', '14', '63', '44', '18', '31', '27', '4', '77', '24', '22', '23', '2', '20', '81', '21', '10']\n",
      "core           INFO \tLoading data for Bahrain Grand Prix - Qualifying [v2.3.0]\n",
      "api            INFO \tFetching driver list...\n",
      "api            INFO \tFetching timing data...\n",
      "api            INFO \tParsing timing data...\n",
      "api            INFO \tFetching timing app data...\n",
      "core           INFO \tProcessing timing data...\n",
      "api            INFO \tFetching session status data...\n",
      "api            INFO \tFetching track status data...\n",
      "api            INFO \tFetching car data...\n",
      "api            INFO \tParsing car data...\n",
      "api            INFO \tFetching position data...\n",
      "api            INFO \tParsing position data...\n",
      "api            INFO \tFetching weather data...\n",
      "api            INFO \tFetching race control messages...\n",
      "core           INFO \tFinished loading data for 20 drivers: ['1', '11', '16', '55', '14', '63', '44', '18', '31', '27', '4', '77', '24', '22', '23', '2', '20', '81', '21', '10']\n",
      "core           INFO \tLoading data for Saudi Arabian Grand Prix - Qualifying [v2.3.0]\n",
      "api            INFO \tFetching driver list...\n",
      "api            INFO \tFetching timing data...\n",
      "api            INFO \tParsing timing data...\n",
      "api            INFO \tFetching timing app data...\n",
      "core           INFO \tProcessing timing data...\n",
      "api            INFO \tFetching session status data...\n",
      "api            INFO \tFetching track status data...\n",
      "api            INFO \tFetching car data...\n",
      "api            INFO \tParsing car data...\n",
      "api            INFO \tFetching position data...\n",
      "api            INFO \tParsing position data...\n",
      "api            INFO \tFetching weather data...\n",
      "api            INFO \tFetching race control messages...\n",
      "core           INFO \tFinished loading data for 20 drivers: ['11', '16', '14', '63', '55', '18', '31', '44', '81', '10', '27', '24', '20', '77', '1', '22', '23', '21', '4', '2']\n",
      "core           INFO \tLoading data for Saudi Arabian Grand Prix - Qualifying [v2.3.0]\n",
      "api            INFO \tFetching driver list...\n",
      "api            INFO \tFetching timing data...\n",
      "api            INFO \tParsing timing data...\n",
      "api            INFO \tFetching timing app data...\n",
      "core           INFO \tProcessing timing data...\n",
      "api            INFO \tFetching session status data...\n",
      "api            INFO \tFetching track status data...\n",
      "api            INFO \tFetching car data...\n",
      "api            INFO \tParsing car data...\n",
      "api            INFO \tFetching position data...\n",
      "api            INFO \tParsing position data...\n",
      "api            INFO \tFetching weather data...\n",
      "api            INFO \tFetching race control messages...\n",
      "core           INFO \tFinished loading data for 20 drivers: ['11', '16', '14', '63', '55', '18', '31', '44', '81', '10', '27', '24', '20', '77', '1', '22', '23', '21', '4', '2']\n",
      "core           INFO \tLoading data for Australian Grand Prix - Qualifying [v2.3.0]\n",
      "api            INFO \tFetching driver list...\n",
      "api            INFO \tFetching timing data...\n",
      "api            INFO \tParsing timing data...\n",
      "api            INFO \tFetching timing app data...\n",
      "core           INFO \tProcessing timing data...\n",
      "api            INFO \tFetching session status data...\n",
      "api            INFO \tFetching track status data...\n",
      "api            INFO \tFetching car data...\n",
      "api            INFO \tParsing car data...\n",
      "api            INFO \tFetching position data...\n",
      "api            INFO \tParsing position data...\n",
      "api            INFO \tFetching weather data...\n",
      "api            INFO \tFetching race control messages...\n",
      "core           INFO \tFinished loading data for 20 drivers: ['1', '63', '44', '14', '55', '18', '16', '23', '10', '27', '31', '22', '4', '20', '21', '81', '24', '2', '77', '11']\n",
      "core           INFO \tLoading data for Australian Grand Prix - Qualifying [v2.3.0]\n",
      "api            INFO \tFetching driver list...\n",
      "api            INFO \tFetching timing data...\n",
      "api            INFO \tParsing timing data...\n",
      "api            INFO \tFetching timing app data...\n",
      "core           INFO \tProcessing timing data...\n",
      "api            INFO \tFetching session status data...\n",
      "api            INFO \tFetching track status data...\n",
      "api            INFO \tFetching car data...\n",
      "api            INFO \tParsing car data...\n",
      "api            INFO \tFetching position data...\n",
      "api            INFO \tParsing position data...\n",
      "api            INFO \tFetching weather data...\n",
      "api            INFO \tFetching race control messages...\n",
      "core           INFO \tFinished loading data for 20 drivers: ['1', '63', '44', '14', '55', '18', '16', '23', '10', '27', '31', '22', '4', '20', '21', '81', '24', '2', '77', '11']\n"
     ]
    }
   ],
   "source": [
    "lap_times_2023_quali, weather_2023_quali, results_2023_quali = f2.results(2023,f1_circuits_2023,'Q')"
   ]
  },
  {
   "cell_type": "markdown",
   "id": "35a5eb56",
   "metadata": {},
   "source": [
    "We will modify the results extracted by the FastF1 API in order to be able to pass this data to model and predict the position"
   ]
  },
  {
   "cell_type": "code",
   "execution_count": 265,
   "id": "e2e6a640",
   "metadata": {},
   "outputs": [],
   "source": [
    "results_2023_race.rename({'GridPosition':'position_quali_driver'},inplace=True)"
   ]
  },
  {
   "cell_type": "markdown",
   "id": "ea357681",
   "metadata": {},
   "source": [
    "We want to know the results of last race occurred, which was in Australia"
   ]
  },
  {
   "cell_type": "code",
   "execution_count": 266,
   "id": "e1e9842e",
   "metadata": {},
   "outputs": [],
   "source": [
    "last_results=results_2023_race[results_2023_race.Location=='Australia'][['FullName','Position']]"
   ]
  },
  {
   "cell_type": "markdown",
   "id": "70bbecf5",
   "metadata": {},
   "source": [
    "We want to know if the driver was able to pass to Q3. You are able to pass to Q3 if you do a a lap in the TOP 10."
   ]
  },
  {
   "cell_type": "code",
   "execution_count": 267,
   "id": "09bedcc1",
   "metadata": {},
   "outputs": [],
   "source": [
    "results_2023_quali['q3_qualifying_driver']=np.where(results_2023_quali['Position']<=10,1,0)"
   ]
  },
  {
   "cell_type": "code",
   "execution_count": 268,
   "id": "76e17102",
   "metadata": {},
   "outputs": [],
   "source": [
    "results_2023_quali['poles_quali_driver']=np.where(results_2023_quali['Position']==1,1,0)"
   ]
  },
  {
   "cell_type": "code",
   "execution_count": 269,
   "id": "fa4b9d2f",
   "metadata": {},
   "outputs": [],
   "source": [
    "results_2023=results_2023_quali[results_2023_quali.Location=='Australia'][['FullName','TeamName','q3_qualifying_driver','poles_quali_driver']].merge(last_results,on='FullName',how='inner')\n",
    "results_2023.rename({'q3_qualifying_driver':'q3_previous_qualifying_driver',\"poles_quali_driver\":\"poles_prev_quali_driver\",\"Position\":\"previous_finalposition_race_driver\",\n",
    "                    'FullName':'driver_fullname','TeamName':'constructorName'},axis=1,inplace=True)\n"
   ]
  },
  {
   "cell_type": "markdown",
   "id": "6ceb5520",
   "metadata": {},
   "source": [
    "We are going to change the name of the drivers to be the same."
   ]
  },
  {
   "cell_type": "code",
   "execution_count": 270,
   "id": "7cd7badf",
   "metadata": {},
   "outputs": [],
   "source": [
    "results_2023.loc[results_2023.driver_fullname=='Nyck De Vries','driver_fullname']='Nyck de Vries'\n",
    "results_2023.loc[results_2023.driver_fullname=='Sergio Perez','driver_fullname']='Sergio Pérez'\n",
    "results_2023.loc[results_2023.driver_fullname=='Guanyu Zhou','driver_fullname']='Zhou Guanyu'"
   ]
  },
  {
   "cell_type": "code",
   "execution_count": 271,
   "id": "7b37513e",
   "metadata": {},
   "outputs": [],
   "source": [
    "race_prediction=results_2023.merge(qualifying_2023_pred[['position_predicted','driver_fullname']],on='driver_fullname',how='inner')\n",
    "race_prediction=race_prediction.rename({'position_predicted':'rank_position_predicted'},axis=1)\n"
   ]
  },
  {
   "cell_type": "markdown",
   "id": "4d571c2b",
   "metadata": {},
   "source": [
    "Here we are going to predict the race"
   ]
  },
  {
   "cell_type": "code",
   "execution_count": 272,
   "id": "79ad9dda",
   "metadata": {},
   "outputs": [],
   "source": [
    "X=race_prediction.drop('driver_fullname',axis=1)\n",
    "race_prediction['race_position_prediction']=grid_search_model_race.predict(X)\n",
    "race_prediction['race_position_prediction_rank']=race_prediction['race_position_prediction'].rank()"
   ]
  },
  {
   "cell_type": "markdown",
   "id": "bbab2483",
   "metadata": {},
   "source": [
    "Those are the results of the prediction for the race."
   ]
  },
  {
   "cell_type": "code",
   "execution_count": 273,
   "id": "c4d260e7",
   "metadata": {},
   "outputs": [
    {
     "data": {
      "text/html": [
       "<div>\n",
       "<style scoped>\n",
       "    .dataframe tbody tr th:only-of-type {\n",
       "        vertical-align: middle;\n",
       "    }\n",
       "\n",
       "    .dataframe tbody tr th {\n",
       "        vertical-align: top;\n",
       "    }\n",
       "\n",
       "    .dataframe thead th {\n",
       "        text-align: right;\n",
       "    }\n",
       "</style>\n",
       "<table border=\"1\" class=\"dataframe\">\n",
       "  <thead>\n",
       "    <tr style=\"text-align: right;\">\n",
       "      <th></th>\n",
       "      <th>driver_fullname</th>\n",
       "      <th>constructorName</th>\n",
       "      <th>q3_previous_qualifying_driver</th>\n",
       "      <th>poles_prev_quali_driver</th>\n",
       "      <th>previous_finalposition_race_driver</th>\n",
       "      <th>rank_position_predicted</th>\n",
       "      <th>race_position_prediction</th>\n",
       "      <th>race_position_prediction_rank</th>\n",
       "    </tr>\n",
       "  </thead>\n",
       "  <tbody>\n",
       "    <tr>\n",
       "      <th>5</th>\n",
       "      <td>Lance Stroll</td>\n",
       "      <td>Aston Martin</td>\n",
       "      <td>1</td>\n",
       "      <td>0</td>\n",
       "      <td>4.0</td>\n",
       "      <td>2.0</td>\n",
       "      <td>3.416995</td>\n",
       "      <td>1.0</td>\n",
       "    </tr>\n",
       "    <tr>\n",
       "      <th>3</th>\n",
       "      <td>Fernando Alonso</td>\n",
       "      <td>Aston Martin</td>\n",
       "      <td>1</td>\n",
       "      <td>0</td>\n",
       "      <td>3.0</td>\n",
       "      <td>1.0</td>\n",
       "      <td>3.692216</td>\n",
       "      <td>2.0</td>\n",
       "    </tr>\n",
       "    <tr>\n",
       "      <th>6</th>\n",
       "      <td>Charles Leclerc</td>\n",
       "      <td>Ferrari</td>\n",
       "      <td>1</td>\n",
       "      <td>0</td>\n",
       "      <td>20.0</td>\n",
       "      <td>5.0</td>\n",
       "      <td>4.078252</td>\n",
       "      <td>3.0</td>\n",
       "    </tr>\n",
       "    <tr>\n",
       "      <th>13</th>\n",
       "      <td>Kevin Magnussen</td>\n",
       "      <td>Haas F1 Team</td>\n",
       "      <td>0</td>\n",
       "      <td>0</td>\n",
       "      <td>17.0</td>\n",
       "      <td>4.0</td>\n",
       "      <td>4.363642</td>\n",
       "      <td>4.0</td>\n",
       "    </tr>\n",
       "    <tr>\n",
       "      <th>9</th>\n",
       "      <td>Nico Hulkenberg</td>\n",
       "      <td>Haas F1 Team</td>\n",
       "      <td>1</td>\n",
       "      <td>0</td>\n",
       "      <td>7.0</td>\n",
       "      <td>3.0</td>\n",
       "      <td>4.467359</td>\n",
       "      <td>5.0</td>\n",
       "    </tr>\n",
       "    <tr>\n",
       "      <th>4</th>\n",
       "      <td>Carlos Sainz</td>\n",
       "      <td>Ferrari</td>\n",
       "      <td>1</td>\n",
       "      <td>0</td>\n",
       "      <td>12.0</td>\n",
       "      <td>6.0</td>\n",
       "      <td>5.450569</td>\n",
       "      <td>6.0</td>\n",
       "    </tr>\n",
       "    <tr>\n",
       "      <th>2</th>\n",
       "      <td>Lewis Hamilton</td>\n",
       "      <td>Mercedes</td>\n",
       "      <td>1</td>\n",
       "      <td>0</td>\n",
       "      <td>2.0</td>\n",
       "      <td>8.0</td>\n",
       "      <td>6.179878</td>\n",
       "      <td>7.0</td>\n",
       "    </tr>\n",
       "    <tr>\n",
       "      <th>19</th>\n",
       "      <td>Sergio Pérez</td>\n",
       "      <td>Red Bull Racing</td>\n",
       "      <td>0</td>\n",
       "      <td>0</td>\n",
       "      <td>5.0</td>\n",
       "      <td>7.0</td>\n",
       "      <td>7.102300</td>\n",
       "      <td>8.0</td>\n",
       "    </tr>\n",
       "    <tr>\n",
       "      <th>8</th>\n",
       "      <td>Pierre Gasly</td>\n",
       "      <td>Alpine</td>\n",
       "      <td>1</td>\n",
       "      <td>0</td>\n",
       "      <td>13.0</td>\n",
       "      <td>10.0</td>\n",
       "      <td>10.438890</td>\n",
       "      <td>9.0</td>\n",
       "    </tr>\n",
       "    <tr>\n",
       "      <th>14</th>\n",
       "      <td>Nyck de Vries</td>\n",
       "      <td>AlphaTauri</td>\n",
       "      <td>0</td>\n",
       "      <td>0</td>\n",
       "      <td>15.0</td>\n",
       "      <td>11.0</td>\n",
       "      <td>11.411619</td>\n",
       "      <td>10.0</td>\n",
       "    </tr>\n",
       "    <tr>\n",
       "      <th>11</th>\n",
       "      <td>Yuki Tsunoda</td>\n",
       "      <td>AlphaTauri</td>\n",
       "      <td>0</td>\n",
       "      <td>0</td>\n",
       "      <td>10.0</td>\n",
       "      <td>15.0</td>\n",
       "      <td>11.744244</td>\n",
       "      <td>11.0</td>\n",
       "    </tr>\n",
       "    <tr>\n",
       "      <th>7</th>\n",
       "      <td>Alexander Albon</td>\n",
       "      <td>Williams</td>\n",
       "      <td>1</td>\n",
       "      <td>0</td>\n",
       "      <td>19.0</td>\n",
       "      <td>13.0</td>\n",
       "      <td>11.875700</td>\n",
       "      <td>12.0</td>\n",
       "    </tr>\n",
       "    <tr>\n",
       "      <th>12</th>\n",
       "      <td>Lando Norris</td>\n",
       "      <td>McLaren</td>\n",
       "      <td>0</td>\n",
       "      <td>0</td>\n",
       "      <td>6.0</td>\n",
       "      <td>14.0</td>\n",
       "      <td>12.245424</td>\n",
       "      <td>13.0</td>\n",
       "    </tr>\n",
       "    <tr>\n",
       "      <th>10</th>\n",
       "      <td>Esteban Ocon</td>\n",
       "      <td>Alpine</td>\n",
       "      <td>0</td>\n",
       "      <td>0</td>\n",
       "      <td>14.0</td>\n",
       "      <td>16.0</td>\n",
       "      <td>12.439829</td>\n",
       "      <td>14.0</td>\n",
       "    </tr>\n",
       "    <tr>\n",
       "      <th>15</th>\n",
       "      <td>Oscar Piastri</td>\n",
       "      <td>McLaren</td>\n",
       "      <td>0</td>\n",
       "      <td>0</td>\n",
       "      <td>8.0</td>\n",
       "      <td>12.0</td>\n",
       "      <td>12.469524</td>\n",
       "      <td>15.0</td>\n",
       "    </tr>\n",
       "    <tr>\n",
       "      <th>1</th>\n",
       "      <td>George Russell</td>\n",
       "      <td>Mercedes</td>\n",
       "      <td>1</td>\n",
       "      <td>0</td>\n",
       "      <td>18.0</td>\n",
       "      <td>9.0</td>\n",
       "      <td>12.692064</td>\n",
       "      <td>16.0</td>\n",
       "    </tr>\n",
       "    <tr>\n",
       "      <th>0</th>\n",
       "      <td>Max Verstappen</td>\n",
       "      <td>Red Bull Racing</td>\n",
       "      <td>1</td>\n",
       "      <td>1</td>\n",
       "      <td>1.0</td>\n",
       "      <td>17.0</td>\n",
       "      <td>13.104079</td>\n",
       "      <td>17.0</td>\n",
       "    </tr>\n",
       "    <tr>\n",
       "      <th>16</th>\n",
       "      <td>Zhou Guanyu</td>\n",
       "      <td>Alfa Romeo</td>\n",
       "      <td>0</td>\n",
       "      <td>0</td>\n",
       "      <td>9.0</td>\n",
       "      <td>18.0</td>\n",
       "      <td>14.911374</td>\n",
       "      <td>18.0</td>\n",
       "    </tr>\n",
       "    <tr>\n",
       "      <th>18</th>\n",
       "      <td>Valtteri Bottas</td>\n",
       "      <td>Alfa Romeo</td>\n",
       "      <td>0</td>\n",
       "      <td>0</td>\n",
       "      <td>11.0</td>\n",
       "      <td>19.0</td>\n",
       "      <td>16.143158</td>\n",
       "      <td>19.0</td>\n",
       "    </tr>\n",
       "    <tr>\n",
       "      <th>17</th>\n",
       "      <td>Logan Sargeant</td>\n",
       "      <td>Williams</td>\n",
       "      <td>0</td>\n",
       "      <td>0</td>\n",
       "      <td>16.0</td>\n",
       "      <td>20.0</td>\n",
       "      <td>16.269012</td>\n",
       "      <td>20.0</td>\n",
       "    </tr>\n",
       "  </tbody>\n",
       "</table>\n",
       "</div>"
      ],
      "text/plain": [
       "    driver_fullname  constructorName  q3_previous_qualifying_driver  \\\n",
       "5      Lance Stroll     Aston Martin                              1   \n",
       "3   Fernando Alonso     Aston Martin                              1   \n",
       "6   Charles Leclerc          Ferrari                              1   \n",
       "13  Kevin Magnussen     Haas F1 Team                              0   \n",
       "9   Nico Hulkenberg     Haas F1 Team                              1   \n",
       "4      Carlos Sainz          Ferrari                              1   \n",
       "2    Lewis Hamilton         Mercedes                              1   \n",
       "19     Sergio Pérez  Red Bull Racing                              0   \n",
       "8      Pierre Gasly           Alpine                              1   \n",
       "14    Nyck de Vries       AlphaTauri                              0   \n",
       "11     Yuki Tsunoda       AlphaTauri                              0   \n",
       "7   Alexander Albon         Williams                              1   \n",
       "12     Lando Norris          McLaren                              0   \n",
       "10     Esteban Ocon           Alpine                              0   \n",
       "15    Oscar Piastri          McLaren                              0   \n",
       "1    George Russell         Mercedes                              1   \n",
       "0    Max Verstappen  Red Bull Racing                              1   \n",
       "16      Zhou Guanyu       Alfa Romeo                              0   \n",
       "18  Valtteri Bottas       Alfa Romeo                              0   \n",
       "17   Logan Sargeant         Williams                              0   \n",
       "\n",
       "    poles_prev_quali_driver  previous_finalposition_race_driver  \\\n",
       "5                         0                                 4.0   \n",
       "3                         0                                 3.0   \n",
       "6                         0                                20.0   \n",
       "13                        0                                17.0   \n",
       "9                         0                                 7.0   \n",
       "4                         0                                12.0   \n",
       "2                         0                                 2.0   \n",
       "19                        0                                 5.0   \n",
       "8                         0                                13.0   \n",
       "14                        0                                15.0   \n",
       "11                        0                                10.0   \n",
       "7                         0                                19.0   \n",
       "12                        0                                 6.0   \n",
       "10                        0                                14.0   \n",
       "15                        0                                 8.0   \n",
       "1                         0                                18.0   \n",
       "0                         1                                 1.0   \n",
       "16                        0                                 9.0   \n",
       "18                        0                                11.0   \n",
       "17                        0                                16.0   \n",
       "\n",
       "    rank_position_predicted  race_position_prediction  \\\n",
       "5                       2.0                  3.416995   \n",
       "3                       1.0                  3.692216   \n",
       "6                       5.0                  4.078252   \n",
       "13                      4.0                  4.363642   \n",
       "9                       3.0                  4.467359   \n",
       "4                       6.0                  5.450569   \n",
       "2                       8.0                  6.179878   \n",
       "19                      7.0                  7.102300   \n",
       "8                      10.0                 10.438890   \n",
       "14                     11.0                 11.411619   \n",
       "11                     15.0                 11.744244   \n",
       "7                      13.0                 11.875700   \n",
       "12                     14.0                 12.245424   \n",
       "10                     16.0                 12.439829   \n",
       "15                     12.0                 12.469524   \n",
       "1                       9.0                 12.692064   \n",
       "0                      17.0                 13.104079   \n",
       "16                     18.0                 14.911374   \n",
       "18                     19.0                 16.143158   \n",
       "17                     20.0                 16.269012   \n",
       "\n",
       "    race_position_prediction_rank  \n",
       "5                             1.0  \n",
       "3                             2.0  \n",
       "6                             3.0  \n",
       "13                            4.0  \n",
       "9                             5.0  \n",
       "4                             6.0  \n",
       "2                             7.0  \n",
       "19                            8.0  \n",
       "8                             9.0  \n",
       "14                           10.0  \n",
       "11                           11.0  \n",
       "7                            12.0  \n",
       "12                           13.0  \n",
       "10                           14.0  \n",
       "15                           15.0  \n",
       "1                            16.0  \n",
       "0                            17.0  \n",
       "16                           18.0  \n",
       "18                           19.0  \n",
       "17                           20.0  "
      ]
     },
     "execution_count": 273,
     "metadata": {},
     "output_type": "execute_result"
    }
   ],
   "source": [
    "race_prediction.sort_values(by='race_position_prediction')"
   ]
  },
  {
   "cell_type": "markdown",
   "id": "bd1bd266",
   "metadata": {},
   "source": [
    "Now we are going to calculate the probability of Fernando Alonso finishing first on the race, even the position predicted is 3."
   ]
  },
  {
   "cell_type": "code",
   "execution_count": 274,
   "id": "2ce347c7",
   "metadata": {},
   "outputs": [],
   "source": [
    "prediction= race_prediction['race_position_prediction_rank'].to_numpy()\n",
    "cdf = norm.cdf(prediction)"
   ]
  },
  {
   "cell_type": "code",
   "execution_count": 275,
   "id": "ab10b124",
   "metadata": {},
   "outputs": [
    {
     "name": "stdout",
     "output_type": "stream",
     "text": [
      "probability of Fernando Alonso finishing first is 0.0\n"
     ]
    }
   ],
   "source": [
    "fernando_position=2\n",
    "fernando_prob=np.prod(1-cdf[:fernando_position])\n",
    "print('probability of Fernando Alonso finishing first is',fernando_prob)"
   ]
  },
  {
   "cell_type": "code",
   "execution_count": null,
   "id": "cc2b440b",
   "metadata": {},
   "outputs": [],
   "source": []
  }
 ],
 "metadata": {
  "kernelspec": {
   "display_name": "Python 3 (ipykernel)",
   "language": "python",
   "name": "python3"
  },
  "language_info": {
   "codemirror_mode": {
    "name": "ipython",
    "version": 3
   },
   "file_extension": ".py",
   "mimetype": "text/x-python",
   "name": "python",
   "nbconvert_exporter": "python",
   "pygments_lexer": "ipython3",
   "version": "3.9.12"
  }
 },
 "nbformat": 4,
 "nbformat_minor": 5
}
